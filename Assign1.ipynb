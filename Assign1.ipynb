{
  "nbformat": 4,
  "nbformat_minor": 0,
  "metadata": {
    "colab": {
      "provenance": [],
      "authorship_tag": "ABX9TyPiIGTrl3mQ6hjWFOKpBLET",
      "include_colab_link": true
    },
    "kernelspec": {
      "name": "python3",
      "display_name": "Python 3"
    },
    "language_info": {
      "name": "python"
    },
    "widgets": {
      "application/vnd.jupyter.widget-state+json": {
        "792061f0fab74591a051e3e4092f9bcc": {
          "model_module": "@jupyter-widgets/controls",
          "model_name": "HBoxModel",
          "model_module_version": "1.5.0",
          "state": {
            "_dom_classes": [],
            "_model_module": "@jupyter-widgets/controls",
            "_model_module_version": "1.5.0",
            "_model_name": "HBoxModel",
            "_view_count": null,
            "_view_module": "@jupyter-widgets/controls",
            "_view_module_version": "1.5.0",
            "_view_name": "HBoxView",
            "box_style": "",
            "children": [
              "IPY_MODEL_b03b3ef27eb847ce8c985e0f250dc4e3",
              "IPY_MODEL_215a9fbfb55143d380e74a6da0c4fbc2",
              "IPY_MODEL_9c4b28dace6541ac959c666033b28c39"
            ],
            "layout": "IPY_MODEL_a4c1e707462942c69a5a7366ed1c8a87"
          }
        },
        "b03b3ef27eb847ce8c985e0f250dc4e3": {
          "model_module": "@jupyter-widgets/controls",
          "model_name": "HTMLModel",
          "model_module_version": "1.5.0",
          "state": {
            "_dom_classes": [],
            "_model_module": "@jupyter-widgets/controls",
            "_model_module_version": "1.5.0",
            "_model_name": "HTMLModel",
            "_view_count": null,
            "_view_module": "@jupyter-widgets/controls",
            "_view_module_version": "1.5.0",
            "_view_name": "HTMLView",
            "description": "",
            "description_tooltip": null,
            "layout": "IPY_MODEL_73d95aad2d5d404b94bed4065bfbaaac",
            "placeholder": "​",
            "style": "IPY_MODEL_f9f5edef6c2f4909a516e446fb4a9c56",
            "value": "Summarize dataset: 100%"
          }
        },
        "215a9fbfb55143d380e74a6da0c4fbc2": {
          "model_module": "@jupyter-widgets/controls",
          "model_name": "FloatProgressModel",
          "model_module_version": "1.5.0",
          "state": {
            "_dom_classes": [],
            "_model_module": "@jupyter-widgets/controls",
            "_model_module_version": "1.5.0",
            "_model_name": "FloatProgressModel",
            "_view_count": null,
            "_view_module": "@jupyter-widgets/controls",
            "_view_module_version": "1.5.0",
            "_view_name": "ProgressView",
            "bar_style": "success",
            "description": "",
            "description_tooltip": null,
            "layout": "IPY_MODEL_2ee823633e7841a88af6ab7cf0ba5f9b",
            "max": 5,
            "min": 0,
            "orientation": "horizontal",
            "style": "IPY_MODEL_c068e7c6647546fab88eac024f7c932b",
            "value": 5
          }
        },
        "9c4b28dace6541ac959c666033b28c39": {
          "model_module": "@jupyter-widgets/controls",
          "model_name": "HTMLModel",
          "model_module_version": "1.5.0",
          "state": {
            "_dom_classes": [],
            "_model_module": "@jupyter-widgets/controls",
            "_model_module_version": "1.5.0",
            "_model_name": "HTMLModel",
            "_view_count": null,
            "_view_module": "@jupyter-widgets/controls",
            "_view_module_version": "1.5.0",
            "_view_name": "HTMLView",
            "description": "",
            "description_tooltip": null,
            "layout": "IPY_MODEL_2612d92668484b0fb368891ca2980049",
            "placeholder": "​",
            "style": "IPY_MODEL_7bc327d663824cacaa9f8e615b3b3ff4",
            "value": " 83/83 [00:19&lt;00:00,  3.48it/s, Completed]"
          }
        },
        "a4c1e707462942c69a5a7366ed1c8a87": {
          "model_module": "@jupyter-widgets/base",
          "model_name": "LayoutModel",
          "model_module_version": "1.2.0",
          "state": {
            "_model_module": "@jupyter-widgets/base",
            "_model_module_version": "1.2.0",
            "_model_name": "LayoutModel",
            "_view_count": null,
            "_view_module": "@jupyter-widgets/base",
            "_view_module_version": "1.2.0",
            "_view_name": "LayoutView",
            "align_content": null,
            "align_items": null,
            "align_self": null,
            "border": null,
            "bottom": null,
            "display": null,
            "flex": null,
            "flex_flow": null,
            "grid_area": null,
            "grid_auto_columns": null,
            "grid_auto_flow": null,
            "grid_auto_rows": null,
            "grid_column": null,
            "grid_gap": null,
            "grid_row": null,
            "grid_template_areas": null,
            "grid_template_columns": null,
            "grid_template_rows": null,
            "height": null,
            "justify_content": null,
            "justify_items": null,
            "left": null,
            "margin": null,
            "max_height": null,
            "max_width": null,
            "min_height": null,
            "min_width": null,
            "object_fit": null,
            "object_position": null,
            "order": null,
            "overflow": null,
            "overflow_x": null,
            "overflow_y": null,
            "padding": null,
            "right": null,
            "top": null,
            "visibility": null,
            "width": null
          }
        },
        "73d95aad2d5d404b94bed4065bfbaaac": {
          "model_module": "@jupyter-widgets/base",
          "model_name": "LayoutModel",
          "model_module_version": "1.2.0",
          "state": {
            "_model_module": "@jupyter-widgets/base",
            "_model_module_version": "1.2.0",
            "_model_name": "LayoutModel",
            "_view_count": null,
            "_view_module": "@jupyter-widgets/base",
            "_view_module_version": "1.2.0",
            "_view_name": "LayoutView",
            "align_content": null,
            "align_items": null,
            "align_self": null,
            "border": null,
            "bottom": null,
            "display": null,
            "flex": null,
            "flex_flow": null,
            "grid_area": null,
            "grid_auto_columns": null,
            "grid_auto_flow": null,
            "grid_auto_rows": null,
            "grid_column": null,
            "grid_gap": null,
            "grid_row": null,
            "grid_template_areas": null,
            "grid_template_columns": null,
            "grid_template_rows": null,
            "height": null,
            "justify_content": null,
            "justify_items": null,
            "left": null,
            "margin": null,
            "max_height": null,
            "max_width": null,
            "min_height": null,
            "min_width": null,
            "object_fit": null,
            "object_position": null,
            "order": null,
            "overflow": null,
            "overflow_x": null,
            "overflow_y": null,
            "padding": null,
            "right": null,
            "top": null,
            "visibility": null,
            "width": null
          }
        },
        "f9f5edef6c2f4909a516e446fb4a9c56": {
          "model_module": "@jupyter-widgets/controls",
          "model_name": "DescriptionStyleModel",
          "model_module_version": "1.5.0",
          "state": {
            "_model_module": "@jupyter-widgets/controls",
            "_model_module_version": "1.5.0",
            "_model_name": "DescriptionStyleModel",
            "_view_count": null,
            "_view_module": "@jupyter-widgets/base",
            "_view_module_version": "1.2.0",
            "_view_name": "StyleView",
            "description_width": ""
          }
        },
        "2ee823633e7841a88af6ab7cf0ba5f9b": {
          "model_module": "@jupyter-widgets/base",
          "model_name": "LayoutModel",
          "model_module_version": "1.2.0",
          "state": {
            "_model_module": "@jupyter-widgets/base",
            "_model_module_version": "1.2.0",
            "_model_name": "LayoutModel",
            "_view_count": null,
            "_view_module": "@jupyter-widgets/base",
            "_view_module_version": "1.2.0",
            "_view_name": "LayoutView",
            "align_content": null,
            "align_items": null,
            "align_self": null,
            "border": null,
            "bottom": null,
            "display": null,
            "flex": null,
            "flex_flow": null,
            "grid_area": null,
            "grid_auto_columns": null,
            "grid_auto_flow": null,
            "grid_auto_rows": null,
            "grid_column": null,
            "grid_gap": null,
            "grid_row": null,
            "grid_template_areas": null,
            "grid_template_columns": null,
            "grid_template_rows": null,
            "height": null,
            "justify_content": null,
            "justify_items": null,
            "left": null,
            "margin": null,
            "max_height": null,
            "max_width": null,
            "min_height": null,
            "min_width": null,
            "object_fit": null,
            "object_position": null,
            "order": null,
            "overflow": null,
            "overflow_x": null,
            "overflow_y": null,
            "padding": null,
            "right": null,
            "top": null,
            "visibility": null,
            "width": null
          }
        },
        "c068e7c6647546fab88eac024f7c932b": {
          "model_module": "@jupyter-widgets/controls",
          "model_name": "ProgressStyleModel",
          "model_module_version": "1.5.0",
          "state": {
            "_model_module": "@jupyter-widgets/controls",
            "_model_module_version": "1.5.0",
            "_model_name": "ProgressStyleModel",
            "_view_count": null,
            "_view_module": "@jupyter-widgets/base",
            "_view_module_version": "1.2.0",
            "_view_name": "StyleView",
            "bar_color": null,
            "description_width": ""
          }
        },
        "2612d92668484b0fb368891ca2980049": {
          "model_module": "@jupyter-widgets/base",
          "model_name": "LayoutModel",
          "model_module_version": "1.2.0",
          "state": {
            "_model_module": "@jupyter-widgets/base",
            "_model_module_version": "1.2.0",
            "_model_name": "LayoutModel",
            "_view_count": null,
            "_view_module": "@jupyter-widgets/base",
            "_view_module_version": "1.2.0",
            "_view_name": "LayoutView",
            "align_content": null,
            "align_items": null,
            "align_self": null,
            "border": null,
            "bottom": null,
            "display": null,
            "flex": null,
            "flex_flow": null,
            "grid_area": null,
            "grid_auto_columns": null,
            "grid_auto_flow": null,
            "grid_auto_rows": null,
            "grid_column": null,
            "grid_gap": null,
            "grid_row": null,
            "grid_template_areas": null,
            "grid_template_columns": null,
            "grid_template_rows": null,
            "height": null,
            "justify_content": null,
            "justify_items": null,
            "left": null,
            "margin": null,
            "max_height": null,
            "max_width": null,
            "min_height": null,
            "min_width": null,
            "object_fit": null,
            "object_position": null,
            "order": null,
            "overflow": null,
            "overflow_x": null,
            "overflow_y": null,
            "padding": null,
            "right": null,
            "top": null,
            "visibility": null,
            "width": null
          }
        },
        "7bc327d663824cacaa9f8e615b3b3ff4": {
          "model_module": "@jupyter-widgets/controls",
          "model_name": "DescriptionStyleModel",
          "model_module_version": "1.5.0",
          "state": {
            "_model_module": "@jupyter-widgets/controls",
            "_model_module_version": "1.5.0",
            "_model_name": "DescriptionStyleModel",
            "_view_count": null,
            "_view_module": "@jupyter-widgets/base",
            "_view_module_version": "1.2.0",
            "_view_name": "StyleView",
            "description_width": ""
          }
        },
        "250ceebef4b243c6909e510af0334f2d": {
          "model_module": "@jupyter-widgets/controls",
          "model_name": "HBoxModel",
          "model_module_version": "1.5.0",
          "state": {
            "_dom_classes": [],
            "_model_module": "@jupyter-widgets/controls",
            "_model_module_version": "1.5.0",
            "_model_name": "HBoxModel",
            "_view_count": null,
            "_view_module": "@jupyter-widgets/controls",
            "_view_module_version": "1.5.0",
            "_view_name": "HBoxView",
            "box_style": "",
            "children": [
              "IPY_MODEL_7561527941c84c4a8f7cdf33f5adbabd",
              "IPY_MODEL_ae194e07b99544168aeb1c01ce02641d",
              "IPY_MODEL_209631d9216f409c9a520eaf2e18bcc2"
            ],
            "layout": "IPY_MODEL_5801b548ce1e4deca54dd9085500242d"
          }
        },
        "7561527941c84c4a8f7cdf33f5adbabd": {
          "model_module": "@jupyter-widgets/controls",
          "model_name": "HTMLModel",
          "model_module_version": "1.5.0",
          "state": {
            "_dom_classes": [],
            "_model_module": "@jupyter-widgets/controls",
            "_model_module_version": "1.5.0",
            "_model_name": "HTMLModel",
            "_view_count": null,
            "_view_module": "@jupyter-widgets/controls",
            "_view_module_version": "1.5.0",
            "_view_name": "HTMLView",
            "description": "",
            "description_tooltip": null,
            "layout": "IPY_MODEL_722b34f3bd2448f099d7e9d6d85340de",
            "placeholder": "​",
            "style": "IPY_MODEL_2260aec2f73b416aa7dc497d1c5ac443",
            "value": "Generate report structure: 100%"
          }
        },
        "ae194e07b99544168aeb1c01ce02641d": {
          "model_module": "@jupyter-widgets/controls",
          "model_name": "FloatProgressModel",
          "model_module_version": "1.5.0",
          "state": {
            "_dom_classes": [],
            "_model_module": "@jupyter-widgets/controls",
            "_model_module_version": "1.5.0",
            "_model_name": "FloatProgressModel",
            "_view_count": null,
            "_view_module": "@jupyter-widgets/controls",
            "_view_module_version": "1.5.0",
            "_view_name": "ProgressView",
            "bar_style": "success",
            "description": "",
            "description_tooltip": null,
            "layout": "IPY_MODEL_614bfe5a23474d0a8eeeec90f9c55cbc",
            "max": 1,
            "min": 0,
            "orientation": "horizontal",
            "style": "IPY_MODEL_56ce59533c844f358965df8eee728639",
            "value": 1
          }
        },
        "209631d9216f409c9a520eaf2e18bcc2": {
          "model_module": "@jupyter-widgets/controls",
          "model_name": "HTMLModel",
          "model_module_version": "1.5.0",
          "state": {
            "_dom_classes": [],
            "_model_module": "@jupyter-widgets/controls",
            "_model_module_version": "1.5.0",
            "_model_name": "HTMLModel",
            "_view_count": null,
            "_view_module": "@jupyter-widgets/controls",
            "_view_module_version": "1.5.0",
            "_view_name": "HTMLView",
            "description": "",
            "description_tooltip": null,
            "layout": "IPY_MODEL_ddab5aa8dfe943a48f86d4abf9c77fe3",
            "placeholder": "​",
            "style": "IPY_MODEL_f92a8bf103af462c96b808ff4851eb12",
            "value": " 1/1 [00:07&lt;00:00,  7.40s/it]"
          }
        },
        "5801b548ce1e4deca54dd9085500242d": {
          "model_module": "@jupyter-widgets/base",
          "model_name": "LayoutModel",
          "model_module_version": "1.2.0",
          "state": {
            "_model_module": "@jupyter-widgets/base",
            "_model_module_version": "1.2.0",
            "_model_name": "LayoutModel",
            "_view_count": null,
            "_view_module": "@jupyter-widgets/base",
            "_view_module_version": "1.2.0",
            "_view_name": "LayoutView",
            "align_content": null,
            "align_items": null,
            "align_self": null,
            "border": null,
            "bottom": null,
            "display": null,
            "flex": null,
            "flex_flow": null,
            "grid_area": null,
            "grid_auto_columns": null,
            "grid_auto_flow": null,
            "grid_auto_rows": null,
            "grid_column": null,
            "grid_gap": null,
            "grid_row": null,
            "grid_template_areas": null,
            "grid_template_columns": null,
            "grid_template_rows": null,
            "height": null,
            "justify_content": null,
            "justify_items": null,
            "left": null,
            "margin": null,
            "max_height": null,
            "max_width": null,
            "min_height": null,
            "min_width": null,
            "object_fit": null,
            "object_position": null,
            "order": null,
            "overflow": null,
            "overflow_x": null,
            "overflow_y": null,
            "padding": null,
            "right": null,
            "top": null,
            "visibility": null,
            "width": null
          }
        },
        "722b34f3bd2448f099d7e9d6d85340de": {
          "model_module": "@jupyter-widgets/base",
          "model_name": "LayoutModel",
          "model_module_version": "1.2.0",
          "state": {
            "_model_module": "@jupyter-widgets/base",
            "_model_module_version": "1.2.0",
            "_model_name": "LayoutModel",
            "_view_count": null,
            "_view_module": "@jupyter-widgets/base",
            "_view_module_version": "1.2.0",
            "_view_name": "LayoutView",
            "align_content": null,
            "align_items": null,
            "align_self": null,
            "border": null,
            "bottom": null,
            "display": null,
            "flex": null,
            "flex_flow": null,
            "grid_area": null,
            "grid_auto_columns": null,
            "grid_auto_flow": null,
            "grid_auto_rows": null,
            "grid_column": null,
            "grid_gap": null,
            "grid_row": null,
            "grid_template_areas": null,
            "grid_template_columns": null,
            "grid_template_rows": null,
            "height": null,
            "justify_content": null,
            "justify_items": null,
            "left": null,
            "margin": null,
            "max_height": null,
            "max_width": null,
            "min_height": null,
            "min_width": null,
            "object_fit": null,
            "object_position": null,
            "order": null,
            "overflow": null,
            "overflow_x": null,
            "overflow_y": null,
            "padding": null,
            "right": null,
            "top": null,
            "visibility": null,
            "width": null
          }
        },
        "2260aec2f73b416aa7dc497d1c5ac443": {
          "model_module": "@jupyter-widgets/controls",
          "model_name": "DescriptionStyleModel",
          "model_module_version": "1.5.0",
          "state": {
            "_model_module": "@jupyter-widgets/controls",
            "_model_module_version": "1.5.0",
            "_model_name": "DescriptionStyleModel",
            "_view_count": null,
            "_view_module": "@jupyter-widgets/base",
            "_view_module_version": "1.2.0",
            "_view_name": "StyleView",
            "description_width": ""
          }
        },
        "614bfe5a23474d0a8eeeec90f9c55cbc": {
          "model_module": "@jupyter-widgets/base",
          "model_name": "LayoutModel",
          "model_module_version": "1.2.0",
          "state": {
            "_model_module": "@jupyter-widgets/base",
            "_model_module_version": "1.2.0",
            "_model_name": "LayoutModel",
            "_view_count": null,
            "_view_module": "@jupyter-widgets/base",
            "_view_module_version": "1.2.0",
            "_view_name": "LayoutView",
            "align_content": null,
            "align_items": null,
            "align_self": null,
            "border": null,
            "bottom": null,
            "display": null,
            "flex": null,
            "flex_flow": null,
            "grid_area": null,
            "grid_auto_columns": null,
            "grid_auto_flow": null,
            "grid_auto_rows": null,
            "grid_column": null,
            "grid_gap": null,
            "grid_row": null,
            "grid_template_areas": null,
            "grid_template_columns": null,
            "grid_template_rows": null,
            "height": null,
            "justify_content": null,
            "justify_items": null,
            "left": null,
            "margin": null,
            "max_height": null,
            "max_width": null,
            "min_height": null,
            "min_width": null,
            "object_fit": null,
            "object_position": null,
            "order": null,
            "overflow": null,
            "overflow_x": null,
            "overflow_y": null,
            "padding": null,
            "right": null,
            "top": null,
            "visibility": null,
            "width": null
          }
        },
        "56ce59533c844f358965df8eee728639": {
          "model_module": "@jupyter-widgets/controls",
          "model_name": "ProgressStyleModel",
          "model_module_version": "1.5.0",
          "state": {
            "_model_module": "@jupyter-widgets/controls",
            "_model_module_version": "1.5.0",
            "_model_name": "ProgressStyleModel",
            "_view_count": null,
            "_view_module": "@jupyter-widgets/base",
            "_view_module_version": "1.2.0",
            "_view_name": "StyleView",
            "bar_color": null,
            "description_width": ""
          }
        },
        "ddab5aa8dfe943a48f86d4abf9c77fe3": {
          "model_module": "@jupyter-widgets/base",
          "model_name": "LayoutModel",
          "model_module_version": "1.2.0",
          "state": {
            "_model_module": "@jupyter-widgets/base",
            "_model_module_version": "1.2.0",
            "_model_name": "LayoutModel",
            "_view_count": null,
            "_view_module": "@jupyter-widgets/base",
            "_view_module_version": "1.2.0",
            "_view_name": "LayoutView",
            "align_content": null,
            "align_items": null,
            "align_self": null,
            "border": null,
            "bottom": null,
            "display": null,
            "flex": null,
            "flex_flow": null,
            "grid_area": null,
            "grid_auto_columns": null,
            "grid_auto_flow": null,
            "grid_auto_rows": null,
            "grid_column": null,
            "grid_gap": null,
            "grid_row": null,
            "grid_template_areas": null,
            "grid_template_columns": null,
            "grid_template_rows": null,
            "height": null,
            "justify_content": null,
            "justify_items": null,
            "left": null,
            "margin": null,
            "max_height": null,
            "max_width": null,
            "min_height": null,
            "min_width": null,
            "object_fit": null,
            "object_position": null,
            "order": null,
            "overflow": null,
            "overflow_x": null,
            "overflow_y": null,
            "padding": null,
            "right": null,
            "top": null,
            "visibility": null,
            "width": null
          }
        },
        "f92a8bf103af462c96b808ff4851eb12": {
          "model_module": "@jupyter-widgets/controls",
          "model_name": "DescriptionStyleModel",
          "model_module_version": "1.5.0",
          "state": {
            "_model_module": "@jupyter-widgets/controls",
            "_model_module_version": "1.5.0",
            "_model_name": "DescriptionStyleModel",
            "_view_count": null,
            "_view_module": "@jupyter-widgets/base",
            "_view_module_version": "1.2.0",
            "_view_name": "StyleView",
            "description_width": ""
          }
        },
        "a89138c310c8424db345983430d088bb": {
          "model_module": "@jupyter-widgets/controls",
          "model_name": "HBoxModel",
          "model_module_version": "1.5.0",
          "state": {
            "_dom_classes": [],
            "_model_module": "@jupyter-widgets/controls",
            "_model_module_version": "1.5.0",
            "_model_name": "HBoxModel",
            "_view_count": null,
            "_view_module": "@jupyter-widgets/controls",
            "_view_module_version": "1.5.0",
            "_view_name": "HBoxView",
            "box_style": "",
            "children": [
              "IPY_MODEL_5a6855490bc148bab1aafdfd997cf91d",
              "IPY_MODEL_63a786eeedfa4ab88d9e7cc0ee04721d",
              "IPY_MODEL_1d4ea4c942324f3b8c658bc8483ea078"
            ],
            "layout": "IPY_MODEL_adcf03b3aa8b4b98bd215a256437363a"
          }
        },
        "5a6855490bc148bab1aafdfd997cf91d": {
          "model_module": "@jupyter-widgets/controls",
          "model_name": "HTMLModel",
          "model_module_version": "1.5.0",
          "state": {
            "_dom_classes": [],
            "_model_module": "@jupyter-widgets/controls",
            "_model_module_version": "1.5.0",
            "_model_name": "HTMLModel",
            "_view_count": null,
            "_view_module": "@jupyter-widgets/controls",
            "_view_module_version": "1.5.0",
            "_view_name": "HTMLView",
            "description": "",
            "description_tooltip": null,
            "layout": "IPY_MODEL_6c7eeb8dd213408fa8241b2cc76675f4",
            "placeholder": "​",
            "style": "IPY_MODEL_3cf3cf1dee8b4de1b770c0fe704bda30",
            "value": "Render HTML: 100%"
          }
        },
        "63a786eeedfa4ab88d9e7cc0ee04721d": {
          "model_module": "@jupyter-widgets/controls",
          "model_name": "FloatProgressModel",
          "model_module_version": "1.5.0",
          "state": {
            "_dom_classes": [],
            "_model_module": "@jupyter-widgets/controls",
            "_model_module_version": "1.5.0",
            "_model_name": "FloatProgressModel",
            "_view_count": null,
            "_view_module": "@jupyter-widgets/controls",
            "_view_module_version": "1.5.0",
            "_view_name": "ProgressView",
            "bar_style": "success",
            "description": "",
            "description_tooltip": null,
            "layout": "IPY_MODEL_fcf9e82896004f1b8eb698204957b4d8",
            "max": 1,
            "min": 0,
            "orientation": "horizontal",
            "style": "IPY_MODEL_e22f2c087330476887395011c88a2c4c",
            "value": 1
          }
        },
        "1d4ea4c942324f3b8c658bc8483ea078": {
          "model_module": "@jupyter-widgets/controls",
          "model_name": "HTMLModel",
          "model_module_version": "1.5.0",
          "state": {
            "_dom_classes": [],
            "_model_module": "@jupyter-widgets/controls",
            "_model_module_version": "1.5.0",
            "_model_name": "HTMLModel",
            "_view_count": null,
            "_view_module": "@jupyter-widgets/controls",
            "_view_module_version": "1.5.0",
            "_view_name": "HTMLView",
            "description": "",
            "description_tooltip": null,
            "layout": "IPY_MODEL_d4a25158723f4b4a9d53a46da99d08fa",
            "placeholder": "​",
            "style": "IPY_MODEL_14ddf190f3f2480d9e06fa3ecbeaf6e1",
            "value": " 1/1 [00:02&lt;00:00,  2.26s/it]"
          }
        },
        "adcf03b3aa8b4b98bd215a256437363a": {
          "model_module": "@jupyter-widgets/base",
          "model_name": "LayoutModel",
          "model_module_version": "1.2.0",
          "state": {
            "_model_module": "@jupyter-widgets/base",
            "_model_module_version": "1.2.0",
            "_model_name": "LayoutModel",
            "_view_count": null,
            "_view_module": "@jupyter-widgets/base",
            "_view_module_version": "1.2.0",
            "_view_name": "LayoutView",
            "align_content": null,
            "align_items": null,
            "align_self": null,
            "border": null,
            "bottom": null,
            "display": null,
            "flex": null,
            "flex_flow": null,
            "grid_area": null,
            "grid_auto_columns": null,
            "grid_auto_flow": null,
            "grid_auto_rows": null,
            "grid_column": null,
            "grid_gap": null,
            "grid_row": null,
            "grid_template_areas": null,
            "grid_template_columns": null,
            "grid_template_rows": null,
            "height": null,
            "justify_content": null,
            "justify_items": null,
            "left": null,
            "margin": null,
            "max_height": null,
            "max_width": null,
            "min_height": null,
            "min_width": null,
            "object_fit": null,
            "object_position": null,
            "order": null,
            "overflow": null,
            "overflow_x": null,
            "overflow_y": null,
            "padding": null,
            "right": null,
            "top": null,
            "visibility": null,
            "width": null
          }
        },
        "6c7eeb8dd213408fa8241b2cc76675f4": {
          "model_module": "@jupyter-widgets/base",
          "model_name": "LayoutModel",
          "model_module_version": "1.2.0",
          "state": {
            "_model_module": "@jupyter-widgets/base",
            "_model_module_version": "1.2.0",
            "_model_name": "LayoutModel",
            "_view_count": null,
            "_view_module": "@jupyter-widgets/base",
            "_view_module_version": "1.2.0",
            "_view_name": "LayoutView",
            "align_content": null,
            "align_items": null,
            "align_self": null,
            "border": null,
            "bottom": null,
            "display": null,
            "flex": null,
            "flex_flow": null,
            "grid_area": null,
            "grid_auto_columns": null,
            "grid_auto_flow": null,
            "grid_auto_rows": null,
            "grid_column": null,
            "grid_gap": null,
            "grid_row": null,
            "grid_template_areas": null,
            "grid_template_columns": null,
            "grid_template_rows": null,
            "height": null,
            "justify_content": null,
            "justify_items": null,
            "left": null,
            "margin": null,
            "max_height": null,
            "max_width": null,
            "min_height": null,
            "min_width": null,
            "object_fit": null,
            "object_position": null,
            "order": null,
            "overflow": null,
            "overflow_x": null,
            "overflow_y": null,
            "padding": null,
            "right": null,
            "top": null,
            "visibility": null,
            "width": null
          }
        },
        "3cf3cf1dee8b4de1b770c0fe704bda30": {
          "model_module": "@jupyter-widgets/controls",
          "model_name": "DescriptionStyleModel",
          "model_module_version": "1.5.0",
          "state": {
            "_model_module": "@jupyter-widgets/controls",
            "_model_module_version": "1.5.0",
            "_model_name": "DescriptionStyleModel",
            "_view_count": null,
            "_view_module": "@jupyter-widgets/base",
            "_view_module_version": "1.2.0",
            "_view_name": "StyleView",
            "description_width": ""
          }
        },
        "fcf9e82896004f1b8eb698204957b4d8": {
          "model_module": "@jupyter-widgets/base",
          "model_name": "LayoutModel",
          "model_module_version": "1.2.0",
          "state": {
            "_model_module": "@jupyter-widgets/base",
            "_model_module_version": "1.2.0",
            "_model_name": "LayoutModel",
            "_view_count": null,
            "_view_module": "@jupyter-widgets/base",
            "_view_module_version": "1.2.0",
            "_view_name": "LayoutView",
            "align_content": null,
            "align_items": null,
            "align_self": null,
            "border": null,
            "bottom": null,
            "display": null,
            "flex": null,
            "flex_flow": null,
            "grid_area": null,
            "grid_auto_columns": null,
            "grid_auto_flow": null,
            "grid_auto_rows": null,
            "grid_column": null,
            "grid_gap": null,
            "grid_row": null,
            "grid_template_areas": null,
            "grid_template_columns": null,
            "grid_template_rows": null,
            "height": null,
            "justify_content": null,
            "justify_items": null,
            "left": null,
            "margin": null,
            "max_height": null,
            "max_width": null,
            "min_height": null,
            "min_width": null,
            "object_fit": null,
            "object_position": null,
            "order": null,
            "overflow": null,
            "overflow_x": null,
            "overflow_y": null,
            "padding": null,
            "right": null,
            "top": null,
            "visibility": null,
            "width": null
          }
        },
        "e22f2c087330476887395011c88a2c4c": {
          "model_module": "@jupyter-widgets/controls",
          "model_name": "ProgressStyleModel",
          "model_module_version": "1.5.0",
          "state": {
            "_model_module": "@jupyter-widgets/controls",
            "_model_module_version": "1.5.0",
            "_model_name": "ProgressStyleModel",
            "_view_count": null,
            "_view_module": "@jupyter-widgets/base",
            "_view_module_version": "1.2.0",
            "_view_name": "StyleView",
            "bar_color": null,
            "description_width": ""
          }
        },
        "d4a25158723f4b4a9d53a46da99d08fa": {
          "model_module": "@jupyter-widgets/base",
          "model_name": "LayoutModel",
          "model_module_version": "1.2.0",
          "state": {
            "_model_module": "@jupyter-widgets/base",
            "_model_module_version": "1.2.0",
            "_model_name": "LayoutModel",
            "_view_count": null,
            "_view_module": "@jupyter-widgets/base",
            "_view_module_version": "1.2.0",
            "_view_name": "LayoutView",
            "align_content": null,
            "align_items": null,
            "align_self": null,
            "border": null,
            "bottom": null,
            "display": null,
            "flex": null,
            "flex_flow": null,
            "grid_area": null,
            "grid_auto_columns": null,
            "grid_auto_flow": null,
            "grid_auto_rows": null,
            "grid_column": null,
            "grid_gap": null,
            "grid_row": null,
            "grid_template_areas": null,
            "grid_template_columns": null,
            "grid_template_rows": null,
            "height": null,
            "justify_content": null,
            "justify_items": null,
            "left": null,
            "margin": null,
            "max_height": null,
            "max_width": null,
            "min_height": null,
            "min_width": null,
            "object_fit": null,
            "object_position": null,
            "order": null,
            "overflow": null,
            "overflow_x": null,
            "overflow_y": null,
            "padding": null,
            "right": null,
            "top": null,
            "visibility": null,
            "width": null
          }
        },
        "14ddf190f3f2480d9e06fa3ecbeaf6e1": {
          "model_module": "@jupyter-widgets/controls",
          "model_name": "DescriptionStyleModel",
          "model_module_version": "1.5.0",
          "state": {
            "_model_module": "@jupyter-widgets/controls",
            "_model_module_version": "1.5.0",
            "_model_name": "DescriptionStyleModel",
            "_view_count": null,
            "_view_module": "@jupyter-widgets/base",
            "_view_module_version": "1.2.0",
            "_view_name": "StyleView",
            "description_width": ""
          }
        },
        "60a9b18533a2454fb25209325dfc83ea": {
          "model_module": "@jupyter-widgets/controls",
          "model_name": "HBoxModel",
          "model_module_version": "1.5.0",
          "state": {
            "_dom_classes": [],
            "_model_module": "@jupyter-widgets/controls",
            "_model_module_version": "1.5.0",
            "_model_name": "HBoxModel",
            "_view_count": null,
            "_view_module": "@jupyter-widgets/controls",
            "_view_module_version": "1.5.0",
            "_view_name": "HBoxView",
            "box_style": "",
            "children": [
              "IPY_MODEL_7b5db607c2ee4bfbb8dd4a34e8ddc014",
              "IPY_MODEL_7a9c5e2a6d65409ba25a55530c4348c7",
              "IPY_MODEL_3dd5ee986b0546c2a779a21d5acc8b4f"
            ],
            "layout": "IPY_MODEL_25492cb67bd145d5842e55028bda1697"
          }
        },
        "7b5db607c2ee4bfbb8dd4a34e8ddc014": {
          "model_module": "@jupyter-widgets/controls",
          "model_name": "HTMLModel",
          "model_module_version": "1.5.0",
          "state": {
            "_dom_classes": [],
            "_model_module": "@jupyter-widgets/controls",
            "_model_module_version": "1.5.0",
            "_model_name": "HTMLModel",
            "_view_count": null,
            "_view_module": "@jupyter-widgets/controls",
            "_view_module_version": "1.5.0",
            "_view_name": "HTMLView",
            "description": "",
            "description_tooltip": null,
            "layout": "IPY_MODEL_98abc7662b3f4ae89b32cd703cba1e54",
            "placeholder": "​",
            "style": "IPY_MODEL_77c45eb4fab54e838bd51de12d65f99e",
            "value": "Export report to file: 100%"
          }
        },
        "7a9c5e2a6d65409ba25a55530c4348c7": {
          "model_module": "@jupyter-widgets/controls",
          "model_name": "FloatProgressModel",
          "model_module_version": "1.5.0",
          "state": {
            "_dom_classes": [],
            "_model_module": "@jupyter-widgets/controls",
            "_model_module_version": "1.5.0",
            "_model_name": "FloatProgressModel",
            "_view_count": null,
            "_view_module": "@jupyter-widgets/controls",
            "_view_module_version": "1.5.0",
            "_view_name": "ProgressView",
            "bar_style": "success",
            "description": "",
            "description_tooltip": null,
            "layout": "IPY_MODEL_cdaab1d000b7418db3689c9fe61ed4ed",
            "max": 1,
            "min": 0,
            "orientation": "horizontal",
            "style": "IPY_MODEL_9773f6ed56ee46f997bebe81fce7d56c",
            "value": 1
          }
        },
        "3dd5ee986b0546c2a779a21d5acc8b4f": {
          "model_module": "@jupyter-widgets/controls",
          "model_name": "HTMLModel",
          "model_module_version": "1.5.0",
          "state": {
            "_dom_classes": [],
            "_model_module": "@jupyter-widgets/controls",
            "_model_module_version": "1.5.0",
            "_model_name": "HTMLModel",
            "_view_count": null,
            "_view_module": "@jupyter-widgets/controls",
            "_view_module_version": "1.5.0",
            "_view_name": "HTMLView",
            "description": "",
            "description_tooltip": null,
            "layout": "IPY_MODEL_8fcf94af174e4dcb80f8a51ce53121e4",
            "placeholder": "​",
            "style": "IPY_MODEL_f58a1aee9ccd4b6c8e307045d0911f9b",
            "value": " 1/1 [00:00&lt;00:00, 28.65it/s]"
          }
        },
        "25492cb67bd145d5842e55028bda1697": {
          "model_module": "@jupyter-widgets/base",
          "model_name": "LayoutModel",
          "model_module_version": "1.2.0",
          "state": {
            "_model_module": "@jupyter-widgets/base",
            "_model_module_version": "1.2.0",
            "_model_name": "LayoutModel",
            "_view_count": null,
            "_view_module": "@jupyter-widgets/base",
            "_view_module_version": "1.2.0",
            "_view_name": "LayoutView",
            "align_content": null,
            "align_items": null,
            "align_self": null,
            "border": null,
            "bottom": null,
            "display": null,
            "flex": null,
            "flex_flow": null,
            "grid_area": null,
            "grid_auto_columns": null,
            "grid_auto_flow": null,
            "grid_auto_rows": null,
            "grid_column": null,
            "grid_gap": null,
            "grid_row": null,
            "grid_template_areas": null,
            "grid_template_columns": null,
            "grid_template_rows": null,
            "height": null,
            "justify_content": null,
            "justify_items": null,
            "left": null,
            "margin": null,
            "max_height": null,
            "max_width": null,
            "min_height": null,
            "min_width": null,
            "object_fit": null,
            "object_position": null,
            "order": null,
            "overflow": null,
            "overflow_x": null,
            "overflow_y": null,
            "padding": null,
            "right": null,
            "top": null,
            "visibility": null,
            "width": null
          }
        },
        "98abc7662b3f4ae89b32cd703cba1e54": {
          "model_module": "@jupyter-widgets/base",
          "model_name": "LayoutModel",
          "model_module_version": "1.2.0",
          "state": {
            "_model_module": "@jupyter-widgets/base",
            "_model_module_version": "1.2.0",
            "_model_name": "LayoutModel",
            "_view_count": null,
            "_view_module": "@jupyter-widgets/base",
            "_view_module_version": "1.2.0",
            "_view_name": "LayoutView",
            "align_content": null,
            "align_items": null,
            "align_self": null,
            "border": null,
            "bottom": null,
            "display": null,
            "flex": null,
            "flex_flow": null,
            "grid_area": null,
            "grid_auto_columns": null,
            "grid_auto_flow": null,
            "grid_auto_rows": null,
            "grid_column": null,
            "grid_gap": null,
            "grid_row": null,
            "grid_template_areas": null,
            "grid_template_columns": null,
            "grid_template_rows": null,
            "height": null,
            "justify_content": null,
            "justify_items": null,
            "left": null,
            "margin": null,
            "max_height": null,
            "max_width": null,
            "min_height": null,
            "min_width": null,
            "object_fit": null,
            "object_position": null,
            "order": null,
            "overflow": null,
            "overflow_x": null,
            "overflow_y": null,
            "padding": null,
            "right": null,
            "top": null,
            "visibility": null,
            "width": null
          }
        },
        "77c45eb4fab54e838bd51de12d65f99e": {
          "model_module": "@jupyter-widgets/controls",
          "model_name": "DescriptionStyleModel",
          "model_module_version": "1.5.0",
          "state": {
            "_model_module": "@jupyter-widgets/controls",
            "_model_module_version": "1.5.0",
            "_model_name": "DescriptionStyleModel",
            "_view_count": null,
            "_view_module": "@jupyter-widgets/base",
            "_view_module_version": "1.2.0",
            "_view_name": "StyleView",
            "description_width": ""
          }
        },
        "cdaab1d000b7418db3689c9fe61ed4ed": {
          "model_module": "@jupyter-widgets/base",
          "model_name": "LayoutModel",
          "model_module_version": "1.2.0",
          "state": {
            "_model_module": "@jupyter-widgets/base",
            "_model_module_version": "1.2.0",
            "_model_name": "LayoutModel",
            "_view_count": null,
            "_view_module": "@jupyter-widgets/base",
            "_view_module_version": "1.2.0",
            "_view_name": "LayoutView",
            "align_content": null,
            "align_items": null,
            "align_self": null,
            "border": null,
            "bottom": null,
            "display": null,
            "flex": null,
            "flex_flow": null,
            "grid_area": null,
            "grid_auto_columns": null,
            "grid_auto_flow": null,
            "grid_auto_rows": null,
            "grid_column": null,
            "grid_gap": null,
            "grid_row": null,
            "grid_template_areas": null,
            "grid_template_columns": null,
            "grid_template_rows": null,
            "height": null,
            "justify_content": null,
            "justify_items": null,
            "left": null,
            "margin": null,
            "max_height": null,
            "max_width": null,
            "min_height": null,
            "min_width": null,
            "object_fit": null,
            "object_position": null,
            "order": null,
            "overflow": null,
            "overflow_x": null,
            "overflow_y": null,
            "padding": null,
            "right": null,
            "top": null,
            "visibility": null,
            "width": null
          }
        },
        "9773f6ed56ee46f997bebe81fce7d56c": {
          "model_module": "@jupyter-widgets/controls",
          "model_name": "ProgressStyleModel",
          "model_module_version": "1.5.0",
          "state": {
            "_model_module": "@jupyter-widgets/controls",
            "_model_module_version": "1.5.0",
            "_model_name": "ProgressStyleModel",
            "_view_count": null,
            "_view_module": "@jupyter-widgets/base",
            "_view_module_version": "1.2.0",
            "_view_name": "StyleView",
            "bar_color": null,
            "description_width": ""
          }
        },
        "8fcf94af174e4dcb80f8a51ce53121e4": {
          "model_module": "@jupyter-widgets/base",
          "model_name": "LayoutModel",
          "model_module_version": "1.2.0",
          "state": {
            "_model_module": "@jupyter-widgets/base",
            "_model_module_version": "1.2.0",
            "_model_name": "LayoutModel",
            "_view_count": null,
            "_view_module": "@jupyter-widgets/base",
            "_view_module_version": "1.2.0",
            "_view_name": "LayoutView",
            "align_content": null,
            "align_items": null,
            "align_self": null,
            "border": null,
            "bottom": null,
            "display": null,
            "flex": null,
            "flex_flow": null,
            "grid_area": null,
            "grid_auto_columns": null,
            "grid_auto_flow": null,
            "grid_auto_rows": null,
            "grid_column": null,
            "grid_gap": null,
            "grid_row": null,
            "grid_template_areas": null,
            "grid_template_columns": null,
            "grid_template_rows": null,
            "height": null,
            "justify_content": null,
            "justify_items": null,
            "left": null,
            "margin": null,
            "max_height": null,
            "max_width": null,
            "min_height": null,
            "min_width": null,
            "object_fit": null,
            "object_position": null,
            "order": null,
            "overflow": null,
            "overflow_x": null,
            "overflow_y": null,
            "padding": null,
            "right": null,
            "top": null,
            "visibility": null,
            "width": null
          }
        },
        "f58a1aee9ccd4b6c8e307045d0911f9b": {
          "model_module": "@jupyter-widgets/controls",
          "model_name": "DescriptionStyleModel",
          "model_module_version": "1.5.0",
          "state": {
            "_model_module": "@jupyter-widgets/controls",
            "_model_module_version": "1.5.0",
            "_model_name": "DescriptionStyleModel",
            "_view_count": null,
            "_view_module": "@jupyter-widgets/base",
            "_view_module_version": "1.2.0",
            "_view_name": "StyleView",
            "description_width": ""
          }
        }
      }
    }
  },
  "cells": [
    {
      "cell_type": "markdown",
      "metadata": {
        "id": "view-in-github",
        "colab_type": "text"
      },
      "source": [
        "<a href=\"https://colab.research.google.com/github/pdushie/BirthdayApp/blob/main/Assign1.ipynb\" target=\"_parent\"><img src=\"https://colab.research.google.com/assets/colab-badge.svg\" alt=\"Open In Colab\"/></a>"
      ]
    },
    {
      "cell_type": "markdown",
      "source": [
        "## Install ydata-profiling package"
      ],
      "metadata": {
        "id": "oFHU49YnprNf"
      }
    },
    {
      "cell_type": "code",
      "source": [
        "%pip install ydata-profiling"
      ],
      "metadata": {
        "colab": {
          "base_uri": "https://localhost:8080/"
        },
        "id": "_iillI24pl12",
        "outputId": "71f34549-79a5-4c9a-ae2e-7cd2ffb1170c"
      },
      "execution_count": 2,
      "outputs": [
        {
          "output_type": "stream",
          "name": "stdout",
          "text": [
            "Collecting ydata-profiling\n",
            "  Downloading ydata_profiling-4.6.5-py2.py3-none-any.whl (357 kB)\n",
            "\u001b[2K     \u001b[90m━━━━━━━━━━━━━━━━━━━━━━━━━━━━━━━━━━━━━━━━\u001b[0m \u001b[32m357.9/357.9 kB\u001b[0m \u001b[31m6.0 MB/s\u001b[0m eta \u001b[36m0:00:00\u001b[0m\n",
            "\u001b[?25hRequirement already satisfied: scipy<1.12,>=1.4.1 in /usr/local/lib/python3.10/dist-packages (from ydata-profiling) (1.11.4)\n",
            "Requirement already satisfied: pandas!=1.4.0,<3,>1.1 in /usr/local/lib/python3.10/dist-packages (from ydata-profiling) (1.5.3)\n",
            "Requirement already satisfied: matplotlib<3.9,>=3.2 in /usr/local/lib/python3.10/dist-packages (from ydata-profiling) (3.7.1)\n",
            "Requirement already satisfied: pydantic>=2 in /usr/local/lib/python3.10/dist-packages (from ydata-profiling) (2.6.3)\n",
            "Requirement already satisfied: PyYAML<6.1,>=5.0.0 in /usr/local/lib/python3.10/dist-packages (from ydata-profiling) (6.0.1)\n",
            "Requirement already satisfied: jinja2<3.2,>=2.11.1 in /usr/local/lib/python3.10/dist-packages (from ydata-profiling) (3.1.3)\n",
            "Collecting visions[type_image_path]==0.7.5 (from ydata-profiling)\n",
            "  Downloading visions-0.7.5-py3-none-any.whl (102 kB)\n",
            "\u001b[2K     \u001b[90m━━━━━━━━━━━━━━━━━━━━━━━━━━━━━━━━━━━━━━━━\u001b[0m \u001b[32m102.7/102.7 kB\u001b[0m \u001b[31m11.6 MB/s\u001b[0m eta \u001b[36m0:00:00\u001b[0m\n",
            "\u001b[?25hRequirement already satisfied: numpy<1.26,>=1.16.0 in /usr/local/lib/python3.10/dist-packages (from ydata-profiling) (1.25.2)\n",
            "Collecting htmlmin==0.1.12 (from ydata-profiling)\n",
            "  Downloading htmlmin-0.1.12.tar.gz (19 kB)\n",
            "  Preparing metadata (setup.py) ... \u001b[?25l\u001b[?25hdone\n",
            "Collecting phik<0.13,>=0.11.1 (from ydata-profiling)\n",
            "  Downloading phik-0.12.4-cp310-cp310-manylinux_2_17_x86_64.manylinux2014_x86_64.whl (686 kB)\n",
            "\u001b[2K     \u001b[90m━━━━━━━━━━━━━━━━━━━━━━━━━━━━━━━━━━━━━━━━\u001b[0m \u001b[32m686.1/686.1 kB\u001b[0m \u001b[31m10.2 MB/s\u001b[0m eta \u001b[36m0:00:00\u001b[0m\n",
            "\u001b[?25hRequirement already satisfied: requests<3,>=2.24.0 in /usr/local/lib/python3.10/dist-packages (from ydata-profiling) (2.31.0)\n",
            "Requirement already satisfied: tqdm<5,>=4.48.2 in /usr/local/lib/python3.10/dist-packages (from ydata-profiling) (4.66.2)\n",
            "Collecting seaborn<0.13,>=0.10.1 (from ydata-profiling)\n",
            "  Downloading seaborn-0.12.2-py3-none-any.whl (293 kB)\n",
            "\u001b[2K     \u001b[90m━━━━━━━━━━━━━━━━━━━━━━━━━━━━━━━━━━━━━━━━\u001b[0m \u001b[32m293.3/293.3 kB\u001b[0m \u001b[31m14.0 MB/s\u001b[0m eta \u001b[36m0:00:00\u001b[0m\n",
            "\u001b[?25hCollecting multimethod<2,>=1.4 (from ydata-profiling)\n",
            "  Downloading multimethod-1.11.2-py3-none-any.whl (10 kB)\n",
            "Requirement already satisfied: statsmodels<1,>=0.13.2 in /usr/local/lib/python3.10/dist-packages (from ydata-profiling) (0.14.1)\n",
            "Collecting typeguard<5,>=4.1.2 (from ydata-profiling)\n",
            "  Downloading typeguard-4.1.5-py3-none-any.whl (34 kB)\n",
            "Collecting imagehash==4.3.1 (from ydata-profiling)\n",
            "  Downloading ImageHash-4.3.1-py2.py3-none-any.whl (296 kB)\n",
            "\u001b[2K     \u001b[90m━━━━━━━━━━━━━━━━━━━━━━━━━━━━━━━━━━━━━━━━\u001b[0m \u001b[32m296.5/296.5 kB\u001b[0m \u001b[31m12.0 MB/s\u001b[0m eta \u001b[36m0:00:00\u001b[0m\n",
            "\u001b[?25hRequirement already satisfied: wordcloud>=1.9.1 in /usr/local/lib/python3.10/dist-packages (from ydata-profiling) (1.9.3)\n",
            "Collecting dacite>=1.8 (from ydata-profiling)\n",
            "  Downloading dacite-1.8.1-py3-none-any.whl (14 kB)\n",
            "Requirement already satisfied: numba<0.59.0,>=0.56.0 in /usr/local/lib/python3.10/dist-packages (from ydata-profiling) (0.58.1)\n",
            "Requirement already satisfied: PyWavelets in /usr/local/lib/python3.10/dist-packages (from imagehash==4.3.1->ydata-profiling) (1.5.0)\n",
            "Requirement already satisfied: pillow in /usr/local/lib/python3.10/dist-packages (from imagehash==4.3.1->ydata-profiling) (9.4.0)\n",
            "Requirement already satisfied: attrs>=19.3.0 in /usr/local/lib/python3.10/dist-packages (from visions[type_image_path]==0.7.5->ydata-profiling) (23.2.0)\n",
            "Requirement already satisfied: networkx>=2.4 in /usr/local/lib/python3.10/dist-packages (from visions[type_image_path]==0.7.5->ydata-profiling) (3.2.1)\n",
            "Collecting tangled-up-in-unicode>=0.0.4 (from visions[type_image_path]==0.7.5->ydata-profiling)\n",
            "  Downloading tangled_up_in_unicode-0.2.0-py3-none-any.whl (4.7 MB)\n",
            "\u001b[2K     \u001b[90m━━━━━━━━━━━━━━━━━━━━━━━━━━━━━━━━━━━━━━━━\u001b[0m \u001b[32m4.7/4.7 MB\u001b[0m \u001b[31m19.0 MB/s\u001b[0m eta \u001b[36m0:00:00\u001b[0m\n",
            "\u001b[?25hRequirement already satisfied: MarkupSafe>=2.0 in /usr/local/lib/python3.10/dist-packages (from jinja2<3.2,>=2.11.1->ydata-profiling) (2.1.5)\n",
            "Requirement already satisfied: contourpy>=1.0.1 in /usr/local/lib/python3.10/dist-packages (from matplotlib<3.9,>=3.2->ydata-profiling) (1.2.0)\n",
            "Requirement already satisfied: cycler>=0.10 in /usr/local/lib/python3.10/dist-packages (from matplotlib<3.9,>=3.2->ydata-profiling) (0.12.1)\n",
            "Requirement already satisfied: fonttools>=4.22.0 in /usr/local/lib/python3.10/dist-packages (from matplotlib<3.9,>=3.2->ydata-profiling) (4.49.0)\n",
            "Requirement already satisfied: kiwisolver>=1.0.1 in /usr/local/lib/python3.10/dist-packages (from matplotlib<3.9,>=3.2->ydata-profiling) (1.4.5)\n",
            "Requirement already satisfied: packaging>=20.0 in /usr/local/lib/python3.10/dist-packages (from matplotlib<3.9,>=3.2->ydata-profiling) (23.2)\n",
            "Requirement already satisfied: pyparsing>=2.3.1 in /usr/local/lib/python3.10/dist-packages (from matplotlib<3.9,>=3.2->ydata-profiling) (3.1.1)\n",
            "Requirement already satisfied: python-dateutil>=2.7 in /usr/local/lib/python3.10/dist-packages (from matplotlib<3.9,>=3.2->ydata-profiling) (2.8.2)\n",
            "Requirement already satisfied: llvmlite<0.42,>=0.41.0dev0 in /usr/local/lib/python3.10/dist-packages (from numba<0.59.0,>=0.56.0->ydata-profiling) (0.41.1)\n",
            "Requirement already satisfied: pytz>=2020.1 in /usr/local/lib/python3.10/dist-packages (from pandas!=1.4.0,<3,>1.1->ydata-profiling) (2023.4)\n",
            "Requirement already satisfied: joblib>=0.14.1 in /usr/local/lib/python3.10/dist-packages (from phik<0.13,>=0.11.1->ydata-profiling) (1.3.2)\n",
            "Requirement already satisfied: annotated-types>=0.4.0 in /usr/local/lib/python3.10/dist-packages (from pydantic>=2->ydata-profiling) (0.6.0)\n",
            "Requirement already satisfied: pydantic-core==2.16.3 in /usr/local/lib/python3.10/dist-packages (from pydantic>=2->ydata-profiling) (2.16.3)\n",
            "Requirement already satisfied: typing-extensions>=4.6.1 in /usr/local/lib/python3.10/dist-packages (from pydantic>=2->ydata-profiling) (4.10.0)\n",
            "Requirement already satisfied: charset-normalizer<4,>=2 in /usr/local/lib/python3.10/dist-packages (from requests<3,>=2.24.0->ydata-profiling) (3.3.2)\n",
            "Requirement already satisfied: idna<4,>=2.5 in /usr/local/lib/python3.10/dist-packages (from requests<3,>=2.24.0->ydata-profiling) (3.6)\n",
            "Requirement already satisfied: urllib3<3,>=1.21.1 in /usr/local/lib/python3.10/dist-packages (from requests<3,>=2.24.0->ydata-profiling) (2.0.7)\n",
            "Requirement already satisfied: certifi>=2017.4.17 in /usr/local/lib/python3.10/dist-packages (from requests<3,>=2.24.0->ydata-profiling) (2024.2.2)\n",
            "Requirement already satisfied: patsy>=0.5.4 in /usr/local/lib/python3.10/dist-packages (from statsmodels<1,>=0.13.2->ydata-profiling) (0.5.6)\n",
            "Requirement already satisfied: six in /usr/local/lib/python3.10/dist-packages (from patsy>=0.5.4->statsmodels<1,>=0.13.2->ydata-profiling) (1.16.0)\n",
            "Building wheels for collected packages: htmlmin\n",
            "  Building wheel for htmlmin (setup.py) ... \u001b[?25l\u001b[?25hdone\n",
            "  Created wheel for htmlmin: filename=htmlmin-0.1.12-py3-none-any.whl size=27081 sha256=022ca60fc26b4a151ba8da1bd2aac07a201701031641fe725dba7707382ef335\n",
            "  Stored in directory: /root/.cache/pip/wheels/dd/91/29/a79cecb328d01739e64017b6fb9a1ab9d8cb1853098ec5966d\n",
            "Successfully built htmlmin\n",
            "Installing collected packages: htmlmin, typeguard, tangled-up-in-unicode, multimethod, dacite, imagehash, visions, seaborn, phik, ydata-profiling\n",
            "  Attempting uninstall: seaborn\n",
            "    Found existing installation: seaborn 0.13.1\n",
            "    Uninstalling seaborn-0.13.1:\n",
            "      Successfully uninstalled seaborn-0.13.1\n",
            "Successfully installed dacite-1.8.1 htmlmin-0.1.12 imagehash-4.3.1 multimethod-1.11.2 phik-0.12.4 seaborn-0.12.2 tangled-up-in-unicode-0.2.0 typeguard-4.1.5 visions-0.7.5 ydata-profiling-4.6.5\n"
          ]
        }
      ]
    },
    {
      "cell_type": "markdown",
      "source": [
        "## Install and upgrade plotly"
      ],
      "metadata": {
        "id": "kvE2HpPLog56"
      }
    },
    {
      "cell_type": "code",
      "source": [
        "!pip install --upgrade plotly"
      ],
      "metadata": {
        "colab": {
          "base_uri": "https://localhost:8080/"
        },
        "id": "NxFiOowjohLg",
        "outputId": "dd662f8c-de06-4b13-adf9-80a74bbc8c4c"
      },
      "execution_count": 3,
      "outputs": [
        {
          "output_type": "stream",
          "name": "stdout",
          "text": [
            "Requirement already satisfied: plotly in /usr/local/lib/python3.10/dist-packages (5.15.0)\n",
            "Collecting plotly\n",
            "  Downloading plotly-5.19.0-py3-none-any.whl (15.7 MB)\n",
            "\u001b[2K     \u001b[90m━━━━━━━━━━━━━━━━━━━━━━━━━━━━━━━━━━━━━━━━\u001b[0m \u001b[32m15.7/15.7 MB\u001b[0m \u001b[31m13.7 MB/s\u001b[0m eta \u001b[36m0:00:00\u001b[0m\n",
            "\u001b[?25hRequirement already satisfied: tenacity>=6.2.0 in /usr/local/lib/python3.10/dist-packages (from plotly) (8.2.3)\n",
            "Requirement already satisfied: packaging in /usr/local/lib/python3.10/dist-packages (from plotly) (23.2)\n",
            "Installing collected packages: plotly\n",
            "  Attempting uninstall: plotly\n",
            "    Found existing installation: plotly 5.15.0\n",
            "    Uninstalling plotly-5.15.0:\n",
            "      Successfully uninstalled plotly-5.15.0\n",
            "Successfully installed plotly-5.19.0\n"
          ]
        }
      ]
    },
    {
      "cell_type": "markdown",
      "source": [
        "## Import all required libraries"
      ],
      "metadata": {
        "id": "7NObit1jo_r8"
      }
    },
    {
      "cell_type": "code",
      "execution_count": 82,
      "metadata": {
        "id": "5S4KhcDvoTEX"
      },
      "outputs": [],
      "source": [
        "import pandas as pd\n",
        "import seaborn as sns\n",
        "import matplotlib.pyplot as plt\n",
        "from ydata_profiling import ProfileReport\n",
        "import plotly.express as px\n",
        "from sklearn.model_selection import train_test_split\n",
        "from sklearn.linear_model import LogisticRegression\n",
        "from sklearn.tree import DecisionTreeClassifier\n",
        "from sklearn.ensemble import RandomForestClassifier\n",
        "from sklearn.preprocessing import StandardScaler\n",
        "from sklearn.preprocessing import RobustScaler\n",
        "from sklearn.pipeline import Pipeline\n",
        "from sklearn.metrics import f1_score"
      ]
    },
    {
      "cell_type": "markdown",
      "source": [
        "## Load Dataset and display first few rows of data\n",
        "#### Data Source: https://www.kaggle.com/datasets/rodolfomendes/abalone-dataset"
      ],
      "metadata": {
        "id": "j4PFPbSStdQX"
      }
    },
    {
      "cell_type": "code",
      "source": [
        "url='https://raw.githubusercontent.com/NSCC-ITC-Winter2024-DBAS5125-700-MCr/assignment-1-pdushie/main/abalone.csv?token=GHSAT0AAAAAACMXBVWHQSD6O5O7XSFXGOQUZPCD6KQ'\n",
        "df = pd.read_csv(url)\n",
        "\n",
        "df.head()"
      ],
      "metadata": {
        "colab": {
          "base_uri": "https://localhost:8080/",
          "height": 206
        },
        "id": "lmJT7e2StdeA",
        "outputId": "22e26a65-040d-44d5-f0ac-19643ea7f561"
      },
      "execution_count": 33,
      "outputs": [
        {
          "output_type": "execute_result",
          "data": {
            "text/plain": [
              "  Sex  Length  Diameter  Height  Whole weight  Shucked weight  Viscera weight  \\\n",
              "0   M   0.455     0.365   0.095        0.5140          0.2245          0.1010   \n",
              "1   M   0.350     0.265   0.090        0.2255          0.0995          0.0485   \n",
              "2   F   0.530     0.420   0.135        0.6770          0.2565          0.1415   \n",
              "3   M   0.440     0.365   0.125        0.5160          0.2155          0.1140   \n",
              "4   I   0.330     0.255   0.080        0.2050          0.0895          0.0395   \n",
              "\n",
              "   Shell weight  Rings  \n",
              "0         0.150     15  \n",
              "1         0.070      7  \n",
              "2         0.210      9  \n",
              "3         0.155     10  \n",
              "4         0.055      7  "
            ],
            "text/html": [
              "\n",
              "  <div id=\"df-7dc11ae0-360e-4632-bdd5-9f4ab693df40\" class=\"colab-df-container\">\n",
              "    <div>\n",
              "<style scoped>\n",
              "    .dataframe tbody tr th:only-of-type {\n",
              "        vertical-align: middle;\n",
              "    }\n",
              "\n",
              "    .dataframe tbody tr th {\n",
              "        vertical-align: top;\n",
              "    }\n",
              "\n",
              "    .dataframe thead th {\n",
              "        text-align: right;\n",
              "    }\n",
              "</style>\n",
              "<table border=\"1\" class=\"dataframe\">\n",
              "  <thead>\n",
              "    <tr style=\"text-align: right;\">\n",
              "      <th></th>\n",
              "      <th>Sex</th>\n",
              "      <th>Length</th>\n",
              "      <th>Diameter</th>\n",
              "      <th>Height</th>\n",
              "      <th>Whole weight</th>\n",
              "      <th>Shucked weight</th>\n",
              "      <th>Viscera weight</th>\n",
              "      <th>Shell weight</th>\n",
              "      <th>Rings</th>\n",
              "    </tr>\n",
              "  </thead>\n",
              "  <tbody>\n",
              "    <tr>\n",
              "      <th>0</th>\n",
              "      <td>M</td>\n",
              "      <td>0.455</td>\n",
              "      <td>0.365</td>\n",
              "      <td>0.095</td>\n",
              "      <td>0.5140</td>\n",
              "      <td>0.2245</td>\n",
              "      <td>0.1010</td>\n",
              "      <td>0.150</td>\n",
              "      <td>15</td>\n",
              "    </tr>\n",
              "    <tr>\n",
              "      <th>1</th>\n",
              "      <td>M</td>\n",
              "      <td>0.350</td>\n",
              "      <td>0.265</td>\n",
              "      <td>0.090</td>\n",
              "      <td>0.2255</td>\n",
              "      <td>0.0995</td>\n",
              "      <td>0.0485</td>\n",
              "      <td>0.070</td>\n",
              "      <td>7</td>\n",
              "    </tr>\n",
              "    <tr>\n",
              "      <th>2</th>\n",
              "      <td>F</td>\n",
              "      <td>0.530</td>\n",
              "      <td>0.420</td>\n",
              "      <td>0.135</td>\n",
              "      <td>0.6770</td>\n",
              "      <td>0.2565</td>\n",
              "      <td>0.1415</td>\n",
              "      <td>0.210</td>\n",
              "      <td>9</td>\n",
              "    </tr>\n",
              "    <tr>\n",
              "      <th>3</th>\n",
              "      <td>M</td>\n",
              "      <td>0.440</td>\n",
              "      <td>0.365</td>\n",
              "      <td>0.125</td>\n",
              "      <td>0.5160</td>\n",
              "      <td>0.2155</td>\n",
              "      <td>0.1140</td>\n",
              "      <td>0.155</td>\n",
              "      <td>10</td>\n",
              "    </tr>\n",
              "    <tr>\n",
              "      <th>4</th>\n",
              "      <td>I</td>\n",
              "      <td>0.330</td>\n",
              "      <td>0.255</td>\n",
              "      <td>0.080</td>\n",
              "      <td>0.2050</td>\n",
              "      <td>0.0895</td>\n",
              "      <td>0.0395</td>\n",
              "      <td>0.055</td>\n",
              "      <td>7</td>\n",
              "    </tr>\n",
              "  </tbody>\n",
              "</table>\n",
              "</div>\n",
              "    <div class=\"colab-df-buttons\">\n",
              "\n",
              "  <div class=\"colab-df-container\">\n",
              "    <button class=\"colab-df-convert\" onclick=\"convertToInteractive('df-7dc11ae0-360e-4632-bdd5-9f4ab693df40')\"\n",
              "            title=\"Convert this dataframe to an interactive table.\"\n",
              "            style=\"display:none;\">\n",
              "\n",
              "  <svg xmlns=\"http://www.w3.org/2000/svg\" height=\"24px\" viewBox=\"0 -960 960 960\">\n",
              "    <path d=\"M120-120v-720h720v720H120Zm60-500h600v-160H180v160Zm220 220h160v-160H400v160Zm0 220h160v-160H400v160ZM180-400h160v-160H180v160Zm440 0h160v-160H620v160ZM180-180h160v-160H180v160Zm440 0h160v-160H620v160Z\"/>\n",
              "  </svg>\n",
              "    </button>\n",
              "\n",
              "  <style>\n",
              "    .colab-df-container {\n",
              "      display:flex;\n",
              "      gap: 12px;\n",
              "    }\n",
              "\n",
              "    .colab-df-convert {\n",
              "      background-color: #E8F0FE;\n",
              "      border: none;\n",
              "      border-radius: 50%;\n",
              "      cursor: pointer;\n",
              "      display: none;\n",
              "      fill: #1967D2;\n",
              "      height: 32px;\n",
              "      padding: 0 0 0 0;\n",
              "      width: 32px;\n",
              "    }\n",
              "\n",
              "    .colab-df-convert:hover {\n",
              "      background-color: #E2EBFA;\n",
              "      box-shadow: 0px 1px 2px rgba(60, 64, 67, 0.3), 0px 1px 3px 1px rgba(60, 64, 67, 0.15);\n",
              "      fill: #174EA6;\n",
              "    }\n",
              "\n",
              "    .colab-df-buttons div {\n",
              "      margin-bottom: 4px;\n",
              "    }\n",
              "\n",
              "    [theme=dark] .colab-df-convert {\n",
              "      background-color: #3B4455;\n",
              "      fill: #D2E3FC;\n",
              "    }\n",
              "\n",
              "    [theme=dark] .colab-df-convert:hover {\n",
              "      background-color: #434B5C;\n",
              "      box-shadow: 0px 1px 3px 1px rgba(0, 0, 0, 0.15);\n",
              "      filter: drop-shadow(0px 1px 2px rgba(0, 0, 0, 0.3));\n",
              "      fill: #FFFFFF;\n",
              "    }\n",
              "  </style>\n",
              "\n",
              "    <script>\n",
              "      const buttonEl =\n",
              "        document.querySelector('#df-7dc11ae0-360e-4632-bdd5-9f4ab693df40 button.colab-df-convert');\n",
              "      buttonEl.style.display =\n",
              "        google.colab.kernel.accessAllowed ? 'block' : 'none';\n",
              "\n",
              "      async function convertToInteractive(key) {\n",
              "        const element = document.querySelector('#df-7dc11ae0-360e-4632-bdd5-9f4ab693df40');\n",
              "        const dataTable =\n",
              "          await google.colab.kernel.invokeFunction('convertToInteractive',\n",
              "                                                    [key], {});\n",
              "        if (!dataTable) return;\n",
              "\n",
              "        const docLinkHtml = 'Like what you see? Visit the ' +\n",
              "          '<a target=\"_blank\" href=https://colab.research.google.com/notebooks/data_table.ipynb>data table notebook</a>'\n",
              "          + ' to learn more about interactive tables.';\n",
              "        element.innerHTML = '';\n",
              "        dataTable['output_type'] = 'display_data';\n",
              "        await google.colab.output.renderOutput(dataTable, element);\n",
              "        const docLink = document.createElement('div');\n",
              "        docLink.innerHTML = docLinkHtml;\n",
              "        element.appendChild(docLink);\n",
              "      }\n",
              "    </script>\n",
              "  </div>\n",
              "\n",
              "\n",
              "<div id=\"df-51b6fb04-4287-4512-ae35-4ab93cfd0201\">\n",
              "  <button class=\"colab-df-quickchart\" onclick=\"quickchart('df-51b6fb04-4287-4512-ae35-4ab93cfd0201')\"\n",
              "            title=\"Suggest charts\"\n",
              "            style=\"display:none;\">\n",
              "\n",
              "<svg xmlns=\"http://www.w3.org/2000/svg\" height=\"24px\"viewBox=\"0 0 24 24\"\n",
              "     width=\"24px\">\n",
              "    <g>\n",
              "        <path d=\"M19 3H5c-1.1 0-2 .9-2 2v14c0 1.1.9 2 2 2h14c1.1 0 2-.9 2-2V5c0-1.1-.9-2-2-2zM9 17H7v-7h2v7zm4 0h-2V7h2v10zm4 0h-2v-4h2v4z\"/>\n",
              "    </g>\n",
              "</svg>\n",
              "  </button>\n",
              "\n",
              "<style>\n",
              "  .colab-df-quickchart {\n",
              "      --bg-color: #E8F0FE;\n",
              "      --fill-color: #1967D2;\n",
              "      --hover-bg-color: #E2EBFA;\n",
              "      --hover-fill-color: #174EA6;\n",
              "      --disabled-fill-color: #AAA;\n",
              "      --disabled-bg-color: #DDD;\n",
              "  }\n",
              "\n",
              "  [theme=dark] .colab-df-quickchart {\n",
              "      --bg-color: #3B4455;\n",
              "      --fill-color: #D2E3FC;\n",
              "      --hover-bg-color: #434B5C;\n",
              "      --hover-fill-color: #FFFFFF;\n",
              "      --disabled-bg-color: #3B4455;\n",
              "      --disabled-fill-color: #666;\n",
              "  }\n",
              "\n",
              "  .colab-df-quickchart {\n",
              "    background-color: var(--bg-color);\n",
              "    border: none;\n",
              "    border-radius: 50%;\n",
              "    cursor: pointer;\n",
              "    display: none;\n",
              "    fill: var(--fill-color);\n",
              "    height: 32px;\n",
              "    padding: 0;\n",
              "    width: 32px;\n",
              "  }\n",
              "\n",
              "  .colab-df-quickchart:hover {\n",
              "    background-color: var(--hover-bg-color);\n",
              "    box-shadow: 0 1px 2px rgba(60, 64, 67, 0.3), 0 1px 3px 1px rgba(60, 64, 67, 0.15);\n",
              "    fill: var(--button-hover-fill-color);\n",
              "  }\n",
              "\n",
              "  .colab-df-quickchart-complete:disabled,\n",
              "  .colab-df-quickchart-complete:disabled:hover {\n",
              "    background-color: var(--disabled-bg-color);\n",
              "    fill: var(--disabled-fill-color);\n",
              "    box-shadow: none;\n",
              "  }\n",
              "\n",
              "  .colab-df-spinner {\n",
              "    border: 2px solid var(--fill-color);\n",
              "    border-color: transparent;\n",
              "    border-bottom-color: var(--fill-color);\n",
              "    animation:\n",
              "      spin 1s steps(1) infinite;\n",
              "  }\n",
              "\n",
              "  @keyframes spin {\n",
              "    0% {\n",
              "      border-color: transparent;\n",
              "      border-bottom-color: var(--fill-color);\n",
              "      border-left-color: var(--fill-color);\n",
              "    }\n",
              "    20% {\n",
              "      border-color: transparent;\n",
              "      border-left-color: var(--fill-color);\n",
              "      border-top-color: var(--fill-color);\n",
              "    }\n",
              "    30% {\n",
              "      border-color: transparent;\n",
              "      border-left-color: var(--fill-color);\n",
              "      border-top-color: var(--fill-color);\n",
              "      border-right-color: var(--fill-color);\n",
              "    }\n",
              "    40% {\n",
              "      border-color: transparent;\n",
              "      border-right-color: var(--fill-color);\n",
              "      border-top-color: var(--fill-color);\n",
              "    }\n",
              "    60% {\n",
              "      border-color: transparent;\n",
              "      border-right-color: var(--fill-color);\n",
              "    }\n",
              "    80% {\n",
              "      border-color: transparent;\n",
              "      border-right-color: var(--fill-color);\n",
              "      border-bottom-color: var(--fill-color);\n",
              "    }\n",
              "    90% {\n",
              "      border-color: transparent;\n",
              "      border-bottom-color: var(--fill-color);\n",
              "    }\n",
              "  }\n",
              "</style>\n",
              "\n",
              "  <script>\n",
              "    async function quickchart(key) {\n",
              "      const quickchartButtonEl =\n",
              "        document.querySelector('#' + key + ' button');\n",
              "      quickchartButtonEl.disabled = true;  // To prevent multiple clicks.\n",
              "      quickchartButtonEl.classList.add('colab-df-spinner');\n",
              "      try {\n",
              "        const charts = await google.colab.kernel.invokeFunction(\n",
              "            'suggestCharts', [key], {});\n",
              "      } catch (error) {\n",
              "        console.error('Error during call to suggestCharts:', error);\n",
              "      }\n",
              "      quickchartButtonEl.classList.remove('colab-df-spinner');\n",
              "      quickchartButtonEl.classList.add('colab-df-quickchart-complete');\n",
              "    }\n",
              "    (() => {\n",
              "      let quickchartButtonEl =\n",
              "        document.querySelector('#df-51b6fb04-4287-4512-ae35-4ab93cfd0201 button');\n",
              "      quickchartButtonEl.style.display =\n",
              "        google.colab.kernel.accessAllowed ? 'block' : 'none';\n",
              "    })();\n",
              "  </script>\n",
              "</div>\n",
              "\n",
              "    </div>\n",
              "  </div>\n"
            ],
            "application/vnd.google.colaboratory.intrinsic+json": {
              "type": "dataframe",
              "variable_name": "df",
              "summary": "{\n  \"name\": \"df\",\n  \"rows\": 4177,\n  \"fields\": [\n    {\n      \"column\": \"Sex\",\n      \"properties\": {\n        \"dtype\": \"category\",\n        \"num_unique_values\": 3,\n        \"samples\": [\n          \"M\",\n          \"F\",\n          \"I\"\n        ],\n        \"semantic_type\": \"\",\n        \"description\": \"\"\n      }\n    },\n    {\n      \"column\": \"Length\",\n      \"properties\": {\n        \"dtype\": \"number\",\n        \"std\": 0.12009291256479956,\n        \"min\": 0.075,\n        \"max\": 0.815,\n        \"num_unique_values\": 134,\n        \"samples\": [\n          0.815,\n          0.65,\n          0.29\n        ],\n        \"semantic_type\": \"\",\n        \"description\": \"\"\n      }\n    },\n    {\n      \"column\": \"Diameter\",\n      \"properties\": {\n        \"dtype\": \"number\",\n        \"std\": 0.09923986613365945,\n        \"min\": 0.055,\n        \"max\": 0.65,\n        \"num_unique_values\": 111,\n        \"samples\": [\n          0.09,\n          0.35,\n          0.3\n        ],\n        \"semantic_type\": \"\",\n        \"description\": \"\"\n      }\n    },\n    {\n      \"column\": \"Height\",\n      \"properties\": {\n        \"dtype\": \"number\",\n        \"std\": 0.041827056607257274,\n        \"min\": 0.0,\n        \"max\": 1.13,\n        \"num_unique_values\": 51,\n        \"samples\": [\n          0.235,\n          0.035,\n          0.015\n        ],\n        \"semantic_type\": \"\",\n        \"description\": \"\"\n      }\n    },\n    {\n      \"column\": \"Whole weight\",\n      \"properties\": {\n        \"dtype\": \"number\",\n        \"std\": 0.4903890182309977,\n        \"min\": 0.002,\n        \"max\": 2.8255,\n        \"num_unique_values\": 2429,\n        \"samples\": [\n          1.2825,\n          1.09,\n          0.131\n        ],\n        \"semantic_type\": \"\",\n        \"description\": \"\"\n      }\n    },\n    {\n      \"column\": \"Shucked weight\",\n      \"properties\": {\n        \"dtype\": \"number\",\n        \"std\": 0.22196294903322014,\n        \"min\": 0.001,\n        \"max\": 1.488,\n        \"num_unique_values\": 1515,\n        \"samples\": [\n          0.2105,\n          0.0645,\n          0.476\n        ],\n        \"semantic_type\": \"\",\n        \"description\": \"\"\n      }\n    },\n    {\n      \"column\": \"Viscera weight\",\n      \"properties\": {\n        \"dtype\": \"number\",\n        \"std\": 0.10961425025968446,\n        \"min\": 0.0005,\n        \"max\": 0.76,\n        \"num_unique_values\": 880,\n        \"samples\": [\n          0.0645,\n          0.0095,\n          0.1115\n        ],\n        \"semantic_type\": \"\",\n        \"description\": \"\"\n      }\n    },\n    {\n      \"column\": \"Shell weight\",\n      \"properties\": {\n        \"dtype\": \"number\",\n        \"std\": 0.1392026695223861,\n        \"min\": 0.0015,\n        \"max\": 1.005,\n        \"num_unique_values\": 926,\n        \"samples\": [\n          0.3745,\n          0.2825,\n          0.49\n        ],\n        \"semantic_type\": \"\",\n        \"description\": \"\"\n      }\n    },\n    {\n      \"column\": \"Rings\",\n      \"properties\": {\n        \"dtype\": \"number\",\n        \"std\": 3,\n        \"min\": 1,\n        \"max\": 29,\n        \"num_unique_values\": 28,\n        \"samples\": [\n          11,\n          27,\n          14\n        ],\n        \"semantic_type\": \"\",\n        \"description\": \"\"\n      }\n    }\n  ]\n}"
            }
          },
          "metadata": {},
          "execution_count": 33
        }
      ]
    },
    {
      "cell_type": "markdown",
      "source": [
        ">#### Do a count plot to see the ring distribution per ring class/category"
      ],
      "metadata": {
        "id": "IDuAUNrkG-Cq"
      }
    },
    {
      "cell_type": "code",
      "source": [
        "sns.countplot(data=df, x='Rings')"
      ],
      "metadata": {
        "colab": {
          "base_uri": "https://localhost:8080/",
          "height": 467
        },
        "id": "M-DEQEFKE91p",
        "outputId": "769916b3-4705-4487-c6ff-a2df3257e062"
      },
      "execution_count": 34,
      "outputs": [
        {
          "output_type": "execute_result",
          "data": {
            "text/plain": [
              "<Axes: xlabel='Rings', ylabel='count'>"
            ]
          },
          "metadata": {},
          "execution_count": 34
        },
        {
          "output_type": "display_data",
          "data": {
            "text/plain": [
              "<Figure size 640x480 with 1 Axes>"
            ],
            "image/png": "[encoded data removed]"
          },
          "metadata": {}
        }
      ]
    },
    {
      "cell_type": "markdown",
      "source": [
        ">#### Set Treshold of 20 for rings\n",
        ">###### Anything above 20 rings should be set to 20 rings. Anything less should be maintained"
      ],
      "metadata": {
        "id": "lm6jKdSLIM9C"
      }
    },
    {
      "cell_type": "code",
      "source": [
        "df.loc[df['Rings'] <=20, \"Rings\"] = df['Rings']\n",
        "df.loc[df['Rings'] >20, \"Rings\"] = 20\n",
        "print(df)"
      ],
      "metadata": {
        "id": "CIqiURJNINFx",
        "outputId": "b613519c-7ba7-4785-cd49-69de84585825",
        "colab": {
          "base_uri": "https://localhost:8080/"
        }
      },
      "execution_count": 35,
      "outputs": [
        {
          "output_type": "stream",
          "name": "stdout",
          "text": [
            "     Sex  Length  Diameter  Height  Whole weight  Shucked weight  \\\n",
            "0      M   0.455     0.365   0.095        0.5140          0.2245   \n",
            "1      M   0.350     0.265   0.090        0.2255          0.0995   \n",
            "2      F   0.530     0.420   0.135        0.6770          0.2565   \n",
            "3      M   0.440     0.365   0.125        0.5160          0.2155   \n",
            "4      I   0.330     0.255   0.080        0.2050          0.0895   \n",
            "...   ..     ...       ...     ...           ...             ...   \n",
            "4172   F   0.565     0.450   0.165        0.8870          0.3700   \n",
            "4173   M   0.590     0.440   0.135        0.9660          0.4390   \n",
            "4174   M   0.600     0.475   0.205        1.1760          0.5255   \n",
            "4175   F   0.625     0.485   0.150        1.0945          0.5310   \n",
            "4176   M   0.710     0.555   0.195        1.9485          0.9455   \n",
            "\n",
            "      Viscera weight  Shell weight  Rings  \n",
            "0             0.1010        0.1500     15  \n",
            "1             0.0485        0.0700      7  \n",
            "2             0.1415        0.2100      9  \n",
            "3             0.1140        0.1550     10  \n",
            "4             0.0395        0.0550      7  \n",
            "...              ...           ...    ...  \n",
            "4172          0.2390        0.2490     11  \n",
            "4173          0.2145        0.2605     10  \n",
            "4174          0.2875        0.3080      9  \n",
            "4175          0.2610        0.2960     10  \n",
            "4176          0.3765        0.4950     12  \n",
            "\n",
            "[4177 rows x 9 columns]\n"
          ]
        }
      ]
    },
    {
      "cell_type": "markdown",
      "source": [
        ">#### Use entries with rings between 8 and 11"
      ],
      "metadata": {
        "id": "fAhxBXYuli-X"
      }
    },
    {
      "cell_type": "code",
      "source": [
        "df = df[df['Rings'].between(8,11)]\n",
        "print(df)"
      ],
      "metadata": {
        "id": "FE4ugFVCljHO",
        "outputId": "5f57098a-8575-4673-ffc5-ac651d3016d6",
        "colab": {
          "base_uri": "https://localhost:8080/"
        }
      },
      "execution_count": 36,
      "outputs": [
        {
          "output_type": "stream",
          "name": "stdout",
          "text": [
            "     Sex  Length  Diameter  Height  Whole weight  Shucked weight  \\\n",
            "2      F   0.530     0.420   0.135        0.6770          0.2565   \n",
            "3      M   0.440     0.365   0.125        0.5160          0.2155   \n",
            "5      I   0.425     0.300   0.095        0.3515          0.1410   \n",
            "8      M   0.475     0.370   0.125        0.5095          0.2165   \n",
            "11     M   0.430     0.350   0.110        0.4060          0.1675   \n",
            "...   ..     ...       ...     ...           ...             ...   \n",
            "4171   M   0.560     0.430   0.155        0.8675          0.4000   \n",
            "4172   F   0.565     0.450   0.165        0.8870          0.3700   \n",
            "4173   M   0.590     0.440   0.135        0.9660          0.4390   \n",
            "4174   M   0.600     0.475   0.205        1.1760          0.5255   \n",
            "4175   F   0.625     0.485   0.150        1.0945          0.5310   \n",
            "\n",
            "      Viscera weight  Shell weight  Rings  \n",
            "2             0.1415        0.2100      9  \n",
            "3             0.1140        0.1550     10  \n",
            "5             0.0775        0.1200      8  \n",
            "8             0.1125        0.1650      9  \n",
            "11            0.0810        0.1350     10  \n",
            "...              ...           ...    ...  \n",
            "4171          0.1720        0.2290      8  \n",
            "4172          0.2390        0.2490     11  \n",
            "4173          0.2145        0.2605     10  \n",
            "4174          0.2875        0.3080      9  \n",
            "4175          0.2610        0.2960     10  \n",
            "\n",
            "[2378 rows x 9 columns]\n"
          ]
        }
      ]
    },
    {
      "cell_type": "markdown",
      "source": [
        ">#### Create new feature called Shell volume"
      ],
      "metadata": {
        "id": "-tU6DHzEfYXZ"
      }
    },
    {
      "cell_type": "code",
      "source": [
        "df['Shell volume'] = df['Length']*df['Height']*df['Diameter']"
      ],
      "metadata": {
        "id": "-UjbTBdhfYhQ"
      },
      "execution_count": 37,
      "outputs": []
    },
    {
      "cell_type": "markdown",
      "source": [
        "## View the structure and datatypes of the dataset"
      ],
      "metadata": {
        "id": "jHnqn-oquWRn"
      }
    },
    {
      "cell_type": "code",
      "source": [
        "#df_adults.info()\n",
        "\n",
        "df.info()"
      ],
      "metadata": {
        "colab": {
          "base_uri": "https://localhost:8080/"
        },
        "id": "sY5vHrAiuXBJ",
        "outputId": "2206d2a7-2980-43b0-b98c-83e10496962c"
      },
      "execution_count": 38,
      "outputs": [
        {
          "output_type": "stream",
          "name": "stdout",
          "text": [
            "<class 'pandas.core.frame.DataFrame'>\n",
            "Int64Index: 2378 entries, 2 to 4175\n",
            "Data columns (total 10 columns):\n",
            " #   Column          Non-Null Count  Dtype  \n",
            "---  ------          --------------  -----  \n",
            " 0   Sex             2378 non-null   object \n",
            " 1   Length          2378 non-null   float64\n",
            " 2   Diameter        2378 non-null   float64\n",
            " 3   Height          2378 non-null   float64\n",
            " 4   Whole weight    2378 non-null   float64\n",
            " 5   Shucked weight  2378 non-null   float64\n",
            " 6   Viscera weight  2378 non-null   float64\n",
            " 7   Shell weight    2378 non-null   float64\n",
            " 8   Rings           2378 non-null   int64  \n",
            " 9   Shell volume    2378 non-null   float64\n",
            "dtypes: float64(8), int64(1), object(1)\n",
            "memory usage: 204.4+ KB\n"
          ]
        }
      ]
    },
    {
      "cell_type": "markdown",
      "source": [
        "## View statistical information about the data"
      ],
      "metadata": {
        "id": "DP__oBhnmh3V"
      }
    },
    {
      "cell_type": "code",
      "source": [
        "df.describe()"
      ],
      "metadata": {
        "colab": {
          "base_uri": "https://localhost:8080/",
          "height": 300
        },
        "id": "fSI_eZSBmiGy",
        "outputId": "86dcd188-8be1-4593-aa89-3d3895069f98"
      },
      "execution_count": 39,
      "outputs": [
        {
          "output_type": "execute_result",
          "data": {
            "text/plain": [
              "            Length     Diameter       Height  Whole weight  Shucked weight  \\\n",
              "count  2378.000000  2378.000000  2378.000000   2378.000000     2378.000000   \n",
              "mean      0.553534     0.431274     0.146165      0.902841        0.405015   \n",
              "std       0.090847     0.074691     0.036689      0.425292        0.204874   \n",
              "min       0.255000     0.195000     0.000000      0.080000        0.031500   \n",
              "25%       0.495000     0.380000     0.125000      0.577125        0.248000   \n",
              "50%       0.565000     0.440000     0.145000      0.873000        0.388750   \n",
              "75%       0.620000     0.485000     0.165000      1.179375        0.533000   \n",
              "max       0.780000     0.630000     1.130000      2.657000        1.488000   \n",
              "\n",
              "       Viscera weight  Shell weight        Rings  Shell volume  \n",
              "count     2378.000000   2378.000000  2378.000000   2378.000000  \n",
              "mean         0.198673      0.252139     9.437342      0.037804  \n",
              "std          0.097633      0.110330     1.064824      0.018456  \n",
              "min          0.013500      0.027000     8.000000      0.000000  \n",
              "25%          0.123625      0.169000     9.000000      0.023697  \n",
              "50%          0.188500      0.246000     9.000000      0.036540  \n",
              "75%          0.261500      0.322000    10.000000      0.049812  \n",
              "max          0.574500      0.678500    11.000000      0.205137  "
            ],
            "text/html": [
              "\n",
              "  <div id=\"df-dbb5fdba-e94d-4992-ba9f-0377ba31a5ae\" class=\"colab-df-container\">\n",
              "    <div>\n",
              "<style scoped>\n",
              "    .dataframe tbody tr th:only-of-type {\n",
              "        vertical-align: middle;\n",
              "    }\n",
              "\n",
              "    .dataframe tbody tr th {\n",
              "        vertical-align: top;\n",
              "    }\n",
              "\n",
              "    .dataframe thead th {\n",
              "        text-align: right;\n",
              "    }\n",
              "</style>\n",
              "<table border=\"1\" class=\"dataframe\">\n",
              "  <thead>\n",
              "    <tr style=\"text-align: right;\">\n",
              "      <th></th>\n",
              "      <th>Length</th>\n",
              "      <th>Diameter</th>\n",
              "      <th>Height</th>\n",
              "      <th>Whole weight</th>\n",
              "      <th>Shucked weight</th>\n",
              "      <th>Viscera weight</th>\n",
              "      <th>Shell weight</th>\n",
              "      <th>Rings</th>\n",
              "      <th>Shell volume</th>\n",
              "    </tr>\n",
              "  </thead>\n",
              "  <tbody>\n",
              "    <tr>\n",
              "      <th>count</th>\n",
              "      <td>2378.000000</td>\n",
              "      <td>2378.000000</td>\n",
              "      <td>2378.000000</td>\n",
              "      <td>2378.000000</td>\n",
              "      <td>2378.000000</td>\n",
              "      <td>2378.000000</td>\n",
              "      <td>2378.000000</td>\n",
              "      <td>2378.000000</td>\n",
              "      <td>2378.000000</td>\n",
              "    </tr>\n",
              "    <tr>\n",
              "      <th>mean</th>\n",
              "      <td>0.553534</td>\n",
              "      <td>0.431274</td>\n",
              "      <td>0.146165</td>\n",
              "      <td>0.902841</td>\n",
              "      <td>0.405015</td>\n",
              "      <td>0.198673</td>\n",
              "      <td>0.252139</td>\n",
              "      <td>9.437342</td>\n",
              "      <td>0.037804</td>\n",
              "    </tr>\n",
              "    <tr>\n",
              "      <th>std</th>\n",
              "      <td>0.090847</td>\n",
              "      <td>0.074691</td>\n",
              "      <td>0.036689</td>\n",
              "      <td>0.425292</td>\n",
              "      <td>0.204874</td>\n",
              "      <td>0.097633</td>\n",
              "      <td>0.110330</td>\n",
              "      <td>1.064824</td>\n",
              "      <td>0.018456</td>\n",
              "    </tr>\n",
              "    <tr>\n",
              "      <th>min</th>\n",
              "      <td>0.255000</td>\n",
              "      <td>0.195000</td>\n",
              "      <td>0.000000</td>\n",
              "      <td>0.080000</td>\n",
              "      <td>0.031500</td>\n",
              "      <td>0.013500</td>\n",
              "      <td>0.027000</td>\n",
              "      <td>8.000000</td>\n",
              "      <td>0.000000</td>\n",
              "    </tr>\n",
              "    <tr>\n",
              "      <th>25%</th>\n",
              "      <td>0.495000</td>\n",
              "      <td>0.380000</td>\n",
              "      <td>0.125000</td>\n",
              "      <td>0.577125</td>\n",
              "      <td>0.248000</td>\n",
              "      <td>0.123625</td>\n",
              "      <td>0.169000</td>\n",
              "      <td>9.000000</td>\n",
              "      <td>0.023697</td>\n",
              "    </tr>\n",
              "    <tr>\n",
              "      <th>50%</th>\n",
              "      <td>0.565000</td>\n",
              "      <td>0.440000</td>\n",
              "      <td>0.145000</td>\n",
              "      <td>0.873000</td>\n",
              "      <td>0.388750</td>\n",
              "      <td>0.188500</td>\n",
              "      <td>0.246000</td>\n",
              "      <td>9.000000</td>\n",
              "      <td>0.036540</td>\n",
              "    </tr>\n",
              "    <tr>\n",
              "      <th>75%</th>\n",
              "      <td>0.620000</td>\n",
              "      <td>0.485000</td>\n",
              "      <td>0.165000</td>\n",
              "      <td>1.179375</td>\n",
              "      <td>0.533000</td>\n",
              "      <td>0.261500</td>\n",
              "      <td>0.322000</td>\n",
              "      <td>10.000000</td>\n",
              "      <td>0.049812</td>\n",
              "    </tr>\n",
              "    <tr>\n",
              "      <th>max</th>\n",
              "      <td>0.780000</td>\n",
              "      <td>0.630000</td>\n",
              "      <td>1.130000</td>\n",
              "      <td>2.657000</td>\n",
              "      <td>1.488000</td>\n",
              "      <td>0.574500</td>\n",
              "      <td>0.678500</td>\n",
              "      <td>11.000000</td>\n",
              "      <td>0.205137</td>\n",
              "    </tr>\n",
              "  </tbody>\n",
              "</table>\n",
              "</div>\n",
              "    <div class=\"colab-df-buttons\">\n",
              "\n",
              "  <div class=\"colab-df-container\">\n",
              "    <button class=\"colab-df-convert\" onclick=\"convertToInteractive('df-dbb5fdba-e94d-4992-ba9f-0377ba31a5ae')\"\n",
              "            title=\"Convert this dataframe to an interactive table.\"\n",
              "            style=\"display:none;\">\n",
              "\n",
              "  <svg xmlns=\"http://www.w3.org/2000/svg\" height=\"24px\" viewBox=\"0 -960 960 960\">\n",
              "    <path d=\"M120-120v-720h720v720H120Zm60-500h600v-160H180v160Zm220 220h160v-160H400v160Zm0 220h160v-160H400v160ZM180-400h160v-160H180v160Zm440 0h160v-160H620v160ZM180-180h160v-160H180v160Zm440 0h160v-160H620v160Z\"/>\n",
              "  </svg>\n",
              "    </button>\n",
              "\n",
              "  <style>\n",
              "    .colab-df-container {\n",
              "      display:flex;\n",
              "      gap: 12px;\n",
              "    }\n",
              "\n",
              "    .colab-df-convert {\n",
              "      background-color: #E8F0FE;\n",
              "      border: none;\n",
              "      border-radius: 50%;\n",
              "      cursor: pointer;\n",
              "      display: none;\n",
              "      fill: #1967D2;\n",
              "      height: 32px;\n",
              "      padding: 0 0 0 0;\n",
              "      width: 32px;\n",
              "    }\n",
              "\n",
              "    .colab-df-convert:hover {\n",
              "      background-color: #E2EBFA;\n",
              "      box-shadow: 0px 1px 2px rgba(60, 64, 67, 0.3), 0px 1px 3px 1px rgba(60, 64, 67, 0.15);\n",
              "      fill: #174EA6;\n",
              "    }\n",
              "\n",
              "    .colab-df-buttons div {\n",
              "      margin-bottom: 4px;\n",
              "    }\n",
              "\n",
              "    [theme=dark] .colab-df-convert {\n",
              "      background-color: #3B4455;\n",
              "      fill: #D2E3FC;\n",
              "    }\n",
              "\n",
              "    [theme=dark] .colab-df-convert:hover {\n",
              "      background-color: #434B5C;\n",
              "      box-shadow: 0px 1px 3px 1px rgba(0, 0, 0, 0.15);\n",
              "      filter: drop-shadow(0px 1px 2px rgba(0, 0, 0, 0.3));\n",
              "      fill: #FFFFFF;\n",
              "    }\n",
              "  </style>\n",
              "\n",
              "    <script>\n",
              "      const buttonEl =\n",
              "        document.querySelector('#df-dbb5fdba-e94d-4992-ba9f-0377ba31a5ae button.colab-df-convert');\n",
              "      buttonEl.style.display =\n",
              "        google.colab.kernel.accessAllowed ? 'block' : 'none';\n",
              "\n",
              "      async function convertToInteractive(key) {\n",
              "        const element = document.querySelector('#df-dbb5fdba-e94d-4992-ba9f-0377ba31a5ae');\n",
              "        const dataTable =\n",
              "          await google.colab.kernel.invokeFunction('convertToInteractive',\n",
              "                                                    [key], {});\n",
              "        if (!dataTable) return;\n",
              "\n",
              "        const docLinkHtml = 'Like what you see? Visit the ' +\n",
              "          '<a target=\"_blank\" href=https://colab.research.google.com/notebooks/data_table.ipynb>data table notebook</a>'\n",
              "          + ' to learn more about interactive tables.';\n",
              "        element.innerHTML = '';\n",
              "        dataTable['output_type'] = 'display_data';\n",
              "        await google.colab.output.renderOutput(dataTable, element);\n",
              "        const docLink = document.createElement('div');\n",
              "        docLink.innerHTML = docLinkHtml;\n",
              "        element.appendChild(docLink);\n",
              "      }\n",
              "    </script>\n",
              "  </div>\n",
              "\n",
              "\n",
              "<div id=\"df-adb97757-353b-4653-9e26-33cbedb123bf\">\n",
              "  <button class=\"colab-df-quickchart\" onclick=\"quickchart('df-adb97757-353b-4653-9e26-33cbedb123bf')\"\n",
              "            title=\"Suggest charts\"\n",
              "            style=\"display:none;\">\n",
              "\n",
              "<svg xmlns=\"http://www.w3.org/2000/svg\" height=\"24px\"viewBox=\"0 0 24 24\"\n",
              "     width=\"24px\">\n",
              "    <g>\n",
              "        <path d=\"M19 3H5c-1.1 0-2 .9-2 2v14c0 1.1.9 2 2 2h14c1.1 0 2-.9 2-2V5c0-1.1-.9-2-2-2zM9 17H7v-7h2v7zm4 0h-2V7h2v10zm4 0h-2v-4h2v4z\"/>\n",
              "    </g>\n",
              "</svg>\n",
              "  </button>\n",
              "\n",
              "<style>\n",
              "  .colab-df-quickchart {\n",
              "      --bg-color: #E8F0FE;\n",
              "      --fill-color: #1967D2;\n",
              "      --hover-bg-color: #E2EBFA;\n",
              "      --hover-fill-color: #174EA6;\n",
              "      --disabled-fill-color: #AAA;\n",
              "      --disabled-bg-color: #DDD;\n",
              "  }\n",
              "\n",
              "  [theme=dark] .colab-df-quickchart {\n",
              "      --bg-color: #3B4455;\n",
              "      --fill-color: #D2E3FC;\n",
              "      --hover-bg-color: #434B5C;\n",
              "      --hover-fill-color: #FFFFFF;\n",
              "      --disabled-bg-color: #3B4455;\n",
              "      --disabled-fill-color: #666;\n",
              "  }\n",
              "\n",
              "  .colab-df-quickchart {\n",
              "    background-color: var(--bg-color);\n",
              "    border: none;\n",
              "    border-radius: 50%;\n",
              "    cursor: pointer;\n",
              "    display: none;\n",
              "    fill: var(--fill-color);\n",
              "    height: 32px;\n",
              "    padding: 0;\n",
              "    width: 32px;\n",
              "  }\n",
              "\n",
              "  .colab-df-quickchart:hover {\n",
              "    background-color: var(--hover-bg-color);\n",
              "    box-shadow: 0 1px 2px rgba(60, 64, 67, 0.3), 0 1px 3px 1px rgba(60, 64, 67, 0.15);\n",
              "    fill: var(--button-hover-fill-color);\n",
              "  }\n",
              "\n",
              "  .colab-df-quickchart-complete:disabled,\n",
              "  .colab-df-quickchart-complete:disabled:hover {\n",
              "    background-color: var(--disabled-bg-color);\n",
              "    fill: var(--disabled-fill-color);\n",
              "    box-shadow: none;\n",
              "  }\n",
              "\n",
              "  .colab-df-spinner {\n",
              "    border: 2px solid var(--fill-color);\n",
              "    border-color: transparent;\n",
              "    border-bottom-color: var(--fill-color);\n",
              "    animation:\n",
              "      spin 1s steps(1) infinite;\n",
              "  }\n",
              "\n",
              "  @keyframes spin {\n",
              "    0% {\n",
              "      border-color: transparent;\n",
              "      border-bottom-color: var(--fill-color);\n",
              "      border-left-color: var(--fill-color);\n",
              "    }\n",
              "    20% {\n",
              "      border-color: transparent;\n",
              "      border-left-color: var(--fill-color);\n",
              "      border-top-color: var(--fill-color);\n",
              "    }\n",
              "    30% {\n",
              "      border-color: transparent;\n",
              "      border-left-color: var(--fill-color);\n",
              "      border-top-color: var(--fill-color);\n",
              "      border-right-color: var(--fill-color);\n",
              "    }\n",
              "    40% {\n",
              "      border-color: transparent;\n",
              "      border-right-color: var(--fill-color);\n",
              "      border-top-color: var(--fill-color);\n",
              "    }\n",
              "    60% {\n",
              "      border-color: transparent;\n",
              "      border-right-color: var(--fill-color);\n",
              "    }\n",
              "    80% {\n",
              "      border-color: transparent;\n",
              "      border-right-color: var(--fill-color);\n",
              "      border-bottom-color: var(--fill-color);\n",
              "    }\n",
              "    90% {\n",
              "      border-color: transparent;\n",
              "      border-bottom-color: var(--fill-color);\n",
              "    }\n",
              "  }\n",
              "</style>\n",
              "\n",
              "  <script>\n",
              "    async function quickchart(key) {\n",
              "      const quickchartButtonEl =\n",
              "        document.querySelector('#' + key + ' button');\n",
              "      quickchartButtonEl.disabled = true;  // To prevent multiple clicks.\n",
              "      quickchartButtonEl.classList.add('colab-df-spinner');\n",
              "      try {\n",
              "        const charts = await google.colab.kernel.invokeFunction(\n",
              "            'suggestCharts', [key], {});\n",
              "      } catch (error) {\n",
              "        console.error('Error during call to suggestCharts:', error);\n",
              "      }\n",
              "      quickchartButtonEl.classList.remove('colab-df-spinner');\n",
              "      quickchartButtonEl.classList.add('colab-df-quickchart-complete');\n",
              "    }\n",
              "    (() => {\n",
              "      let quickchartButtonEl =\n",
              "        document.querySelector('#df-adb97757-353b-4653-9e26-33cbedb123bf button');\n",
              "      quickchartButtonEl.style.display =\n",
              "        google.colab.kernel.accessAllowed ? 'block' : 'none';\n",
              "    })();\n",
              "  </script>\n",
              "</div>\n",
              "\n",
              "    </div>\n",
              "  </div>\n"
            ],
            "application/vnd.google.colaboratory.intrinsic+json": {
              "type": "dataframe",
              "summary": "{\n  \"name\": \"df\",\n  \"rows\": 8,\n  \"fields\": [\n    {\n      \"column\": \"Length\",\n      \"properties\": {\n        \"dtype\": \"number\",\n        \"std\": 840.580316035355,\n        \"min\": 0.0908466873508007,\n        \"max\": 2378.0,\n        \"num_unique_values\": 8,\n        \"samples\": [\n          0.5535344827586207,\n          0.565,\n          2378.0\n        ],\n        \"semantic_type\": \"\",\n        \"description\": \"\"\n      }\n    },\n    {\n      \"column\": \"Diameter\",\n      \"properties\": {\n        \"dtype\": \"number\",\n        \"std\": 840.6168440809911,\n        \"min\": 0.07469103161619785,\n        \"max\": 2378.0,\n        \"num_unique_values\": 8,\n        \"samples\": [\n          0.431274179983179,\n          0.44,\n          2378.0\n        ],\n        \"semantic_type\": \"\",\n        \"description\": \"\"\n      }\n    },\n    {\n      \"column\": \"Height\",\n      \"properties\": {\n        \"dtype\": \"number\",\n        \"std\": 840.6617616686731,\n        \"min\": 0.0,\n        \"max\": 2378.0,\n        \"num_unique_values\": 8,\n        \"samples\": [\n          0.14616484440706476,\n          0.145,\n          2378.0\n        ],\n        \"semantic_type\": \"\",\n        \"description\": \"\"\n      }\n    },\n    {\n      \"column\": \"Whole weight\",\n      \"properties\": {\n        \"dtype\": \"number\",\n        \"std\": 840.4121851142854,\n        \"min\": 0.08,\n        \"max\": 2378.0,\n        \"num_unique_values\": 8,\n        \"samples\": [\n          0.902841253153911,\n          0.873,\n          2378.0\n        ],\n        \"semantic_type\": \"\",\n        \"description\": \"\"\n      }\n    },\n    {\n      \"column\": \"Shucked weight\",\n      \"properties\": {\n        \"dtype\": \"number\",\n        \"std\": 840.5834470137183,\n        \"min\": 0.0315,\n        \"max\": 2378.0,\n        \"num_unique_values\": 8,\n        \"samples\": [\n          0.4050145079899075,\n          0.38875000000000004,\n          2378.0\n        ],\n        \"semantic_type\": \"\",\n        \"description\": \"\"\n      }\n    },\n    {\n      \"column\": \"Viscera weight\",\n      \"properties\": {\n        \"dtype\": \"number\",\n        \"std\": 840.6763427686093,\n        \"min\": 0.0135,\n        \"max\": 2378.0,\n        \"num_unique_values\": 8,\n        \"samples\": [\n          0.19867262405382674,\n          0.1885,\n          2378.0\n        ],\n        \"semantic_type\": \"\",\n        \"description\": \"\"\n      }\n    },\n    {\n      \"column\": \"Shell weight\",\n      \"properties\": {\n        \"dtype\": \"number\",\n        \"std\": 840.6588205769318,\n        \"min\": 0.027,\n        \"max\": 2378.0,\n        \"num_unique_values\": 8,\n        \"samples\": [\n          0.25213877207737595,\n          0.246,\n          2378.0\n        ],\n        \"semantic_type\": \"\",\n        \"description\": \"\"\n      }\n    },\n    {\n      \"column\": \"Rings\",\n      \"properties\": {\n        \"dtype\": \"number\",\n        \"std\": 837.8511926144063,\n        \"min\": 1.0648244335082275,\n        \"max\": 2378.0,\n        \"num_unique_values\": 7,\n        \"samples\": [\n          2378.0,\n          9.437342304457527,\n          10.0\n        ],\n        \"semantic_type\": \"\",\n        \"description\": \"\"\n      }\n    },\n    {\n      \"column\": \"Shell volume\",\n      \"properties\": {\n        \"dtype\": \"number\",\n        \"std\": 840.7312043399202,\n        \"min\": 0.0,\n        \"max\": 2378.0,\n        \"num_unique_values\": 8,\n        \"samples\": [\n          0.037804248370479396,\n          0.03654,\n          2378.0\n        ],\n        \"semantic_type\": \"\",\n        \"description\": \"\"\n      }\n    }\n  ]\n}"
            }
          },
          "metadata": {},
          "execution_count": 39
        }
      ]
    },
    {
      "cell_type": "markdown",
      "source": [
        "## Check for null fields in the dataset"
      ],
      "metadata": {
        "id": "2ICrdwtH4urH"
      }
    },
    {
      "cell_type": "code",
      "source": [
        "df.isnull().sum()"
      ],
      "metadata": {
        "colab": {
          "base_uri": "https://localhost:8080/"
        },
        "id": "a1QxLdlA4Ig3",
        "outputId": "8aee9290-3a9b-4295-da1f-a5a693106b08"
      },
      "execution_count": 42,
      "outputs": [
        {
          "output_type": "execute_result",
          "data": {
            "text/plain": [
              "Sex               0\n",
              "Length            0\n",
              "Diameter          0\n",
              "Height            0\n",
              "Whole weight      0\n",
              "Shucked weight    0\n",
              "Viscera weight    0\n",
              "Shell weight      0\n",
              "Rings             0\n",
              "Shell volume      0\n",
              "dtype: int64"
            ]
          },
          "metadata": {},
          "execution_count": 42
        }
      ]
    },
    {
      "cell_type": "markdown",
      "source": [
        "## Check for Missing values"
      ],
      "metadata": {
        "id": "ss0o_lkGmRLS"
      }
    },
    {
      "cell_type": "code",
      "source": [
        "df.isna().sum()"
      ],
      "metadata": {
        "colab": {
          "base_uri": "https://localhost:8080/"
        },
        "id": "vu73xQCmmRk1",
        "outputId": "caccfe57-24ab-4e0a-9f30-ede483b5bab8"
      },
      "execution_count": 44,
      "outputs": [
        {
          "output_type": "execute_result",
          "data": {
            "text/plain": [
              "Sex               0\n",
              "Length            0\n",
              "Diameter          0\n",
              "Height            0\n",
              "Whole weight      0\n",
              "Shucked weight    0\n",
              "Viscera weight    0\n",
              "Shell weight      0\n",
              "Rings             0\n",
              "Shell volume      0\n",
              "dtype: int64"
            ]
          },
          "metadata": {},
          "execution_count": 44
        }
      ]
    },
    {
      "cell_type": "markdown",
      "source": [
        "## Encode the categorical feature (Sex)"
      ],
      "metadata": {
        "id": "m0iZWZ1NemcF"
      }
    },
    {
      "cell_type": "code",
      "source": [
        "df['Sex'] = df['Sex'].map({\"M\":0,\"F\":1,\"I\":2})\n",
        "df.head()"
      ],
      "metadata": {
        "colab": {
          "base_uri": "https://localhost:8080/",
          "height": 206
        },
        "id": "UM2EiN2Bemqi",
        "outputId": "6f3e801e-0675-45c1-e6e0-cfde6da74be2"
      },
      "execution_count": 45,
      "outputs": [
        {
          "output_type": "execute_result",
          "data": {
            "text/plain": [
              "    Sex  Length  Diameter  Height  Whole weight  Shucked weight  \\\n",
              "2     1   0.530     0.420   0.135        0.6770          0.2565   \n",
              "3     0   0.440     0.365   0.125        0.5160          0.2155   \n",
              "5     2   0.425     0.300   0.095        0.3515          0.1410   \n",
              "8     0   0.475     0.370   0.125        0.5095          0.2165   \n",
              "11    0   0.430     0.350   0.110        0.4060          0.1675   \n",
              "\n",
              "    Viscera weight  Shell weight  Rings  Shell volume  \n",
              "2           0.1415         0.210      9      0.030051  \n",
              "3           0.1140         0.155     10      0.020075  \n",
              "5           0.0775         0.120      8      0.012113  \n",
              "8           0.1125         0.165      9      0.021969  \n",
              "11          0.0810         0.135     10      0.016555  "
            ],
            "text/html": [
              "\n",
              "  <div id=\"df-d06ad9fd-0ec1-4846-b0c8-c386f316be43\" class=\"colab-df-container\">\n",
              "    <div>\n",
              "<style scoped>\n",
              "    .dataframe tbody tr th:only-of-type {\n",
              "        vertical-align: middle;\n",
              "    }\n",
              "\n",
              "    .dataframe tbody tr th {\n",
              "        vertical-align: top;\n",
              "    }\n",
              "\n",
              "    .dataframe thead th {\n",
              "        text-align: right;\n",
              "    }\n",
              "</style>\n",
              "<table border=\"1\" class=\"dataframe\">\n",
              "  <thead>\n",
              "    <tr style=\"text-align: right;\">\n",
              "      <th></th>\n",
              "      <th>Sex</th>\n",
              "      <th>Length</th>\n",
              "      <th>Diameter</th>\n",
              "      <th>Height</th>\n",
              "      <th>Whole weight</th>\n",
              "      <th>Shucked weight</th>\n",
              "      <th>Viscera weight</th>\n",
              "      <th>Shell weight</th>\n",
              "      <th>Rings</th>\n",
              "      <th>Shell volume</th>\n",
              "    </tr>\n",
              "  </thead>\n",
              "  <tbody>\n",
              "    <tr>\n",
              "      <th>2</th>\n",
              "      <td>1</td>\n",
              "      <td>0.530</td>\n",
              "      <td>0.420</td>\n",
              "      <td>0.135</td>\n",
              "      <td>0.6770</td>\n",
              "      <td>0.2565</td>\n",
              "      <td>0.1415</td>\n",
              "      <td>0.210</td>\n",
              "      <td>9</td>\n",
              "      <td>0.030051</td>\n",
              "    </tr>\n",
              "    <tr>\n",
              "      <th>3</th>\n",
              "      <td>0</td>\n",
              "      <td>0.440</td>\n",
              "      <td>0.365</td>\n",
              "      <td>0.125</td>\n",
              "      <td>0.5160</td>\n",
              "      <td>0.2155</td>\n",
              "      <td>0.1140</td>\n",
              "      <td>0.155</td>\n",
              "      <td>10</td>\n",
              "      <td>0.020075</td>\n",
              "    </tr>\n",
              "    <tr>\n",
              "      <th>5</th>\n",
              "      <td>2</td>\n",
              "      <td>0.425</td>\n",
              "      <td>0.300</td>\n",
              "      <td>0.095</td>\n",
              "      <td>0.3515</td>\n",
              "      <td>0.1410</td>\n",
              "      <td>0.0775</td>\n",
              "      <td>0.120</td>\n",
              "      <td>8</td>\n",
              "      <td>0.012113</td>\n",
              "    </tr>\n",
              "    <tr>\n",
              "      <th>8</th>\n",
              "      <td>0</td>\n",
              "      <td>0.475</td>\n",
              "      <td>0.370</td>\n",
              "      <td>0.125</td>\n",
              "      <td>0.5095</td>\n",
              "      <td>0.2165</td>\n",
              "      <td>0.1125</td>\n",
              "      <td>0.165</td>\n",
              "      <td>9</td>\n",
              "      <td>0.021969</td>\n",
              "    </tr>\n",
              "    <tr>\n",
              "      <th>11</th>\n",
              "      <td>0</td>\n",
              "      <td>0.430</td>\n",
              "      <td>0.350</td>\n",
              "      <td>0.110</td>\n",
              "      <td>0.4060</td>\n",
              "      <td>0.1675</td>\n",
              "      <td>0.0810</td>\n",
              "      <td>0.135</td>\n",
              "      <td>10</td>\n",
              "      <td>0.016555</td>\n",
              "    </tr>\n",
              "  </tbody>\n",
              "</table>\n",
              "</div>\n",
              "    <div class=\"colab-df-buttons\">\n",
              "\n",
              "  <div class=\"colab-df-container\">\n",
              "    <button class=\"colab-df-convert\" onclick=\"convertToInteractive('df-d06ad9fd-0ec1-4846-b0c8-c386f316be43')\"\n",
              "            title=\"Convert this dataframe to an interactive table.\"\n",
              "            style=\"display:none;\">\n",
              "\n",
              "  <svg xmlns=\"http://www.w3.org/2000/svg\" height=\"24px\" viewBox=\"0 -960 960 960\">\n",
              "    <path d=\"M120-120v-720h720v720H120Zm60-500h600v-160H180v160Zm220 220h160v-160H400v160Zm0 220h160v-160H400v160ZM180-400h160v-160H180v160Zm440 0h160v-160H620v160ZM180-180h160v-160H180v160Zm440 0h160v-160H620v160Z\"/>\n",
              "  </svg>\n",
              "    </button>\n",
              "\n",
              "  <style>\n",
              "    .colab-df-container {\n",
              "      display:flex;\n",
              "      gap: 12px;\n",
              "    }\n",
              "\n",
              "    .colab-df-convert {\n",
              "      background-color: #E8F0FE;\n",
              "      border: none;\n",
              "      border-radius: 50%;\n",
              "      cursor: pointer;\n",
              "      display: none;\n",
              "      fill: #1967D2;\n",
              "      height: 32px;\n",
              "      padding: 0 0 0 0;\n",
              "      width: 32px;\n",
              "    }\n",
              "\n",
              "    .colab-df-convert:hover {\n",
              "      background-color: #E2EBFA;\n",
              "      box-shadow: 0px 1px 2px rgba(60, 64, 67, 0.3), 0px 1px 3px 1px rgba(60, 64, 67, 0.15);\n",
              "      fill: #174EA6;\n",
              "    }\n",
              "\n",
              "    .colab-df-buttons div {\n",
              "      margin-bottom: 4px;\n",
              "    }\n",
              "\n",
              "    [theme=dark] .colab-df-convert {\n",
              "      background-color: #3B4455;\n",
              "      fill: #D2E3FC;\n",
              "    }\n",
              "\n",
              "    [theme=dark] .colab-df-convert:hover {\n",
              "      background-color: #434B5C;\n",
              "      box-shadow: 0px 1px 3px 1px rgba(0, 0, 0, 0.15);\n",
              "      filter: drop-shadow(0px 1px 2px rgba(0, 0, 0, 0.3));\n",
              "      fill: #FFFFFF;\n",
              "    }\n",
              "  </style>\n",
              "\n",
              "    <script>\n",
              "      const buttonEl =\n",
              "        document.querySelector('#df-d06ad9fd-0ec1-4846-b0c8-c386f316be43 button.colab-df-convert');\n",
              "      buttonEl.style.display =\n",
              "        google.colab.kernel.accessAllowed ? 'block' : 'none';\n",
              "\n",
              "      async function convertToInteractive(key) {\n",
              "        const element = document.querySelector('#df-d06ad9fd-0ec1-4846-b0c8-c386f316be43');\n",
              "        const dataTable =\n",
              "          await google.colab.kernel.invokeFunction('convertToInteractive',\n",
              "                                                    [key], {});\n",
              "        if (!dataTable) return;\n",
              "\n",
              "        const docLinkHtml = 'Like what you see? Visit the ' +\n",
              "          '<a target=\"_blank\" href=https://colab.research.google.com/notebooks/data_table.ipynb>data table notebook</a>'\n",
              "          + ' to learn more about interactive tables.';\n",
              "        element.innerHTML = '';\n",
              "        dataTable['output_type'] = 'display_data';\n",
              "        await google.colab.output.renderOutput(dataTable, element);\n",
              "        const docLink = document.createElement('div');\n",
              "        docLink.innerHTML = docLinkHtml;\n",
              "        element.appendChild(docLink);\n",
              "      }\n",
              "    </script>\n",
              "  </div>\n",
              "\n",
              "\n",
              "<div id=\"df-d119c66f-6d79-481f-b024-d211ff911695\">\n",
              "  <button class=\"colab-df-quickchart\" onclick=\"quickchart('df-d119c66f-6d79-481f-b024-d211ff911695')\"\n",
              "            title=\"Suggest charts\"\n",
              "            style=\"display:none;\">\n",
              "\n",
              "<svg xmlns=\"http://www.w3.org/2000/svg\" height=\"24px\"viewBox=\"0 0 24 24\"\n",
              "     width=\"24px\">\n",
              "    <g>\n",
              "        <path d=\"M19 3H5c-1.1 0-2 .9-2 2v14c0 1.1.9 2 2 2h14c1.1 0 2-.9 2-2V5c0-1.1-.9-2-2-2zM9 17H7v-7h2v7zm4 0h-2V7h2v10zm4 0h-2v-4h2v4z\"/>\n",
              "    </g>\n",
              "</svg>\n",
              "  </button>\n",
              "\n",
              "<style>\n",
              "  .colab-df-quickchart {\n",
              "      --bg-color: #E8F0FE;\n",
              "      --fill-color: #1967D2;\n",
              "      --hover-bg-color: #E2EBFA;\n",
              "      --hover-fill-color: #174EA6;\n",
              "      --disabled-fill-color: #AAA;\n",
              "      --disabled-bg-color: #DDD;\n",
              "  }\n",
              "\n",
              "  [theme=dark] .colab-df-quickchart {\n",
              "      --bg-color: #3B4455;\n",
              "      --fill-color: #D2E3FC;\n",
              "      --hover-bg-color: #434B5C;\n",
              "      --hover-fill-color: #FFFFFF;\n",
              "      --disabled-bg-color: #3B4455;\n",
              "      --disabled-fill-color: #666;\n",
              "  }\n",
              "\n",
              "  .colab-df-quickchart {\n",
              "    background-color: var(--bg-color);\n",
              "    border: none;\n",
              "    border-radius: 50%;\n",
              "    cursor: pointer;\n",
              "    display: none;\n",
              "    fill: var(--fill-color);\n",
              "    height: 32px;\n",
              "    padding: 0;\n",
              "    width: 32px;\n",
              "  }\n",
              "\n",
              "  .colab-df-quickchart:hover {\n",
              "    background-color: var(--hover-bg-color);\n",
              "    box-shadow: 0 1px 2px rgba(60, 64, 67, 0.3), 0 1px 3px 1px rgba(60, 64, 67, 0.15);\n",
              "    fill: var(--button-hover-fill-color);\n",
              "  }\n",
              "\n",
              "  .colab-df-quickchart-complete:disabled,\n",
              "  .colab-df-quickchart-complete:disabled:hover {\n",
              "    background-color: var(--disabled-bg-color);\n",
              "    fill: var(--disabled-fill-color);\n",
              "    box-shadow: none;\n",
              "  }\n",
              "\n",
              "  .colab-df-spinner {\n",
              "    border: 2px solid var(--fill-color);\n",
              "    border-color: transparent;\n",
              "    border-bottom-color: var(--fill-color);\n",
              "    animation:\n",
              "      spin 1s steps(1) infinite;\n",
              "  }\n",
              "\n",
              "  @keyframes spin {\n",
              "    0% {\n",
              "      border-color: transparent;\n",
              "      border-bottom-color: var(--fill-color);\n",
              "      border-left-color: var(--fill-color);\n",
              "    }\n",
              "    20% {\n",
              "      border-color: transparent;\n",
              "      border-left-color: var(--fill-color);\n",
              "      border-top-color: var(--fill-color);\n",
              "    }\n",
              "    30% {\n",
              "      border-color: transparent;\n",
              "      border-left-color: var(--fill-color);\n",
              "      border-top-color: var(--fill-color);\n",
              "      border-right-color: var(--fill-color);\n",
              "    }\n",
              "    40% {\n",
              "      border-color: transparent;\n",
              "      border-right-color: var(--fill-color);\n",
              "      border-top-color: var(--fill-color);\n",
              "    }\n",
              "    60% {\n",
              "      border-color: transparent;\n",
              "      border-right-color: var(--fill-color);\n",
              "    }\n",
              "    80% {\n",
              "      border-color: transparent;\n",
              "      border-right-color: var(--fill-color);\n",
              "      border-bottom-color: var(--fill-color);\n",
              "    }\n",
              "    90% {\n",
              "      border-color: transparent;\n",
              "      border-bottom-color: var(--fill-color);\n",
              "    }\n",
              "  }\n",
              "</style>\n",
              "\n",
              "  <script>\n",
              "    async function quickchart(key) {\n",
              "      const quickchartButtonEl =\n",
              "        document.querySelector('#' + key + ' button');\n",
              "      quickchartButtonEl.disabled = true;  // To prevent multiple clicks.\n",
              "      quickchartButtonEl.classList.add('colab-df-spinner');\n",
              "      try {\n",
              "        const charts = await google.colab.kernel.invokeFunction(\n",
              "            'suggestCharts', [key], {});\n",
              "      } catch (error) {\n",
              "        console.error('Error during call to suggestCharts:', error);\n",
              "      }\n",
              "      quickchartButtonEl.classList.remove('colab-df-spinner');\n",
              "      quickchartButtonEl.classList.add('colab-df-quickchart-complete');\n",
              "    }\n",
              "    (() => {\n",
              "      let quickchartButtonEl =\n",
              "        document.querySelector('#df-d119c66f-6d79-481f-b024-d211ff911695 button');\n",
              "      quickchartButtonEl.style.display =\n",
              "        google.colab.kernel.accessAllowed ? 'block' : 'none';\n",
              "    })();\n",
              "  </script>\n",
              "</div>\n",
              "\n",
              "    </div>\n",
              "  </div>\n"
            ],
            "application/vnd.google.colaboratory.intrinsic+json": {
              "type": "dataframe",
              "variable_name": "df",
              "summary": "{\n  \"name\": \"df\",\n  \"rows\": 2378,\n  \"fields\": [\n    {\n      \"column\": \"Sex\",\n      \"properties\": {\n        \"dtype\": \"number\",\n        \"std\": 0,\n        \"min\": 0,\n        \"max\": 2,\n        \"num_unique_values\": 3,\n        \"samples\": [\n          1,\n          0,\n          2\n        ],\n        \"semantic_type\": \"\",\n        \"description\": \"\"\n      }\n    },\n    {\n      \"column\": \"Length\",\n      \"properties\": {\n        \"dtype\": \"number\",\n        \"std\": 0.0908466873508007,\n        \"min\": 0.255,\n        \"max\": 0.78,\n        \"num_unique_values\": 98,\n        \"samples\": [\n          0.395,\n          0.605,\n          0.73\n        ],\n        \"semantic_type\": \"\",\n        \"description\": \"\"\n      }\n    },\n    {\n      \"column\": \"Diameter\",\n      \"properties\": {\n        \"dtype\": \"number\",\n        \"std\": 0.07469103161619785,\n        \"min\": 0.195,\n        \"max\": 0.63,\n        \"num_unique_values\": 84,\n        \"samples\": [\n          0.63,\n          0.42,\n          0.24\n        ],\n        \"semantic_type\": \"\",\n        \"description\": \"\"\n      }\n    },\n    {\n      \"column\": \"Height\",\n      \"properties\": {\n        \"dtype\": \"number\",\n        \"std\": 0.036688625918231875,\n        \"min\": 0.0,\n        \"max\": 1.13,\n        \"num_unique_values\": 39,\n        \"samples\": [\n          0.215,\n          1.13,\n          0.145\n        ],\n        \"semantic_type\": \"\",\n        \"description\": \"\"\n      }\n    },\n    {\n      \"column\": \"Whole weight\",\n      \"properties\": {\n        \"dtype\": \"number\",\n        \"std\": 0.4252923678584309,\n        \"min\": 0.08,\n        \"max\": 2.657,\n        \"num_unique_values\": 1670,\n        \"samples\": [\n          1.6195,\n          0.6985,\n          1.622\n        ],\n        \"semantic_type\": \"\",\n        \"description\": \"\"\n      }\n    },\n    {\n      \"column\": \"Shucked weight\",\n      \"properties\": {\n        \"dtype\": \"number\",\n        \"std\": 0.20487354498822696,\n        \"min\": 0.0315,\n        \"max\": 1.488,\n        \"num_unique_values\": 1192,\n        \"samples\": [\n          0.5235,\n          0.2405,\n          0.1925\n        ],\n        \"semantic_type\": \"\",\n        \"description\": \"\"\n      }\n    },\n    {\n      \"column\": \"Viscera weight\",\n      \"properties\": {\n        \"dtype\": \"number\",\n        \"std\": 0.09763290971842754,\n        \"min\": 0.0135,\n        \"max\": 0.5745,\n        \"num_unique_values\": 741,\n        \"samples\": [\n          0.074,\n          0.105,\n          0.1885\n        ],\n        \"semantic_type\": \"\",\n        \"description\": \"\"\n      }\n    },\n    {\n      \"column\": \"Shell weight\",\n      \"properties\": {\n        \"dtype\": \"number\",\n        \"std\": 0.11033021572526434,\n        \"min\": 0.027,\n        \"max\": 0.6785,\n        \"num_unique_values\": 692,\n        \"samples\": [\n          0.3105,\n          0.515,\n          0.595\n        ],\n        \"semantic_type\": \"\",\n        \"description\": \"\"\n      }\n    },\n    {\n      \"column\": \"Rings\",\n      \"properties\": {\n        \"dtype\": \"number\",\n        \"std\": 1,\n        \"min\": 8,\n        \"max\": 11,\n        \"num_unique_values\": 4,\n        \"samples\": [\n          10,\n          11,\n          9\n        ],\n        \"semantic_type\": \"\",\n        \"description\": \"\"\n      }\n    },\n    {\n      \"column\": \"Shell volume\",\n      \"properties\": {\n        \"dtype\": \"number\",\n        \"std\": 0.018456019660137418,\n        \"min\": 0.0,\n        \"max\": 0.20513737499999998,\n        \"num_unique_values\": 1931,\n        \"samples\": [\n          0.018259499999999998,\n          0.037352,\n          0.06829275\n        ],\n        \"semantic_type\": \"\",\n        \"description\": \"\"\n      }\n    }\n  ]\n}"
            }
          },
          "metadata": {},
          "execution_count": 45
        }
      ]
    },
    {
      "cell_type": "code",
      "source": [
        "# Use YData profiling tool to profile the data\n",
        "profile_report = ProfileReport(df, minimal = False)\n",
        "profile_report.to_file(\"abalone_report.html\")"
      ],
      "metadata": {
        "colab": {
          "base_uri": "https://localhost:8080/",
          "height": 181,
          "referenced_widgets": [
            "792061f0fab74591a051e3e4092f9bcc",
            "b03b3ef27eb847ce8c985e0f250dc4e3",
            "215a9fbfb55143d380e74a6da0c4fbc2",
            "9c4b28dace6541ac959c666033b28c39",
            "a4c1e707462942c69a5a7366ed1c8a87",
            "73d95aad2d5d404b94bed4065bfbaaac",
            "f9f5edef6c2f4909a516e446fb4a9c56",
            "2ee823633e7841a88af6ab7cf0ba5f9b",
            "c068e7c6647546fab88eac024f7c932b",
            "2612d92668484b0fb368891ca2980049",
            "7bc327d663824cacaa9f8e615b3b3ff4",
            "250ceebef4b243c6909e510af0334f2d",
            "7561527941c84c4a8f7cdf33f5adbabd",
            "ae194e07b99544168aeb1c01ce02641d",
            "209631d9216f409c9a520eaf2e18bcc2",
            "5801b548ce1e4deca54dd9085500242d",
            "722b34f3bd2448f099d7e9d6d85340de",
            "2260aec2f73b416aa7dc497d1c5ac443",
            "614bfe5a23474d0a8eeeec90f9c55cbc",
            "56ce59533c844f358965df8eee728639",
            "ddab5aa8dfe943a48f86d4abf9c77fe3",
            "f92a8bf103af462c96b808ff4851eb12",
            "a89138c310c8424db345983430d088bb",
            "5a6855490bc148bab1aafdfd997cf91d",
            "63a786eeedfa4ab88d9e7cc0ee04721d",
            "1d4ea4c942324f3b8c658bc8483ea078",
            "adcf03b3aa8b4b98bd215a256437363a",
            "6c7eeb8dd213408fa8241b2cc76675f4",
            "3cf3cf1dee8b4de1b770c0fe704bda30",
            "fcf9e82896004f1b8eb698204957b4d8",
            "e22f2c087330476887395011c88a2c4c",
            "d4a25158723f4b4a9d53a46da99d08fa",
            "14ddf190f3f2480d9e06fa3ecbeaf6e1",
            "60a9b18533a2454fb25209325dfc83ea",
            "7b5db607c2ee4bfbb8dd4a34e8ddc014",
            "7a9c5e2a6d65409ba25a55530c4348c7",
            "3dd5ee986b0546c2a779a21d5acc8b4f",
            "25492cb67bd145d5842e55028bda1697",
            "98abc7662b3f4ae89b32cd703cba1e54",
            "77c45eb4fab54e838bd51de12d65f99e",
            "cdaab1d000b7418db3689c9fe61ed4ed",
            "9773f6ed56ee46f997bebe81fce7d56c",
            "8fcf94af174e4dcb80f8a51ce53121e4",
            "f58a1aee9ccd4b6c8e307045d0911f9b"
          ]
        },
        "id": "Kojgb3825mqJ",
        "outputId": "45856eeb-f8f4-499d-aba6-f1cea09b849b"
      },
      "execution_count": 46,
      "outputs": [
        {
          "output_type": "stream",
          "name": "stderr",
          "text": [
            "/usr/local/lib/python3.10/dist-packages/ydata_profiling/profile_report.py:354: UserWarning: Try running command: 'pip install --upgrade Pillow' to avoid ValueError\n",
            "  warnings.warn(\n"
          ]
        },
        {
          "output_type": "display_data",
          "data": {
            "text/plain": [
              "Summarize dataset:   0%|          | 0/5 [00:00<?, ?it/s]"
            ],
            "application/vnd.jupyter.widget-view+json": {
              "version_major": 2,
              "version_minor": 0,
              "model_id": "792061f0fab74591a051e3e4092f9bcc"
            }
          },
          "metadata": {}
        },
        {
          "output_type": "display_data",
          "data": {
            "text/plain": [
              "Generate report structure:   0%|          | 0/1 [00:00<?, ?it/s]"
            ],
            "application/vnd.jupyter.widget-view+json": {
              "version_major": 2,
              "version_minor": 0,
              "model_id": "250ceebef4b243c6909e510af0334f2d"
            }
          },
          "metadata": {}
        },
        {
          "output_type": "display_data",
          "data": {
            "text/plain": [
              "Render HTML:   0%|          | 0/1 [00:00<?, ?it/s]"
            ],
            "application/vnd.jupyter.widget-view+json": {
              "version_major": 2,
              "version_minor": 0,
              "model_id": "a89138c310c8424db345983430d088bb"
            }
          },
          "metadata": {}
        },
        {
          "output_type": "display_data",
          "data": {
            "text/plain": [
              "Export report to file:   0%|          | 0/1 [00:00<?, ?it/s]"
            ],
            "application/vnd.jupyter.widget-view+json": {
              "version_major": 2,
              "version_minor": 0,
              "model_id": "60a9b18533a2454fb25209325dfc83ea"
            }
          },
          "metadata": {}
        }
      ]
    },
    {
      "cell_type": "markdown",
      "source": [
        "## Visualizations using Seaborn\n",
        ">#### Visualize Sex Distribution\n",
        "\n"
      ],
      "metadata": {
        "id": "4ftkGlaHnA4l"
      }
    },
    {
      "cell_type": "code",
      "source": [
        "# Create a countplot of the \"Sex\" column.\n",
        "ax = sns.countplot(data=df, x=\"Sex\", hue=\"Sex\",palette='Accent')\n",
        "\n",
        "# Set the title of the plot.\n",
        "ax.set_title(\"Abalone Sex Count Plot\")\n",
        "\n",
        "# Calculate the total number of observations.\n",
        "total = len(df['Sex'])\n",
        "\n",
        "# Loop through each bar in the plot.\n",
        "for p in ax.patches:\n",
        "    # Calculate the percentage of observations for the current bar.\n",
        "    percentage = '{:.1f}%'.format(100 * p.get_height()/total)\n",
        "\n",
        "    # Calculate the x-coordinate for the percentage text.\n",
        "    x = p.get_x() + p.get_width() + 0.02\n",
        "\n",
        "    # Calculate the y-coordinate for the percentage text.\n",
        "    y = p.get_y() + p.get_height()/2\n",
        "\n",
        "    # Add the percentage text to the plot.\n",
        "    ax.annotate(percentage, (x, y),ha='right')\n",
        "\n",
        "# Display the plot.\n",
        "plt.show()"
      ],
      "metadata": {
        "colab": {
          "base_uri": "https://localhost:8080/",
          "height": 472
        },
        "id": "Wfiqjt1inJps",
        "outputId": "4bfa6ad7-6783-493d-9bdb-12bb6c7bb567"
      },
      "execution_count": 47,
      "outputs": [
        {
          "output_type": "display_data",
          "data": {
            "text/plain": [
              "<Figure size 640x480 with 1 Axes>"
            ],
            "image/png": "[encoded data removed]"
          },
          "metadata": {}
        }
      ]
    },
    {
      "cell_type": "markdown",
      "source": [
        ">#### Histplot for Abalone Dataset"
      ],
      "metadata": {
        "id": "A1pgmKdshkwo"
      }
    },
    {
      "cell_type": "code",
      "source": [
        "sns.histplot(df['Rings'],bins=4).set(title=\"Hist Plot of Abalone Rings\")\n"
      ],
      "metadata": {
        "colab": {
          "base_uri": "https://localhost:8080/",
          "height": 490
        },
        "id": "q_iYH4DAnBQ5",
        "outputId": "e402458e-0bda-4f25-d807-65d7165edd2b"
      },
      "execution_count": 49,
      "outputs": [
        {
          "output_type": "execute_result",
          "data": {
            "text/plain": [
              "[Text(0.5, 1.0, 'Hist Plot of Abalone Rings')]"
            ]
          },
          "metadata": {},
          "execution_count": 49
        },
        {
          "output_type": "display_data",
          "data": {
            "text/plain": [
              "<Figure size 640x480 with 1 Axes>"
            ],
            "image/png": "[encoded data removed]"
          },
          "metadata": {}
        }
      ]
    },
    {
      "cell_type": "markdown",
      "source": [
        ">#### Boxplot of Abalone Rings"
      ],
      "metadata": {
        "id": "vaaVz3XUjTOp"
      }
    },
    {
      "cell_type": "code",
      "source": [
        "sns.boxplot(data=df, y='Rings').set(title=\"Boxplot of Abalone Rings\")"
      ],
      "metadata": {
        "colab": {
          "base_uri": "https://localhost:8080/",
          "height": 451
        },
        "id": "IylYrkJmjTnS",
        "outputId": "6b148967-4ac0-4636-82d7-f5154fb200fd"
      },
      "execution_count": 52,
      "outputs": [
        {
          "output_type": "execute_result",
          "data": {
            "text/plain": [
              "[Text(0.5, 1.0, 'Boxplot of Abalone Rings')]"
            ]
          },
          "metadata": {},
          "execution_count": 52
        },
        {
          "output_type": "display_data",
          "data": {
            "text/plain": [
              "<Figure size 640x480 with 1 Axes>"
            ],
            "image/png": "[encoded data removed]"
          },
          "metadata": {}
        }
      ]
    },
    {
      "cell_type": "markdown",
      "source": [
        ">#### Heatmap Plot"
      ],
      "metadata": {
        "id": "bVutkXZmT8vp"
      }
    },
    {
      "cell_type": "code",
      "source": [
        "sns.heatmap(df.corr(),annot=True,fmt=\".2f\").set(title=\"Abalone Dataset Heatmap\")"
      ],
      "metadata": {
        "colab": {
          "base_uri": "https://localhost:8080/",
          "height": 566
        },
        "id": "LVFNDxdsT9AS",
        "outputId": "45b8e2a4-c438-4d66-9b39-dc4bdb34442d"
      },
      "execution_count": 53,
      "outputs": [
        {
          "output_type": "execute_result",
          "data": {
            "text/plain": [
              "[Text(0.5, 1.0, 'Abalone Dataset Heatmap')]"
            ]
          },
          "metadata": {},
          "execution_count": 53
        },
        {
          "output_type": "display_data",
          "data": {
            "text/plain": [
              "<Figure size 640x480 with 2 Axes>"
            ],
            "image/png": "[encoded data removed]"
          },
          "metadata": {}
        }
      ]
    },
    {
      "cell_type": "markdown",
      "source": [
        ">#### Scatterplot of Abalone Length versus Rings(Age)"
      ],
      "metadata": {
        "id": "su-dzwB2hyFw"
      }
    },
    {
      "cell_type": "code",
      "source": [
        "sns.scatterplot(data=df, x='Diameter', y='Rings')"
      ],
      "metadata": {
        "colab": {
          "base_uri": "https://localhost:8080/",
          "height": 467
        },
        "id": "2Q91DWYuhyZY",
        "outputId": "633726e2-c26c-4068-8be1-0334f25f85ad"
      },
      "execution_count": 54,
      "outputs": [
        {
          "output_type": "execute_result",
          "data": {
            "text/plain": [
              "<Axes: xlabel='Diameter', ylabel='Rings'>"
            ]
          },
          "metadata": {},
          "execution_count": 54
        },
        {
          "output_type": "display_data",
          "data": {
            "text/plain": [
              "<Figure size 640x480 with 1 Axes>"
            ],
            "image/png": "[encoded data removed]"
          },
          "metadata": {}
        }
      ]
    },
    {
      "cell_type": "markdown",
      "source": [
        ">#### Data Visualization with Plotly"
      ],
      "metadata": {
        "id": "Uod8ZZphn0Ui"
      }
    },
    {
      "cell_type": "code",
      "source": [
        "# Plotly histogram\n",
        "fig = px.scatter(\n",
        "   df,\n",
        "   x='Shell weight',\n",
        "   y='Length',\n",
        "   title = \"Scatter plot of Shell weight versus Length\",\n",
        "   color = 'Sex',\n",
        "   width = 600,\n",
        "   height = 600,\n",
        ")\n",
        "\n",
        "fig.show()"
      ],
      "metadata": {
        "colab": {
          "base_uri": "https://localhost:8080/",
          "height": 617
        },
        "id": "r83XIBx6n0vF",
        "outputId": "c2c1ae11-6fa7-4cb8-ed94-d08003067b9c"
      },
      "execution_count": 55,
      "outputs": [
        {
          "output_type": "display_data",
          "data": {
            "text/html": [
              "<html>\n",
              "<head><meta charset=\"utf-8\" /></head>\n",
              "<body>\n",
              "    <div>            <script src=\"https://cdnjs.cloudflare.com/ajax/libs/mathjax/2.7.5/MathJax.js?config=TeX-AMS-MML_SVG\"></script><script type=\"text/javascript\">if (window.MathJax && window.MathJax.Hub && window.MathJax.Hub.Config) {window.MathJax.Hub.Config({SVG: {font: \"STIX-Web\"}});}</script>                <script type=\"text/javascript\">window.PlotlyConfig = {MathJaxConfig: 'local'};</script>\n",
              "        <script charset=\"utf-8\" src=\"https://cdn.plot.ly/plotly-2.29.1.min.js\"></script>                <div id=\"2237394a-7d59-4ab9-86d8-a22d3910429c\" class=\"plotly-graph-div\" style=\"height:600px; width:600px;\"></div>            <script type=\"text/javascript\">                                    window.PLOTLYENV=window.PLOTLYENV || {};                                    if (document.getElementById(\"2237394a-7d59-4ab9-86d8-a22d3910429c\")) {                    Plotly.newPlot(                        \"2237394a-7d59-4ab9-86d8-a22d3910429c\",                        [{\"hovertemplate\":\"Shell weight=%{x}\\u003cbr\\u003eLength=%{y}\\u003cbr\\u003eSex=%{marker.color}\\u003cextra\\u003e\\u003c\\u002fextra\\u003e\",\"legendgroup\":\"\",\"marker\":{\"color\":[1,0,2,0,0,0,1,1,1,0,0,2,1,1,1,1,0,0,0,1,1,0,1,0,1,2,0,1,1,0,0,0,1,0,0,1,1,0,0,1,1,1,0,1,1,0,0,1,0,1,1,1,1,0,0,2,0,1,1,1,0,1,0,1,2,1,1,0,1,0,1,1,0,0,1,0,2,1,1,1,0,0,1,2,0,1,1,1,1,1,2,1,1,0,1,0,1,2,2,1,0,0,0,0,1,1,1,1,1,2,1,1,2,2,2,2,2,0,1,0,1,0,0,1,1,1,0,0,1,0,0,1,0,1,0,2,0,0,0,2,1,0,1,1,2,1,0,0,1,0,1,0,0,0,1,0,2,2,0,1,2,2,1,0,0,1,0,1,0,0,0,1,2,2,0,0,2,2,2,1,1,1,0,2,2,1,0,1,1,2,1,1,1,0,0,1,1,0,0,2,1,1,0,2,0,1,2,2,2,1,1,0,1,0,0,2,2,2,1,1,1,0,1,2,1,2,1,2,1,1,2,2,1,1,1,2,0,2,0,0,0,0,1,1,0,2,0,2,0,0,0,2,0,2,1,2,1,1,2,1,1,0,1,1,0,0,0,0,0,1,0,1,0,0,0,1,0,0,0,0,2,0,0,0,0,0,1,0,0,0,0,1,1,2,0,0,0,0,0,1,1,1,1,0,0,0,0,1,0,0,0,0,1,2,2,0,2,1,2,0,1,0,0,0,0,1,1,1,0,1,0,0,0,0,1,0,1,1,0,1,0,1,0,1,0,1,0,1,1,0,1,1,1,0,0,0,1,1,1,1,1,2,2,2,0,1,0,0,0,0,2,1,2,0,2,0,0,0,1,1,0,1,1,1,0,0,1,1,1,1,0,0,1,0,0,1,1,0,1,0,0,0,1,1,1,0,1,0,1,0,0,0,0,1,1,1,0,1,1,1,0,1,0,0,0,0,1,1,1,0,0,1,0,1,1,0,0,0,1,1,1,0,0,0,1,0,0,1,0,0,1,1,2,2,2,2,2,2,2,2,2,0,2,2,2,2,0,2,2,2,2,0,0,1,1,0,0,0,1,0,0,0,1,0,1,2,1,0,1,0,2,0,0,0,0,0,0,0,1,0,0,1,0,1,0,1,0,0,1,0,0,0,0,1,1,0,0,1,1,0,0,0,1,0,0,1,1,0,0,1,1,0,2,1,0,1,1,0,0,1,1,1,0,1,1,0,0,0,1,1,0,1,2,2,2,2,2,2,2,2,2,2,2,2,1,2,2,1,2,2,2,2,2,2,2,2,2,2,2,0,2,0,2,2,2,2,2,2,2,2,2,0,2,2,2,2,2,2,1,0,1,2,2,1,2,2,2,1,0,2,2,0,2,2,2,2,2,1,2,2,1,0,0,2,2,1,0,2,0,1,1,0,0,0,1,0,0,2,0,0,0,0,2,0,0,1,0,0,2,1,1,0,2,0,2,1,0,0,2,0,0,1,0,0,0,0,1,0,1,1,0,1,1,1,2,2,0,1,1,0,0,0,0,0,0,1,1,0,0,1,1,1,0,1,1,1,1,1,0,1,0,0,1,1,1,1,2,0,0,2,2,2,0,0,0,1,2,0,0,0,2,0,1,1,0,1,1,0,0,0,1,1,0,0,1,1,1,0,0,1,1,1,1,2,0,1,0,0,0,0,1,0,0,1,1,0,1,1,0,1,1,0,1,0,1,0,0,1,0,0,0,0,1,0,0,0,0,2,2,2,2,2,2,2,2,2,2,2,2,2,2,2,0,2,2,2,2,2,2,2,2,2,2,2,2,0,2,2,0,2,2,2,2,2,2,0,2,2,2,2,2,2,0,2,2,2,2,2,2,2,2,0,2,1,0,0,1,0,2,2,2,0,2,1,2,0,1,2,2,1,0,1,0,0,2,1,0,2,2,1,0,0,2,1,1,0,2,1,0,0,1,0,2,1,1,1,0,1,0,1,2,0,0,0,1,2,2,2,1,0,0,0,1,2,0,1,0,0,0,1,1,1,0,0,0,0,0,0,1,0,1,0,1,0,0,0,0,1,1,0,0,0,0,1,0,0,1,1,1,0,1,0,1,0,1,0,1,0,0,1,0,1,2,2,2,2,2,0,2,1,0,0,0,0,0,1,2,2,1,1,1,0,0,0,2,1,0,2,0,0,0,0,1,1,0,0,0,0,1,1,0,0,0,1,0,1,1,1,1,0,1,0,0,2,2,2,2,2,2,2,2,2,2,2,2,2,2,2,2,1,2,2,0,2,2,2,2,2,2,2,2,2,2,2,2,1,2,2,2,2,2,0,0,2,0,2,1,0,2,0,2,0,0,0,1,0,0,0,0,0,1,2,2,1,0,1,1,0,2,0,0,1,0,0,1,2,1,0,0,1,1,1,0,0,0,0,0,1,0,0,0,0,1,1,1,0,1,1,1,0,0,1,1,2,0,1,0,2,1,1,1,0,1,0,1,0,1,0,0,0,1,0,1,1,2,2,2,0,0,2,2,0,0,2,0,0,1,1,0,1,1,0,1,0,0,1,0,0,2,2,2,2,2,2,0,1,0,2,2,0,2,0,1,0,0,1,1,1,1,0,2,1,0,1,0,1,1,0,1,0,0,1,0,1,1,0,1,1,0,1,0,0,1,2,2,0,1,0,2,0,1,2,2,1,0,1,0,1,0,1,1,1,1,2,0,0,1,0,0,0,1,0,1,1,1,0,0,1,1,0,2,2,0,1,1,1,1,1,1,2,1,1,0,2,0,1,1,0,1,0,0,0,0,0,0,0,2,1,2,2,1,1,0,1,1,0,2,1,1,0,1,0,0,2,2,2,1,0,2,1,0,1,0,1,0,1,2,0,1,1,2,1,2,2,0,0,0,0,1,1,1,2,2,0,0,1,1,1,0,2,1,2,1,0,0,1,0,1,1,0,0,2,0,1,0,0,1,0,1,0,2,1,1,1,2,0,1,2,0,1,2,1,2,0,0,0,0,1,0,0,0,0,1,1,1,0,1,0,1,2,1,1,1,2,0,2,0,0,0,1,0,1,1,1,1,1,1,1,1,1,1,0,0,1,1,0,1,1,1,0,1,1,1,1,0,1,1,0,1,0,0,1,1,0,2,2,2,0,2,0,2,2,2,2,1,1,2,1,2,0,1,0,1,1,0,1,0,0,1,1,0,0,0,1,1,1,0,0,0,0,1,0,0,0,0,0,0,1,0,0,1,0,1,0,1,0,0,0,0,1,0,0,0,2,2,2,2,2,2,2,2,2,0,2,2,2,0,2,2,2,2,2,2,1,2,2,1,2,2,0,1,2,2,2,2,2,2,1,2,2,2,1,1,0,1,1,2,0,2,1,0,0,0,0,0,0,0,0,1,1,1,1,0,0,1,0,0,0,0,1,0,0,1,1,1,1,0,0,0,2,2,0,2,0,1,1,1,1,0,0,1,0,1,0,0,0,0,0,1,0,0,1,0,0,1,1,1,1,1,0,0,1,1,0,0,2,2,2,1,2,2,2,2,2,2,2,0,2,2,2,0,2,0,1,2,2,2,2,2,2,1,2,2,1,2,0,0,0,1,1,0,1,2,0,2,2,0,0,2,1,0,1,0,0,2,2,0,2,1,1,0,1,1,0,0,0,1,1,0,1,0,1,1,0,0,1,0,0,0,1,1,1,1,2,0,0,0,0,0,0,2,0,0,1,1,1,1,2,0,0,0,1,0,2,1,0,0,1,1,1,1,0,0,0,1,1,0,2,2,2,2,2,2,2,2,2,2,2,2,2,2,2,2,0,0,2,2,0,2,0,1,0,2,0,2,1,0,0,2,0,0,1,1,1,0,2,1,0,0,1,1,0,1,1,0,0,1,1,1,0,0,1,1,0,1,1,1,2,0,0,0,0,1,0,0,1,0,1,0,0,0,0,0,0,2,2,0,1,0,1,1,0,0,1,0,0,1,1,1,0,0,1,1,0,0,0,0,0,2,1,1,1,0,0,0,1,0,1,1,0,1,0,2,0,2,0,0,0,1,1,0,1,1,0,2,2,1,1,0,0,0,0,2,1,2,0,2,0,1,2,0,1,1,0,0,0,1,0,0,1,1,2,1,2,0,2,0,2,0,1,1,1,2,1,0,2,2,2,1,2,2,0,0,2,0,2,0,1,1,0,2,0,0,0,1,0,2,0,2,2,0,1,0,1,0,1,0,0,1,0,1,2,2,0,1,2,2,1,0,1,1,1,0,1,1,0,0,1,1,0,0,1,0,0,1,1,0,1,2,2,1,2,2,1,0,0,0,0,1,0,0,1,0,1,0,0,1,1,0,0,1,1,1,0,0,1,1,0,1,1,0,0,1,2,2,2,2,2,2,2,2,2,2,2,0,2,2,2,2,0,2,2,2,1,0,2,1,2,2,1,0,2,2,2,0,1,1,1,1,0,1,0,1,1,1,0,1,1,0,0,2,0,0,1,1,0,1,0,0,0,2,2,2,0,1,0,1,0,1,0,0,0,0,1,1,0,0,1,1,0,0,2,2,2,2,2,2,2,2,2,2,2,2,2,1,2,2,0,2,2,0,1,2,2,2,2,2,2,1,1,2,0,2,1,1,0,1,0,1,0,1,0,0,0,2,0,2,2,1,0,0,0,1,1,0,1,0,1,1,0,1,1,0,1,0,0,0,1,0,1,0,0,2,2,0,2,2,0,0,1,1,0,0,0,0,0,1,1,1,2,2,2,2,2,2,2,2,0,0,0,2,2,2,2,1,0,0,1,2,2,0,1,2,0,0,2,0,0,0,1,0,0,0,1,1,1,1,0,1,1,1,0,2,1,0,1,2,0,2,2,0,0,0,0,0,0,1,1,0,1,0,0,1,0,0,2,0,1,0,1,0,0,0,1,1,0,2,1,0,1,1,1,1,0,0,1,0,2,1,2,1,2,1,2,2,2,1,2,0,0,2,1,2,1,0,1,0,1,2,2,1,1,1,0,0,1,0,2,0,0,0,0,1,1,0,1,0,0,0,2,2,0,1,0,1,0,0,0,1,0,0,0,1,0,0,0,1,1,0,2,2,2,2,2,2,2,2,2,2,1,1,1,0,0,0,0,0,0,1,1,1,0,1,1,0,2,0,0,1,1,2,2,2,2,2,0,2,2,0,0,2,0,2,0,1,0,0,2,0,0,0,1,0,1,0,1,0,1,1,0,0,1,1,1,0,0,2,1,2,1,1,0,1,0,2,2,2,2,2,0,2,0,2,0,2,2,0,1,1,1,0,0,1,1,1,0,0,0,0,0,2,0,0,2,1,1,1,0,2,0,1,0,0,0,1,0,0,1],\"coloraxis\":\"coloraxis\",\"symbol\":\"circle\"},\"mode\":\"markers\",\"name\":\"\",\"showlegend\":false,\"x\":[0.21,0.155,0.12,0.165,0.135,0.19,0.205,0.185,0.13,0.115,0.075,0.085,0.2,0.305,0.3,0.285,0.2,0.33,0.125,0.145,0.26,0.09,0.115,0.14,0.245,0.19,0.16,0.15,0.22,0.135,0.17,0.175,0.2,0.185,0.135,0.17,0.1,0.38,0.315,0.305,0.285,0.285,0.26,0.165,0.39,0.25,0.145,0.155,0.205,0.28,0.22,0.2,0.13,0.155,0.175,0.105,0.165,0.21,0.18,0.22,0.165,0.31,0.085,0.14,0.08,0.129,0.1355,0.063,0.117,0.0925,0.2475,0.2665,0.2425,0.17,0.174,0.1565,0.042,0.335,0.45,0.355,0.21,0.285,0.22,0.05,0.35,0.3,0.325,0.38,0.315,0.29,0.15,0.195,0.21,0.285,0.135,0.12,0.16,0.12,0.12,0.22,0.205,0.255,0.135,0.165,0.105,0.14,0.18,0.19,0.155,0.1,0.155,0.35,0.04,0.04,0.06,0.06,0.07,0.345,0.26,0.245,0.16,0.0905,0.255,0.25,0.15,0.285,0.205,0.19,0.24,0.15,0.075,0.1,0.074,0.15,0.275,0.14,0.12,0.1,0.095,0.09,0.095,0.355,0.24,0.275,0.09,0.245,0.22,0.265,0.265,0.285,0.25,0.25,0.2,0.235,0.135,0.145,0.14,0.105,0.18,0.18,0.08,0.115,0.24,0.185,0.31,0.175,0.235,0.2,0.15,0.285,0.235,0.28,0.155,0.035,0.22,0.085,0.085,0.07,0.085,0.12,0.275,0.255,0.24,0.08,0.0995,0.235,0.075,0.2185,0.177,0.1045,0.181,0.2765,0.1345,0.29,0.235,0.41,0.345,0.305,0.25,0.34,0.135,0.21,0.075,0.07,0.085,0.11,0.145,0.155,0.179,0.0885,0.131,0.117,0.085,0.049,0.027,0.255,0.12,0.16,0.1175,0.155,0.2185,0.06,0.0985,0.345,0.35,0.26,0.27,0.255,0.365,0.11,0.2,0.195,0.075,0.225,0.0835,0.166,0.059,0.136,0.081,0.06,0.044,0.054,0.125,0.09,0.065,0.1335,0.158,0.165,0.075,0.063,0.105,0.105,0.17,0.155,0.14,0.145,0.075,0.33,0.295,0.12,0.08,0.16,0.19,0.08,0.175,0.185,0.195,0.295,0.19,0.11,0.085,0.123,0.1175,0.144,0.0795,0.0765,0.1005,0.083,0.0695,0.063,0.035,0.155,0.1,0.275,0.175,0.125,0.06,0.16,0.14,0.3,0.07,0.233,0.2965,0.17,0.085,0.12,0.185,0.31,0.255,0.1845,0.1635,0.263,0.1685,0.1625,0.214,0.122,0.2885,0.117,0.185,0.115,0.155,0.155,0.13,0.1465,0.1405,0.169,0.172,0.175,0.1525,0.1775,0.214,0.166,0.239,0.225,0.202,0.21,0.2375,0.283,0.2875,0.2765,0.2385,0.265,0.2745,0.194,0.2705,0.3095,0.33,0.32,0.36,0.3205,0.3445,0.3985,0.325,0.345,0.32,0.3685,0.315,0.411,0.381,0.39,0.31,0.2715,0.321,0.399,0.405,0.4,0.413,0.42,0.415,0.475,0.455,0.04,0.1125,0.1335,0.14,0.146,0.15,0.115,0.1695,0.1495,0.135,0.1785,0.156,0.155,0.185,0.19,0.1885,0.1955,0.23,0.175,0.17,0.205,0.202,0.205,0.2155,0.2195,0.218,0.275,0.274,0.18,0.295,0.343,0.27,0.24,0.29,0.249,0.276,0.2835,0.29,0.237,0.275,0.309,0.25,0.155,0.25,0.274,0.2515,0.27,0.295,0.275,0.2925,0.3085,0.3295,0.33,0.388,0.365,0.405,0.349,0.315,0.401,0.31,0.315,0.3235,0.395,0.3745,0.335,0.409,0.4,0.3185,0.432,0.4,0.336,0.349,0.3,0.385,0.3725,0.46,0.477,0.1825,0.403,0.441,0.5175,0.485,0.4005,0.435,0.405,0.48,0.503,0.5475,0.4135,0.405,0.6,0.109,0.1315,0.1665,0.17,0.134,0.182,0.1525,0.166,0.15,0.185,0.157,0.167,0.17,0.1835,0.201,0.1405,0.19,0.169,0.1895,0.19,0.218,0.175,0.223,0.2165,0.234,0.2215,0.245,0.205,0.23,0.206,0.2645,0.25,0.22,0.224,0.2575,0.222,0.238,0.26,0.245,0.228,0.22,0.265,0.441,0.22,0.253,0.2295,0.265,0.235,0.24,0.2565,0.24,0.25,0.225,0.292,0.274,0.317,0.357,0.2415,0.2865,0.267,0.27,0.2415,0.285,0.2475,0.2405,0.281,0.332,0.286,0.287,0.3425,0.2885,0.358,0.3735,0.305,0.4245,0.294,0.345,0.364,0.476,0.34,0.3595,0.353,0.4,0.39,0.3695,0.4375,0.446,0.3995,0.301,0.4525,0.42,0.5375,0.5215,0.2685,0.5,0.5,0.545,0.6785,0.595,0.586,0.0525,0.065,0.07,0.0745,0.067,0.0945,0.085,0.115,0.1045,0.12,0.12,0.126,0.1245,0.11,0.114,0.141,0.113,0.135,0.1505,0.115,0.14,0.1505,0.15,0.165,0.132,0.135,0.1495,0.167,0.1565,0.2065,0.185,0.196,0.195,0.18,0.171,0.175,0.18,0.1905,0.164,0.2045,0.167,0.192,0.189,0.21,0.154,0.225,0.2075,0.194,0.2175,0.229,0.227,0.207,0.2545,0.185,0.223,0.2,0.248,0.2325,0.215,0.255,0.28,0.23,0.225,0.236,0.2165,0.2695,0.235,0.21,0.225,0.219,0.1685,0.2215,0.245,0.2655,0.2705,0.202,0.275,0.2125,0.306,0.22,0.2955,0.204,0.253,0.235,0.335,0.285,0.274,0.295,0.2885,0.237,0.23,0.31,0.275,0.2255,0.309,0.325,0.27,0.28,0.269,0.295,0.33,0.315,0.26,0.335,0.25,0.3035,0.286,0.347,0.275,0.2895,0.34,0.295,0.3,0.3,0.355,0.39,0.354,0.33,0.315,0.3045,0.321,0.345,0.315,0.28,0.3455,0.39,0.323,0.3665,0.31,0.4075,0.345,0.3725,0.4325,0.349,0.435,0.405,0.375,0.391,0.3985,0.383,0.365,0.3925,0.3575,0.435,0.3725,0.3745,0.461,0.4975,0.512,0.528,0.45,0.595,0.52,0.558,0.0855,0.103,0.1025,0.1135,0.125,0.116,0.142,0.198,0.1555,0.161,0.17,0.2185,0.149,0.1735,0.189,0.175,0.203,0.1945,0.215,0.22,0.1835,0.249,0.238,0.2385,0.3055,0.2095,0.2335,0.245,0.2515,0.275,0.288,0.25,0.357,0.2765,0.38,0.3315,0.305,0.251,0.25,0.275,0.312,0.3465,0.305,0.276,0.329,0.305,0.31,0.3245,0.315,0.377,0.4025,0.415,0.43,0.335,0.495,0.4,0.3195,0.215,0.444,0.4195,0.345,0.395,0.41,0.345,0.415,0.395,0.32,0.595,0.388,0.446,0.445,0.061,0.076,0.0835,0.0955,0.075,0.09,0.105,0.147,0.147,0.12,0.155,0.19,0.125,0.175,0.15,0.239,0.143,0.169,0.15,0.19,0.1935,0.173,0.169,0.138,0.1275,0.17,0.185,0.165,0.2875,0.178,0.175,0.225,0.2135,0.195,0.249,0.24,0.25,0.2295,0.269,0.235,0.225,0.213,0.18,0.1725,0.22,0.259,0.217,0.2215,0.21,0.17,0.206,0.2765,0.236,0.2,0.2645,0.231,0.27,0.215,0.219,0.21,0.245,0.25,0.2815,0.28,0.268,0.239,0.34,0.235,0.355,0.47,0.25,0.254,0.36,0.239,0.23,0.295,0.2285,0.235,0.253,0.309,0.265,0.26,0.265,0.217,0.2535,0.235,0.3,0.305,0.2725,0.29,0.325,0.275,0.2635,0.275,0.27,0.22,0.24,0.3345,0.431,0.266,0.28,0.2945,0.379,0.26,0.31,0.28,0.311,0.357,0.305,0.295,0.2965,0.3,0.3325,0.3105,0.354,0.3705,0.278,0.3,0.3995,0.339,0.3035,0.328,0.305,0.38,0.36,0.3685,0.4435,0.335,0.48,0.3745,0.317,0.315,0.415,0.36,0.33,0.335,0.391,0.378,0.3665,0.365,0.305,0.363,0.341,0.495,0.353,0.3665,0.32,0.315,0.3,0.354,0.465,0.3965,0.4125,0.4705,0.32,0.438,0.54,0.265,0.502,0.435,0.566,0.485,0.5655,0.557,0.575,0.1645,0.211,0.1215,0.209,0.182,0.2365,0.319,0.2825,0.296,0.273,0.252,0.276,0.2105,0.1795,0.304,0.228,0.403,0.2845,0.3345,0.344,0.29,0.2485,0.213,0.4155,0.258,0.253,0.3285,0.251,0.343,0.297,0.3005,0.315,0.2565,0.3185,0.344,0.3475,0.291,0.31,0.315,0.3965,0.3075,0.466,0.378,0.4375,0.389,0.4215,0.3965,0.455,0.5015,0.4425,0.643,0.081,0.115,0.1135,0.12,0.105,0.1185,0.135,0.1465,0.147,0.15,0.165,0.1505,0.191,0.15,0.225,0.207,0.195,0.245,0.235,0.14,0.184,0.168,0.165,0.143,0.1695,0.21,0.175,0.23,0.24,0.183,0.1875,0.244,0.295,0.192,0.19,0.244,0.25,0.238,0.214,0.194,0.22,0.235,0.279,0.23,0.26,0.255,0.246,0.25,0.265,0.277,0.283,0.234,0.2265,0.235,0.239,0.295,0.27,0.35,0.225,0.239,0.22,0.269,0.225,0.3005,0.2795,0.242,0.2485,0.223,0.264,0.329,0.3105,0.298,0.352,0.3,0.321,0.27,0.2985,0.265,0.294,0.285,0.2685,0.3885,0.285,0.355,0.34,0.325,0.3215,0.361,0.3535,0.304,0.375,0.265,0.289,0.3395,0.412,0.345,0.3535,0.35,0.34,0.41,0.2925,0.34,0.3255,0.3385,0.3305,0.3985,0.497,0.394,0.348,0.49,0.37,0.3595,0.4115,0.4245,0.384,0.4075,0.5,0.4395,0.503,0.488,0.44,0.0735,0.0925,0.105,0.129,0.145,0.145,0.1365,0.167,0.1535,0.2035,0.168,0.1765,0.196,0.185,0.2385,0.2675,0.253,0.2475,0.245,0.2625,0.275,0.2425,0.341,0.386,0.057,0.054,0.0725,0.087,0.11,0.12,0.135,0.1335,0.132,0.1275,0.158,0.1635,0.139,0.2385,0.1785,0.1455,0.1795,0.2035,0.2365,0.1845,0.231,0.213,0.209,0.238,0.2605,0.356,0.262,0.3375,0.22,0.372,0.2725,0.339,0.32,0.4275,0.49,0.488,0.28,0.479,0.4935,0.175,0.245,0.21,0.22,0.175,0.115,0.085,0.095,0.085,0.165,0.285,0.125,0.175,0.185,0.145,0.145,0.13,0.15,0.185,0.295,0.215,0.13,0.12,0.335,0.31,0.16,0.125,0.155,0.135,0.11,0.185,0.115,0.1505,0.0935,0.265,0.49,0.29,0.3,0.23,0.13,0.185,0.195,0.315,0.07,0.125,0.135,0.155,0.175,0.2,0.265,0.25,0.295,0.11,0.16,0.125,0.165,0.085,0.205,0.105,0.15,0.415,0.36,0.175,0.135,0.32,0.27,0.17,0.195,0.155,0.185,0.175,0.1,0.1,0.195,0.285,0.185,0.095,0.285,0.17,0.165,0.21,0.23,0.195,0.265,0.285,0.175,0.04,0.095,0.095,0.1,0.12,0.115,0.215,0.245,0.25,0.2175,0.149,0.31,0.265,0.105,0.07,0.109,0.0735,0.215,0.132,0.1525,0.2215,0.144,0.069,0.0605,0.045,0.32,0.36,0.167,0.1785,0.0955,0.113,0.04,0.16,0.095,0.18,0.07,0.185,0.38,0.055,0.06,0.255,0.145,0.14,0.14,0.0835,0.145,0.06,0.096,0.032,0.13,0.215,0.18,0.105,0.07,0.24,0.135,0.08,0.065,0.3065,0.3205,0.187,0.085,0.105,0.07,0.0945,0.1505,0.175,0.163,0.135,0.1625,0.211,0.199,0.2235,0.2625,0.2485,0.325,0.292,0.335,0.361,0.3175,0.35,0.288,0.309,0.33,0.384,0.431,0.4065,0.4395,0.43,0.435,0.1325,0.1225,0.12,0.135,0.172,0.195,0.215,0.213,0.215,0.2505,0.2295,0.2425,0.2335,0.31,0.287,0.289,0.248,0.29,0.29,0.264,0.315,0.355,0.292,0.3225,0.345,0.3275,0.3385,0.3185,0.3595,0.38,0.2885,0.35,0.37,0.37,0.3165,0.341,0.391,0.4325,0.4175,0.624,0.584,0.095,0.157,0.13,0.15,0.1605,0.145,0.167,0.1725,0.168,0.175,0.201,0.18,0.1755,0.185,0.2105,0.213,0.255,0.25,0.2285,0.248,0.225,0.2245,0.249,0.26,0.2565,0.265,0.3345,0.227,0.491,0.293,0.2345,0.246,0.2725,0.31,0.305,0.345,0.3095,0.327,0.37,0.375,0.176,0.335,0.285,0.317,0.3275,0.336,0.344,0.335,0.3055,0.3755,0.36,0.351,0.406,0.4025,0.47,0.405,0.5085,0.488,0.5285,0.0825,0.068,0.09,0.0995,0.1,0.101,0.1,0.1015,0.14,0.1155,0.1315,0.123,0.11,0.172,0.16,0.2305,0.1615,0.21,0.165,0.1805,0.162,0.1615,0.195,0.199,0.2,0.19,0.245,0.275,0.225,0.236,0.205,0.203,0.2435,0.24,0.2785,0.245,0.251,0.29,0.265,0.23,0.3265,0.25,0.2705,0.295,0.274,0.22,0.225,0.254,0.275,0.278,0.28,0.367,0.24,0.315,0.29,0.272,0.2745,0.307,0.324,0.295,0.3465,0.265,0.465,0.346,0.3175,0.285,0.2875,0.175,0.365,0.3745,0.422,0.475,0.461,0.45,0.404,0.52,0.056,0.1405,0.1535,0.16,0.1985,0.1815,0.21,0.2035,0.1965,0.25,0.27,0.2325,0.2595,0.2765,0.31,0.31,0.285,0.307,0.26,0.287,0.337,0.25,0.3485,0.294,0.3,0.299,0.319,0.405,0.385,0.331,0.371,0.4755,0.3875,0.435,0.5315,0.505,0.088,0.115,0.16,0.131,0.174,0.1545,0.161,0.1755,0.152,0.2,0.17,0.15,0.177,0.204,0.16,0.255,0.185,0.2525,0.24,0.246,0.1765,0.2055,0.208,0.244,0.21,0.2265,0.2175,0.222,0.228,0.246,0.23,0.29,0.305,0.248,0.2895,0.287,0.195,0.26,0.345,0.238,0.259,0.265,0.265,0.253,0.3135,0.3605,0.2775,0.315,0.3745,0.3,0.274,0.2915,0.2915,0.3165,0.29,0.2615,0.3185,0.277,0.3745,0.3525,0.3115,0.355,0.28,0.233,0.3885,0.315,0.34,0.406,0.367,0.355,0.352,0.345,0.363,0.4395,0.317,0.4535,0.3605,0.325,0.386,0.387,0.425,0.365,0.325,0.41,0.44,0.109,0.313,0.2505,0.1515,0.343,0.177,0.2875,0.2055,0.389,0.1965,0.1975,0.2925,0.276,0.2725,0.41,0.322,0.33,0.3315,0.2925,0.354,0.363,0.2835,0.266,0.416,0.326,0.37,0.3685,0.08,0.079,0.115,0.12,0.1245,0.1345,0.135,0.1455,0.162,0.16,0.15,0.209,0.196,0.186,0.18,0.237,0.159,0.38,0.21,0.265,0.264,0.2475,0.2845,0.2315,0.276,0.22,0.237,0.24,0.2425,0.335,0.235,0.289,0.245,0.289,0.2875,0.291,0.384,0.29,0.3075,0.355,0.37,0.4695,0.3825,0.3155,0.387,0.3015,0.3355,0.395,0.42,0.3225,0.3415,0.401,0.4485,0.385,0.406,0.545,0.4055,0.471,0.455,0.48,0.0725,0.1305,0.174,0.1545,0.188,0.235,0.184,0.1345,0.161,0.345,0.221,0.2505,0.121,0.277,0.3055,0.439,0.421,0.0895,0.103,0.1455,0.1385,0.203,0.208,0.223,0.2315,0.2365,0.236,0.323,0.3245,0.352,0.1625,0.3105,0.316,0.3815,0.3725,0.185,0.19,0.185,0.265,0.19,0.23,0.065,0.355,0.396,0.13,0.135,0.175,0.3,0.12,0.215,0.245,0.22,0.35,0.18,0.145,0.235,0.0775,0.034,0.206,0.52,0.29,0.235,0.17,0.16,0.18,0.215,0.07,0.04,0.06,0.335,0.37,0.125,0.21,0.1,0.255,0.115,0.119,0.115,0.275,0.075,0.275,0.145,0.185,0.185,0.185,0.12,0.115,0.145,0.22,0.28,0.26,0.193,0.178,0.49,0.08,0.11,0.135,0.1,0.1125,0.0655,0.175,0.0485,0.225,0.08,0.2,0.085,0.145,0.104,0.17,0.18,0.158,0.125,0.13,0.07,0.09,0.09,0.19,0.055,0.12,0.055,0.155,0.125,0.057,0.031,0.26,0.32,0.07,0.13,0.25,0.075,0.075,0.064,0.184,0.185,0.337,0.265,0.371,0.28,0.37,0.292,0.2785,0.316,0.409,0.43,0.075,0.131,0.135,0.145,0.1645,0.151,0.146,0.25,0.2155,0.225,0.2815,0.31,0.3455,0.29,0.365,0.2825,0.345,0.405,0.475,0.295,0.353,0.354,0.372,0.4265,0.565,0.529,0.4375,0.12,0.1845,0.3065,0.1485,0.1535,0.183,0.2185,0.27,0.23,0.23,0.2215,0.1955,0.225,0.22,0.255,0.289,0.268,0.325,0.348,0.322,0.3135,0.271,0.32,0.288,0.355,0.38,0.355,0.385,0.4085,0.43,0.461,0.398,0.4535,0.449,0.468,0.08,0.1065,0.125,0.12,0.14,0.1205,0.11,0.142,0.125,0.15,0.1645,0.1535,0.1855,0.16,0.19,0.198,0.2365,0.1975,0.2,0.2425,0.308,0.277,0.2365,0.223,0.285,0.1965,0.271,0.2575,0.27,0.238,0.2445,0.279,0.259,0.294,0.2425,0.3205,0.275,0.39,0.36,0.31,0.239,0.31,0.29,0.319,0.374,0.39,0.302,0.325,0.365,0.4115,0.432,0.3095,0.405,0.4,0.401,0.325,0.465,0.0675,0.126,0.1395,0.119,0.2065,0.215,0.27,0.365,0.3045,0.31,0.3285,0.228,0.38,0.315,0.333,0.335,0.405,0.37,0.3905,0.48,0.4305,0.078,0.125,0.1,0.1455,0.14,0.125,0.135,0.1355,0.151,0.1745,0.195,0.171,0.168,0.2225,0.215,0.208,0.215,0.195,0.2595,0.212,0.205,0.236,0.24,0.221,0.247,0.217,0.239,0.32,0.2845,0.265,0.28,0.287,0.2575,0.3085,0.305,0.309,0.3555,0.35,0.2935,0.317,0.317,0.332,0.35,0.284,0.305,0.3315,0.31,0.375,0.36,0.399,0.32,0.3825,0.3885,0.4,0.398,0.339,0.47,0.358,0.3315,0.4165,0.4,0.341,0.425,0.4895,0.46,0.462,0.44,0.434,0.435,0.6745,0.184,0.1035,0.1325,0.2475,0.2455,0.255,0.17,0.146,0.311,0.4095,0.271,0.345,0.283,0.3375,0.287,0.355,0.3005,0.3235,0.145,0.1435,0.13,0.1465,0.165,0.179,0.1945,0.21,0.2595,0.22,0.1825,0.148,0.1895,0.22,0.265,0.2735,0.275,0.2695,0.245,0.21,0.26,0.235,0.2985,0.2255,0.2445,0.265,0.245,0.314,0.33,0.2655,0.343,0.3175,0.345,0.335,0.315,0.342,0.39,0.37,0.374,0.45,0.465,0.44,0.0975,0.1,0.1325,0.175,0.17,0.175,0.24,0.07,0.0965,0.1395,0.153,0.2245,0.2515,0.2735,0.3305,0.356,0.274,0.3945,0.4575,0.4285,0.374,0.275,0.24,0.105,0.055,0.19,0.245,0.205,0.32,0.145,0.159,0.285,0.255,0.255,0.135,0.055,0.265,0.185,0.195,0.135,0.205,0.17,0.05,0.155,0.3,0.195,0.045,0.255,0.165,0.275,0.145,0.12,0.075,0.215,0.275,0.225,0.275,0.043,0.08,0.253,0.155,0.655,0.185,0.26,0.07,0.19,0.18,0.184,0.1775,0.263,0.3345,0.515,0.4305,0.496,0.585,0.097,0.105,0.169,0.275,0.33,0.322,0.34,0.547,0.3445,0.5055,0.4505,0.3725,0.5755,0.1525,0.1555,0.17,0.2015,0.247,0.2515,0.265,0.245,0.286,0.255,0.323,0.285,0.225,0.37,0.178,0.3,0.335,0.4295,0.4715,0.4705,0.0925,0.1075,0.18,0.172,0.182,0.1985,0.19,0.21,0.235,0.215,0.236,0.275,0.239,0.301,0.269,0.28,0.34,0.355,0.305,0.36,0.35,0.31,0.4545,0.499,0.437,0.1415,0.174,0.278,0.3,0.35,0.305,0.1185,0.149,0.1305,0.19,0.169,0.216,0.2615,0.206,0.225,0.19,0.2095,0.2725,0.3095,0.3,0.31,0.3,0.24,0.2755,0.298,0.27,0.37,0.3855,0.37,0.35,0.37,0.355,0.381,0.37,0.386,0.48,0.506,0.475,0.5385,0.48,0.139,0.3795,0.1785,0.4525,0.2,0.209,0.2585,0.2785,0.3315,0.3865,0.15,0.15,0.1765,0.165,0.185,0.252,0.26,0.255,0.24,0.263,0.2575,0.315,0.251,0.271,0.335,0.32,0.325,0.335,0.347,0.424,0.43,0.508,0.657,0.385,0.445,0.355,0.11,0.146,0.155,0.14,0.259,0.3,0.2845,0.092,0.156,0.1535,0.1765,0.1815,0.2405,0.229,0.249,0.2605,0.308,0.296],\"xaxis\":\"x\",\"y\":[0.53,0.44,0.425,0.475,0.43,0.49,0.535,0.47,0.44,0.45,0.355,0.38,0.55,0.615,0.56,0.58,0.575,0.58,0.465,0.45,0.575,0.355,0.45,0.47,0.525,0.52,0.485,0.47,0.5,0.445,0.47,0.505,0.53,0.52,0.475,0.475,0.4,0.57,0.595,0.6,0.555,0.575,0.56,0.46,0.625,0.535,0.47,0.475,0.53,0.545,0.5,0.51,0.435,0.495,0.465,0.435,0.425,0.545,0.53,0.49,0.44,0.56,0.405,0.47,0.385,0.44,0.425,0.345,0.405,0.375,0.565,0.55,0.56,0.475,0.49,0.46,0.28,0.605,0.635,0.605,0.515,0.525,0.52,0.315,0.58,0.56,0.62,0.63,0.63,0.585,0.355,0.51,0.505,0.585,0.45,0.42,0.44,0.4,0.435,0.49,0.5,0.55,0.45,0.47,0.415,0.445,0.47,0.49,0.445,0.425,0.5,0.58,0.295,0.3,0.33,0.35,0.36,0.545,0.54,0.53,0.46,0.35,0.47,0.515,0.455,0.535,0.53,0.44,0.535,0.49,0.37,0.405,0.37,0.47,0.57,0.45,0.45,0.385,0.36,0.36,0.4,0.62,0.46,0.525,0.375,0.61,0.58,0.58,0.58,0.63,0.585,0.535,0.485,0.545,0.455,0.46,0.465,0.415,0.475,0.47,0.365,0.39,0.5,0.47,0.585,0.485,0.515,0.515,0.45,0.555,0.57,0.58,0.49,0.29,0.5,0.39,0.36,0.335,0.395,0.41,0.56,0.565,0.575,0.36,0.415,0.525,0.38,0.53,0.515,0.43,0.52,0.545,0.465,0.55,0.54,0.655,0.615,0.555,0.56,0.68,0.455,0.49,0.4,0.365,0.385,0.435,0.47,0.465,0.52,0.375,0.44,0.445,0.38,0.32,0.255,0.555,0.485,0.5,0.44,0.475,0.545,0.35,0.41,0.61,0.61,0.56,0.585,0.58,0.625,0.41,0.495,0.52,0.37,0.55,0.385,0.47,0.345,0.485,0.37,0.325,0.31,0.345,0.425,0.38,0.34,0.475,0.46,0.47,0.36,0.355,0.45,0.445,0.48,0.46,0.475,0.47,0.37,0.585,0.535,0.415,0.395,0.455,0.5,0.37,0.485,0.51,0.525,0.59,0.5,0.43,0.38,0.445,0.4,0.415,0.315,0.345,0.36,0.375,0.355,0.35,0.29,0.465,0.4,0.525,0.51,0.445,0.36,0.52,0.485,0.545,0.345,0.55,0.53,0.485,0.385,0.455,0.49,0.53,0.515,0.515,0.505,0.57,0.485,0.47,0.53,0.44,0.52,0.425,0.46,0.45,0.425,0.515,0.44,0.44,0.45,0.47,0.475,0.48,0.485,0.49,0.495,0.5,0.505,0.525,0.54,0.54,0.545,0.55,0.55,0.55,0.555,0.565,0.57,0.57,0.575,0.59,0.595,0.595,0.6,0.6,0.6,0.605,0.605,0.615,0.615,0.62,0.62,0.625,0.625,0.635,0.635,0.635,0.64,0.65,0.655,0.66,0.67,0.675,0.68,0.685,0.695,0.315,0.435,0.45,0.47,0.47,0.475,0.48,0.49,0.495,0.5,0.505,0.505,0.505,0.505,0.51,0.51,0.51,0.515,0.525,0.525,0.53,0.53,0.535,0.535,0.535,0.55,0.55,0.56,0.565,0.57,0.57,0.57,0.57,0.575,0.575,0.58,0.58,0.58,0.58,0.59,0.59,0.59,0.595,0.595,0.595,0.595,0.595,0.605,0.605,0.605,0.61,0.61,0.615,0.62,0.625,0.625,0.625,0.625,0.625,0.63,0.63,0.63,0.635,0.635,0.64,0.64,0.64,0.645,0.645,0.645,0.645,0.645,0.645,0.645,0.65,0.65,0.65,0.655,0.655,0.66,0.66,0.66,0.67,0.675,0.69,0.69,0.695,0.71,0.715,0.715,0.735,0.445,0.45,0.48,0.5,0.5,0.51,0.51,0.51,0.515,0.52,0.52,0.52,0.525,0.525,0.525,0.525,0.53,0.535,0.54,0.545,0.545,0.55,0.55,0.55,0.56,0.56,0.56,0.56,0.565,0.565,0.565,0.57,0.57,0.57,0.575,0.575,0.575,0.575,0.575,0.575,0.575,0.58,0.58,0.58,0.58,0.58,0.58,0.585,0.59,0.6,0.6,0.6,0.6,0.605,0.605,0.605,0.605,0.61,0.61,0.61,0.615,0.615,0.615,0.62,0.62,0.62,0.625,0.625,0.63,0.63,0.635,0.64,0.645,0.645,0.65,0.65,0.655,0.655,0.66,0.665,0.665,0.67,0.685,0.69,0.69,0.695,0.7,0.7,0.705,0.71,0.715,0.72,0.72,0.72,0.735,0.745,0.75,0.755,0.755,0.78,0.35,0.375,0.38,0.385,0.385,0.395,0.395,0.43,0.43,0.44,0.45,0.455,0.455,0.455,0.46,0.46,0.465,0.47,0.47,0.47,0.475,0.475,0.475,0.48,0.48,0.48,0.495,0.495,0.5,0.5,0.5,0.5,0.5,0.505,0.505,0.515,0.52,0.52,0.525,0.525,0.53,0.53,0.53,0.53,0.535,0.535,0.535,0.535,0.54,0.54,0.545,0.545,0.545,0.545,0.55,0.55,0.55,0.55,0.55,0.555,0.555,0.555,0.555,0.56,0.56,0.56,0.56,0.565,0.565,0.565,0.565,0.57,0.57,0.57,0.57,0.57,0.57,0.575,0.575,0.575,0.58,0.58,0.58,0.585,0.585,0.585,0.585,0.585,0.585,0.585,0.59,0.59,0.59,0.595,0.6,0.6,0.6,0.6,0.6,0.6,0.605,0.605,0.605,0.605,0.61,0.61,0.61,0.61,0.61,0.615,0.615,0.615,0.615,0.615,0.615,0.62,0.62,0.62,0.625,0.625,0.625,0.63,0.63,0.63,0.635,0.635,0.635,0.635,0.635,0.64,0.645,0.645,0.645,0.65,0.65,0.65,0.65,0.65,0.655,0.655,0.655,0.66,0.66,0.665,0.67,0.67,0.685,0.695,0.705,0.705,0.71,0.725,0.73,0.745,0.405,0.415,0.44,0.44,0.46,0.47,0.475,0.485,0.505,0.505,0.515,0.515,0.52,0.525,0.53,0.53,0.545,0.55,0.55,0.56,0.56,0.57,0.575,0.575,0.58,0.58,0.585,0.59,0.59,0.59,0.595,0.6,0.6,0.605,0.605,0.605,0.61,0.615,0.62,0.62,0.62,0.625,0.625,0.63,0.63,0.63,0.63,0.63,0.635,0.635,0.64,0.645,0.645,0.645,0.65,0.65,0.65,0.65,0.655,0.655,0.66,0.665,0.67,0.67,0.67,0.68,0.7,0.7,0.705,0.74,0.75,0.36,0.385,0.385,0.41,0.41,0.425,0.45,0.455,0.465,0.465,0.47,0.475,0.475,0.48,0.48,0.48,0.49,0.49,0.495,0.495,0.5,0.5,0.5,0.515,0.515,0.515,0.515,0.52,0.525,0.525,0.525,0.525,0.53,0.53,0.53,0.54,0.54,0.54,0.54,0.54,0.54,0.54,0.545,0.545,0.545,0.55,0.55,0.55,0.55,0.555,0.555,0.555,0.56,0.56,0.56,0.565,0.565,0.565,0.565,0.57,0.57,0.57,0.57,0.57,0.575,0.575,0.575,0.575,0.575,0.575,0.575,0.575,0.575,0.575,0.58,0.58,0.58,0.58,0.585,0.59,0.59,0.59,0.595,0.595,0.595,0.595,0.6,0.6,0.6,0.6,0.6,0.6,0.6,0.605,0.605,0.605,0.605,0.605,0.605,0.61,0.61,0.61,0.61,0.61,0.61,0.615,0.615,0.62,0.62,0.62,0.62,0.62,0.625,0.625,0.625,0.625,0.625,0.63,0.63,0.63,0.63,0.63,0.635,0.635,0.64,0.64,0.64,0.645,0.645,0.645,0.645,0.645,0.645,0.645,0.645,0.65,0.65,0.65,0.65,0.655,0.655,0.655,0.66,0.66,0.665,0.665,0.665,0.665,0.67,0.67,0.67,0.675,0.68,0.68,0.685,0.685,0.7,0.705,0.71,0.71,0.71,0.72,0.73,0.735,0.75,0.435,0.455,0.455,0.465,0.485,0.485,0.485,0.49,0.5,0.515,0.515,0.525,0.53,0.535,0.535,0.545,0.545,0.545,0.55,0.55,0.57,0.575,0.575,0.58,0.585,0.585,0.6,0.6,0.605,0.605,0.61,0.615,0.62,0.625,0.625,0.635,0.635,0.64,0.645,0.65,0.65,0.655,0.655,0.665,0.675,0.685,0.695,0.695,0.72,0.72,0.73,0.39,0.415,0.42,0.43,0.435,0.445,0.47,0.475,0.485,0.485,0.495,0.495,0.495,0.5,0.505,0.505,0.51,0.515,0.515,0.515,0.52,0.52,0.52,0.52,0.525,0.525,0.525,0.53,0.53,0.53,0.53,0.535,0.54,0.54,0.54,0.545,0.545,0.55,0.555,0.555,0.555,0.555,0.56,0.565,0.565,0.565,0.565,0.565,0.57,0.57,0.57,0.57,0.575,0.575,0.575,0.575,0.575,0.575,0.575,0.575,0.575,0.575,0.58,0.58,0.58,0.58,0.58,0.595,0.6,0.6,0.6,0.6,0.605,0.605,0.605,0.61,0.61,0.61,0.61,0.615,0.615,0.615,0.62,0.62,0.62,0.62,0.625,0.625,0.625,0.625,0.625,0.625,0.63,0.635,0.635,0.635,0.635,0.64,0.64,0.64,0.64,0.64,0.64,0.645,0.65,0.65,0.655,0.655,0.655,0.66,0.66,0.665,0.675,0.675,0.68,0.685,0.69,0.705,0.72,0.725,0.75,0.355,0.415,0.43,0.45,0.47,0.47,0.475,0.505,0.505,0.51,0.515,0.525,0.53,0.53,0.545,0.55,0.56,0.565,0.57,0.58,0.59,0.6,0.61,0.66,0.32,0.325,0.385,0.405,0.44,0.445,0.45,0.455,0.46,0.465,0.48,0.485,0.49,0.5,0.5,0.525,0.535,0.535,0.54,0.54,0.545,0.55,0.55,0.565,0.58,0.585,0.595,0.6,0.61,0.61,0.62,0.645,0.65,0.665,0.685,0.705,0.71,0.72,0.73,0.505,0.53,0.505,0.5,0.47,0.4,0.37,0.41,0.375,0.49,0.585,0.455,0.525,0.48,0.455,0.475,0.435,0.47,0.5,0.585,0.52,0.44,0.44,0.56,0.59,0.45,0.46,0.47,0.455,0.415,0.465,0.415,0.445,0.4,0.55,0.71,0.55,0.61,0.595,0.445,0.52,0.49,0.58,0.37,0.405,0.42,0.43,0.455,0.535,0.55,0.505,0.56,0.46,0.46,0.435,0.465,0.355,0.46,0.38,0.47,0.655,0.645,0.52,0.43,0.55,0.585,0.51,0.525,0.44,0.485,0.495,0.405,0.42,0.5,0.58,0.475,0.38,0.52,0.475,0.495,0.48,0.52,0.46,0.58,0.59,0.455,0.315,0.4,0.395,0.415,0.43,0.42,0.515,0.56,0.59,0.505,0.45,0.635,0.545,0.42,0.34,0.43,0.36,0.525,0.44,0.47,0.515,0.42,0.37,0.33,0.29,0.58,0.64,0.505,0.5,0.42,0.4,0.31,0.465,0.41,0.53,0.34,0.52,0.61,0.335,0.345,0.54,0.475,0.445,0.5,0.37,0.42,0.35,0.395,0.325,0.44,0.52,0.5,0.425,0.37,0.615,0.47,0.39,0.355,0.63,0.515,0.475,0.42,0.4,0.33,0.42,0.465,0.465,0.47,0.47,0.475,0.5,0.525,0.54,0.545,0.565,0.58,0.59,0.59,0.595,0.6,0.6,0.6,0.605,0.625,0.63,0.64,0.66,0.69,0.7,0.73,0.45,0.465,0.475,0.48,0.515,0.525,0.53,0.54,0.55,0.57,0.57,0.58,0.585,0.595,0.595,0.595,0.6,0.6,0.6,0.61,0.615,0.615,0.615,0.62,0.62,0.62,0.625,0.625,0.625,0.63,0.63,0.63,0.635,0.635,0.645,0.65,0.67,0.69,0.695,0.705,0.77,0.415,0.485,0.49,0.49,0.5,0.5,0.51,0.51,0.515,0.52,0.545,0.545,0.55,0.55,0.555,0.565,0.57,0.57,0.57,0.575,0.58,0.585,0.59,0.59,0.59,0.595,0.595,0.595,0.6,0.605,0.615,0.615,0.615,0.62,0.62,0.625,0.625,0.625,0.63,0.63,0.63,0.645,0.645,0.645,0.65,0.65,0.65,0.65,0.65,0.66,0.665,0.67,0.68,0.68,0.7,0.725,0.725,0.735,0.75,0.375,0.385,0.395,0.405,0.41,0.41,0.42,0.42,0.445,0.45,0.455,0.46,0.46,0.48,0.485,0.485,0.49,0.505,0.505,0.51,0.515,0.515,0.525,0.525,0.525,0.525,0.535,0.545,0.55,0.55,0.55,0.55,0.55,0.555,0.555,0.56,0.56,0.565,0.57,0.575,0.58,0.58,0.58,0.585,0.585,0.585,0.585,0.59,0.59,0.595,0.6,0.6,0.6,0.6,0.61,0.61,0.615,0.62,0.62,0.625,0.625,0.63,0.63,0.64,0.64,0.64,0.64,0.64,0.65,0.66,0.66,0.675,0.705,0.71,0.72,0.725,0.36,0.495,0.5,0.5,0.52,0.525,0.54,0.54,0.57,0.57,0.58,0.58,0.59,0.59,0.59,0.595,0.6,0.6,0.605,0.62,0.625,0.625,0.625,0.63,0.63,0.645,0.645,0.65,0.655,0.655,0.665,0.695,0.72,0.72,0.735,0.74,0.4,0.425,0.46,0.465,0.47,0.475,0.495,0.5,0.5,0.505,0.505,0.505,0.51,0.51,0.52,0.52,0.53,0.53,0.535,0.54,0.54,0.545,0.545,0.55,0.55,0.55,0.56,0.56,0.575,0.575,0.575,0.58,0.58,0.58,0.58,0.58,0.58,0.585,0.59,0.59,0.59,0.595,0.595,0.6,0.6,0.6,0.6,0.6,0.605,0.605,0.61,0.61,0.61,0.615,0.615,0.615,0.615,0.62,0.62,0.625,0.625,0.625,0.625,0.625,0.63,0.63,0.63,0.635,0.635,0.635,0.635,0.635,0.64,0.64,0.645,0.655,0.66,0.665,0.67,0.67,0.67,0.67,0.68,0.685,0.715,0.43,0.485,0.49,0.505,0.51,0.525,0.535,0.535,0.555,0.555,0.56,0.59,0.595,0.595,0.595,0.61,0.61,0.62,0.625,0.635,0.635,0.64,0.64,0.645,0.655,0.67,0.7,0.375,0.39,0.435,0.44,0.45,0.45,0.455,0.46,0.47,0.475,0.495,0.5,0.52,0.52,0.525,0.535,0.535,0.54,0.55,0.55,0.56,0.565,0.57,0.57,0.575,0.575,0.575,0.575,0.58,0.585,0.59,0.59,0.59,0.595,0.595,0.6,0.61,0.615,0.62,0.625,0.63,0.63,0.635,0.635,0.635,0.64,0.64,0.65,0.655,0.655,0.655,0.66,0.665,0.675,0.68,0.68,0.685,0.695,0.7,0.755,0.425,0.455,0.46,0.495,0.51,0.52,0.525,0.53,0.53,0.545,0.55,0.575,0.58,0.595,0.6,0.645,0.66,0.395,0.41,0.465,0.47,0.51,0.525,0.525,0.56,0.575,0.575,0.585,0.615,0.62,0.63,0.63,0.67,0.675,0.685,0.485,0.46,0.46,0.535,0.465,0.51,0.335,0.625,0.655,0.47,0.425,0.505,0.535,0.43,0.55,0.55,0.545,0.56,0.505,0.45,0.51,0.38,0.27,0.5,0.645,0.565,0.59,0.51,0.45,0.49,0.505,0.335,0.295,0.32,0.6,0.62,0.425,0.5,0.385,0.52,0.44,0.42,0.42,0.57,0.345,0.595,0.435,0.455,0.505,0.495,0.4,0.41,0.465,0.55,0.59,0.565,0.53,0.495,0.66,0.41,0.45,0.485,0.4,0.45,0.35,0.49,0.345,0.545,0.385,0.51,0.39,0.45,0.415,0.47,0.445,0.475,0.455,0.435,0.375,0.41,0.41,0.54,0.33,0.44,0.33,0.475,0.46,0.335,0.295,0.56,0.575,0.365,0.46,0.53,0.35,0.37,0.35,0.48,0.49,0.56,0.58,0.58,0.59,0.595,0.6,0.61,0.63,0.64,0.65,0.395,0.44,0.48,0.49,0.495,0.5,0.505,0.55,0.555,0.555,0.575,0.6,0.61,0.61,0.615,0.62,0.625,0.625,0.625,0.635,0.64,0.64,0.66,0.665,0.715,0.72,0.725,0.45,0.475,0.505,0.51,0.52,0.53,0.535,0.55,0.555,0.555,0.555,0.56,0.575,0.585,0.59,0.595,0.6,0.61,0.615,0.62,0.625,0.625,0.64,0.64,0.645,0.65,0.655,0.655,0.66,0.67,0.7,0.7,0.71,0.715,0.72,0.4,0.425,0.435,0.445,0.45,0.455,0.46,0.475,0.475,0.48,0.5,0.505,0.515,0.525,0.53,0.53,0.535,0.535,0.54,0.55,0.565,0.57,0.57,0.57,0.575,0.575,0.575,0.575,0.58,0.58,0.58,0.58,0.585,0.585,0.595,0.6,0.6,0.6,0.6,0.6,0.6,0.62,0.625,0.625,0.625,0.625,0.625,0.63,0.635,0.65,0.65,0.65,0.655,0.655,0.66,0.675,0.685,0.37,0.455,0.495,0.515,0.555,0.58,0.59,0.6,0.61,0.615,0.615,0.62,0.63,0.64,0.655,0.655,0.66,0.665,0.67,0.69,0.715,0.39,0.44,0.44,0.465,0.465,0.47,0.475,0.475,0.485,0.49,0.515,0.52,0.525,0.525,0.53,0.53,0.53,0.53,0.535,0.545,0.545,0.55,0.55,0.55,0.555,0.575,0.575,0.585,0.585,0.585,0.59,0.595,0.595,0.595,0.6,0.6,0.605,0.605,0.61,0.61,0.615,0.62,0.62,0.62,0.62,0.625,0.63,0.63,0.65,0.65,0.65,0.65,0.65,0.65,0.66,0.66,0.665,0.67,0.67,0.67,0.675,0.675,0.675,0.685,0.685,0.705,0.705,0.71,0.725,0.78,0.43,0.465,0.47,0.495,0.5,0.51,0.51,0.515,0.55,0.575,0.605,0.615,0.615,0.625,0.625,0.635,0.65,0.65,0.435,0.475,0.475,0.485,0.51,0.515,0.52,0.525,0.53,0.53,0.53,0.53,0.53,0.535,0.535,0.555,0.555,0.56,0.56,0.565,0.575,0.575,0.575,0.58,0.58,0.585,0.59,0.595,0.615,0.615,0.62,0.62,0.625,0.625,0.63,0.645,0.65,0.65,0.67,0.675,0.695,0.705,0.425,0.425,0.45,0.515,0.52,0.525,0.555,0.35,0.46,0.465,0.475,0.565,0.57,0.57,0.595,0.605,0.615,0.625,0.68,0.68,0.68,0.545,0.535,0.41,0.335,0.52,0.53,0.5,0.615,0.455,0.445,0.56,0.57,0.485,0.41,0.335,0.57,0.475,0.525,0.44,0.49,0.515,0.295,0.45,0.565,0.54,0.29,0.56,0.435,0.565,0.455,0.455,0.355,0.54,0.56,0.52,0.565,0.295,0.375,0.525,0.47,0.725,0.49,0.52,0.35,0.505,0.525,0.465,0.49,0.555,0.61,0.68,0.69,0.695,0.72,0.415,0.42,0.485,0.565,0.6,0.63,0.645,0.655,0.665,0.67,0.67,0.685,0.7,0.485,0.51,0.52,0.555,0.585,0.585,0.61,0.61,0.615,0.62,0.625,0.625,0.635,0.64,0.66,0.66,0.66,0.68,0.69,0.72,0.42,0.44,0.485,0.495,0.52,0.54,0.54,0.55,0.56,0.575,0.575,0.58,0.58,0.59,0.6,0.62,0.625,0.625,0.625,0.625,0.635,0.645,0.645,0.69,0.695,0.515,0.545,0.62,0.63,0.63,0.64,0.455,0.485,0.5,0.515,0.52,0.545,0.545,0.55,0.55,0.55,0.555,0.56,0.565,0.57,0.575,0.585,0.59,0.595,0.6,0.61,0.615,0.625,0.63,0.635,0.635,0.65,0.67,0.675,0.675,0.68,0.7,0.71,0.715,0.72,0.48,0.51,0.515,0.56,0.56,0.57,0.605,0.625,0.64,0.65,0.455,0.46,0.49,0.5,0.54,0.55,0.55,0.555,0.57,0.58,0.58,0.585,0.585,0.595,0.6,0.615,0.63,0.63,0.635,0.645,0.65,0.67,0.67,0.695,0.695,0.77,0.43,0.475,0.475,0.48,0.56,0.585,0.585,0.385,0.475,0.5,0.515,0.52,0.55,0.56,0.565,0.59,0.6,0.625],\"yaxis\":\"y\",\"type\":\"scattergl\"}],                        {\"template\":{\"data\":{\"histogram2dcontour\":[{\"type\":\"histogram2dcontour\",\"colorbar\":{\"outlinewidth\":0,\"ticks\":\"\"},\"colorscale\":[[0.0,\"#0d0887\"],[0.1111111111111111,\"#46039f\"],[0.2222222222222222,\"#7201a8\"],[0.3333333333333333,\"#9c179e\"],[0.4444444444444444,\"#bd3786\"],[0.5555555555555556,\"#d8576b\"],[0.6666666666666666,\"#ed7953\"],[0.7777777777777778,\"#fb9f3a\"],[0.8888888888888888,\"#fdca26\"],[1.0,\"#f0f921\"]]}],\"choropleth\":[{\"type\":\"choropleth\",\"colorbar\":{\"outlinewidth\":0,\"ticks\":\"\"}}],\"histogram2d\":[{\"type\":\"histogram2d\",\"colorbar\":{\"outlinewidth\":0,\"ticks\":\"\"},\"colorscale\":[[0.0,\"#0d0887\"],[0.1111111111111111,\"#46039f\"],[0.2222222222222222,\"#7201a8\"],[0.3333333333333333,\"#9c179e\"],[0.4444444444444444,\"#bd3786\"],[0.5555555555555556,\"#d8576b\"],[0.6666666666666666,\"#ed7953\"],[0.7777777777777778,\"#fb9f3a\"],[0.8888888888888888,\"#fdca26\"],[1.0,\"#f0f921\"]]}],\"heatmap\":[{\"type\":\"heatmap\",\"colorbar\":{\"outlinewidth\":0,\"ticks\":\"\"},\"colorscale\":[[0.0,\"#0d0887\"],[0.1111111111111111,\"#46039f\"],[0.2222222222222222,\"#7201a8\"],[0.3333333333333333,\"#9c179e\"],[0.4444444444444444,\"#bd3786\"],[0.5555555555555556,\"#d8576b\"],[0.6666666666666666,\"#ed7953\"],[0.7777777777777778,\"#fb9f3a\"],[0.8888888888888888,\"#fdca26\"],[1.0,\"#f0f921\"]]}],\"heatmapgl\":[{\"type\":\"heatmapgl\",\"colorbar\":{\"outlinewidth\":0,\"ticks\":\"\"},\"colorscale\":[[0.0,\"#0d0887\"],[0.1111111111111111,\"#46039f\"],[0.2222222222222222,\"#7201a8\"],[0.3333333333333333,\"#9c179e\"],[0.4444444444444444,\"#bd3786\"],[0.5555555555555556,\"#d8576b\"],[0.6666666666666666,\"#ed7953\"],[0.7777777777777778,\"#fb9f3a\"],[0.8888888888888888,\"#fdca26\"],[1.0,\"#f0f921\"]]}],\"contourcarpet\":[{\"type\":\"contourcarpet\",\"colorbar\":{\"outlinewidth\":0,\"ticks\":\"\"}}],\"contour\":[{\"type\":\"contour\",\"colorbar\":{\"outlinewidth\":0,\"ticks\":\"\"},\"colorscale\":[[0.0,\"#0d0887\"],[0.1111111111111111,\"#46039f\"],[0.2222222222222222,\"#7201a8\"],[0.3333333333333333,\"#9c179e\"],[0.4444444444444444,\"#bd3786\"],[0.5555555555555556,\"#d8576b\"],[0.6666666666666666,\"#ed7953\"],[0.7777777777777778,\"#fb9f3a\"],[0.8888888888888888,\"#fdca26\"],[1.0,\"#f0f921\"]]}],\"surface\":[{\"type\":\"surface\",\"colorbar\":{\"outlinewidth\":0,\"ticks\":\"\"},\"colorscale\":[[0.0,\"#0d0887\"],[0.1111111111111111,\"#46039f\"],[0.2222222222222222,\"#7201a8\"],[0.3333333333333333,\"#9c179e\"],[0.4444444444444444,\"#bd3786\"],[0.5555555555555556,\"#d8576b\"],[0.6666666666666666,\"#ed7953\"],[0.7777777777777778,\"#fb9f3a\"],[0.8888888888888888,\"#fdca26\"],[1.0,\"#f0f921\"]]}],\"mesh3d\":[{\"type\":\"mesh3d\",\"colorbar\":{\"outlinewidth\":0,\"ticks\":\"\"}}],\"scatter\":[{\"fillpattern\":{\"fillmode\":\"overlay\",\"size\":10,\"solidity\":0.2},\"type\":\"scatter\"}],\"parcoords\":[{\"type\":\"parcoords\",\"line\":{\"colorbar\":{\"outlinewidth\":0,\"ticks\":\"\"}}}],\"scatterpolargl\":[{\"type\":\"scatterpolargl\",\"marker\":{\"colorbar\":{\"outlinewidth\":0,\"ticks\":\"\"}}}],\"bar\":[{\"error_x\":{\"color\":\"#2a3f5f\"},\"error_y\":{\"color\":\"#2a3f5f\"},\"marker\":{\"line\":{\"color\":\"#E5ECF6\",\"width\":0.5},\"pattern\":{\"fillmode\":\"overlay\",\"size\":10,\"solidity\":0.2}},\"type\":\"bar\"}],\"scattergeo\":[{\"type\":\"scattergeo\",\"marker\":{\"colorbar\":{\"outlinewidth\":0,\"ticks\":\"\"}}}],\"scatterpolar\":[{\"type\":\"scatterpolar\",\"marker\":{\"colorbar\":{\"outlinewidth\":0,\"ticks\":\"\"}}}],\"histogram\":[{\"marker\":{\"pattern\":{\"fillmode\":\"overlay\",\"size\":10,\"solidity\":0.2}},\"type\":\"histogram\"}],\"scattergl\":[{\"type\":\"scattergl\",\"marker\":{\"colorbar\":{\"outlinewidth\":0,\"ticks\":\"\"}}}],\"scatter3d\":[{\"type\":\"scatter3d\",\"line\":{\"colorbar\":{\"outlinewidth\":0,\"ticks\":\"\"}},\"marker\":{\"colorbar\":{\"outlinewidth\":0,\"ticks\":\"\"}}}],\"scattermapbox\":[{\"type\":\"scattermapbox\",\"marker\":{\"colorbar\":{\"outlinewidth\":0,\"ticks\":\"\"}}}],\"scatterternary\":[{\"type\":\"scatterternary\",\"marker\":{\"colorbar\":{\"outlinewidth\":0,\"ticks\":\"\"}}}],\"scattercarpet\":[{\"type\":\"scattercarpet\",\"marker\":{\"colorbar\":{\"outlinewidth\":0,\"ticks\":\"\"}}}],\"carpet\":[{\"aaxis\":{\"endlinecolor\":\"#2a3f5f\",\"gridcolor\":\"white\",\"linecolor\":\"white\",\"minorgridcolor\":\"white\",\"startlinecolor\":\"#2a3f5f\"},\"baxis\":{\"endlinecolor\":\"#2a3f5f\",\"gridcolor\":\"white\",\"linecolor\":\"white\",\"minorgridcolor\":\"white\",\"startlinecolor\":\"#2a3f5f\"},\"type\":\"carpet\"}],\"table\":[{\"cells\":{\"fill\":{\"color\":\"#EBF0F8\"},\"line\":{\"color\":\"white\"}},\"header\":{\"fill\":{\"color\":\"#C8D4E3\"},\"line\":{\"color\":\"white\"}},\"type\":\"table\"}],\"barpolar\":[{\"marker\":{\"line\":{\"color\":\"#E5ECF6\",\"width\":0.5},\"pattern\":{\"fillmode\":\"overlay\",\"size\":10,\"solidity\":0.2}},\"type\":\"barpolar\"}],\"pie\":[{\"automargin\":true,\"type\":\"pie\"}]},\"layout\":{\"autotypenumbers\":\"strict\",\"colorway\":[\"#636efa\",\"#EF553B\",\"#00cc96\",\"#ab63fa\",\"#FFA15A\",\"#19d3f3\",\"#FF6692\",\"#B6E880\",\"#FF97FF\",\"#FECB52\"],\"font\":{\"color\":\"#2a3f5f\"},\"hovermode\":\"closest\",\"hoverlabel\":{\"align\":\"left\"},\"paper_bgcolor\":\"white\",\"plot_bgcolor\":\"#E5ECF6\",\"polar\":{\"bgcolor\":\"#E5ECF6\",\"angularaxis\":{\"gridcolor\":\"white\",\"linecolor\":\"white\",\"ticks\":\"\"},\"radialaxis\":{\"gridcolor\":\"white\",\"linecolor\":\"white\",\"ticks\":\"\"}},\"ternary\":{\"bgcolor\":\"#E5ECF6\",\"aaxis\":{\"gridcolor\":\"white\",\"linecolor\":\"white\",\"ticks\":\"\"},\"baxis\":{\"gridcolor\":\"white\",\"linecolor\":\"white\",\"ticks\":\"\"},\"caxis\":{\"gridcolor\":\"white\",\"linecolor\":\"white\",\"ticks\":\"\"}},\"coloraxis\":{\"colorbar\":{\"outlinewidth\":0,\"ticks\":\"\"}},\"colorscale\":{\"sequential\":[[0.0,\"#0d0887\"],[0.1111111111111111,\"#46039f\"],[0.2222222222222222,\"#7201a8\"],[0.3333333333333333,\"#9c179e\"],[0.4444444444444444,\"#bd3786\"],[0.5555555555555556,\"#d8576b\"],[0.6666666666666666,\"#ed7953\"],[0.7777777777777778,\"#fb9f3a\"],[0.8888888888888888,\"#fdca26\"],[1.0,\"#f0f921\"]],\"sequentialminus\":[[0.0,\"#0d0887\"],[0.1111111111111111,\"#46039f\"],[0.2222222222222222,\"#7201a8\"],[0.3333333333333333,\"#9c179e\"],[0.4444444444444444,\"#bd3786\"],[0.5555555555555556,\"#d8576b\"],[0.6666666666666666,\"#ed7953\"],[0.7777777777777778,\"#fb9f3a\"],[0.8888888888888888,\"#fdca26\"],[1.0,\"#f0f921\"]],\"diverging\":[[0,\"#8e0152\"],[0.1,\"#c51b7d\"],[0.2,\"#de77ae\"],[0.3,\"#f1b6da\"],[0.4,\"#fde0ef\"],[0.5,\"#f7f7f7\"],[0.6,\"#e6f5d0\"],[0.7,\"#b8e186\"],[0.8,\"#7fbc41\"],[0.9,\"#4d9221\"],[1,\"#276419\"]]},\"xaxis\":{\"gridcolor\":\"white\",\"linecolor\":\"white\",\"ticks\":\"\",\"title\":{\"standoff\":15},\"zerolinecolor\":\"white\",\"automargin\":true,\"zerolinewidth\":2},\"yaxis\":{\"gridcolor\":\"white\",\"linecolor\":\"white\",\"ticks\":\"\",\"title\":{\"standoff\":15},\"zerolinecolor\":\"white\",\"automargin\":true,\"zerolinewidth\":2},\"scene\":{\"xaxis\":{\"backgroundcolor\":\"#E5ECF6\",\"gridcolor\":\"white\",\"linecolor\":\"white\",\"showbackground\":true,\"ticks\":\"\",\"zerolinecolor\":\"white\",\"gridwidth\":2},\"yaxis\":{\"backgroundcolor\":\"#E5ECF6\",\"gridcolor\":\"white\",\"linecolor\":\"white\",\"showbackground\":true,\"ticks\":\"\",\"zerolinecolor\":\"white\",\"gridwidth\":2},\"zaxis\":{\"backgroundcolor\":\"#E5ECF6\",\"gridcolor\":\"white\",\"linecolor\":\"white\",\"showbackground\":true,\"ticks\":\"\",\"zerolinecolor\":\"white\",\"gridwidth\":2}},\"shapedefaults\":{\"line\":{\"color\":\"#2a3f5f\"}},\"annotationdefaults\":{\"arrowcolor\":\"#2a3f5f\",\"arrowhead\":0,\"arrowwidth\":1},\"geo\":{\"bgcolor\":\"white\",\"landcolor\":\"#E5ECF6\",\"subunitcolor\":\"white\",\"showland\":true,\"showlakes\":true,\"lakecolor\":\"white\"},\"title\":{\"x\":0.05},\"mapbox\":{\"style\":\"light\"}}},\"xaxis\":{\"anchor\":\"y\",\"domain\":[0.0,1.0],\"title\":{\"text\":\"Shell weight\"}},\"yaxis\":{\"anchor\":\"x\",\"domain\":[0.0,1.0],\"title\":{\"text\":\"Length\"}},\"coloraxis\":{\"colorbar\":{\"title\":{\"text\":\"Sex\"}},\"colorscale\":[[0.0,\"#0d0887\"],[0.1111111111111111,\"#46039f\"],[0.2222222222222222,\"#7201a8\"],[0.3333333333333333,\"#9c179e\"],[0.4444444444444444,\"#bd3786\"],[0.5555555555555556,\"#d8576b\"],[0.6666666666666666,\"#ed7953\"],[0.7777777777777778,\"#fb9f3a\"],[0.8888888888888888,\"#fdca26\"],[1.0,\"#f0f921\"]]},\"legend\":{\"tracegroupgap\":0},\"title\":{\"text\":\"Scatter plot of Shell weight versus Length\"},\"height\":600,\"width\":600},                        {\"responsive\": true}                    ).then(function(){\n",
              "                            \n",
              "var gd = document.getElementById('2237394a-7d59-4ab9-86d8-a22d3910429c');\n",
              "var x = new MutationObserver(function (mutations, observer) {{\n",
              "        var display = window.getComputedStyle(gd).display;\n",
              "        if (!display || display === 'none') {{\n",
              "            console.log([gd, 'removed!']);\n",
              "            Plotly.purge(gd);\n",
              "            observer.disconnect();\n",
              "        }}\n",
              "}});\n",
              "\n",
              "// Listen for the removal of the full notebook cells\n",
              "var notebookContainer = gd.closest('#notebook-container');\n",
              "if (notebookContainer) {{\n",
              "    x.observe(notebookContainer, {childList: true});\n",
              "}}\n",
              "\n",
              "// Listen for the clearing of the current output cell\n",
              "var outputEl = gd.closest('.output');\n",
              "if (outputEl) {{\n",
              "    x.observe(outputEl, {childList: true});\n",
              "}}\n",
              "\n",
              "                        })                };                            </script>        </div>\n",
              "</body>\n",
              "</html>"
            ]
          },
          "metadata": {}
        }
      ]
    },
    {
      "cell_type": "markdown",
      "source": [
        "## Define Training/Test Data"
      ],
      "metadata": {
        "id": "PrMAQorPoeHh"
      }
    },
    {
      "cell_type": "code",
      "source": [
        "y=df['Rings']\n",
        "\n",
        "X = df.drop(['Rings'], axis=1) # Define the features column\n",
        "\n",
        "X_train, X_test, y_train, y_test = train_test_split(X, y, test_size=0.4, random_state=0) # Split data into test and train. Test data is 30% of entire data\n",
        "#print(X.shape)\n",
        "X.head()"
      ],
      "metadata": {
        "colab": {
          "base_uri": "https://localhost:8080/",
          "height": 206
        },
        "id": "4LI3kaqCoeVN",
        "outputId": "88c6b818-6ac5-4a74-dda2-31ba81313277"
      },
      "execution_count": 56,
      "outputs": [
        {
          "output_type": "execute_result",
          "data": {
            "text/plain": [
              "    Sex  Length  Diameter  Height  Whole weight  Shucked weight  \\\n",
              "2     1   0.530     0.420   0.135        0.6770          0.2565   \n",
              "3     0   0.440     0.365   0.125        0.5160          0.2155   \n",
              "5     2   0.425     0.300   0.095        0.3515          0.1410   \n",
              "8     0   0.475     0.370   0.125        0.5095          0.2165   \n",
              "11    0   0.430     0.350   0.110        0.4060          0.1675   \n",
              "\n",
              "    Viscera weight  Shell weight  Shell volume  \n",
              "2           0.1415         0.210      0.030051  \n",
              "3           0.1140         0.155      0.020075  \n",
              "5           0.0775         0.120      0.012113  \n",
              "8           0.1125         0.165      0.021969  \n",
              "11          0.0810         0.135      0.016555  "
            ],
            "text/html": [
              "\n",
              "  <div id=\"df-0f8ce2fd-6131-4c34-85ab-d1458cb786b3\" class=\"colab-df-container\">\n",
              "    <div>\n",
              "<style scoped>\n",
              "    .dataframe tbody tr th:only-of-type {\n",
              "        vertical-align: middle;\n",
              "    }\n",
              "\n",
              "    .dataframe tbody tr th {\n",
              "        vertical-align: top;\n",
              "    }\n",
              "\n",
              "    .dataframe thead th {\n",
              "        text-align: right;\n",
              "    }\n",
              "</style>\n",
              "<table border=\"1\" class=\"dataframe\">\n",
              "  <thead>\n",
              "    <tr style=\"text-align: right;\">\n",
              "      <th></th>\n",
              "      <th>Sex</th>\n",
              "      <th>Length</th>\n",
              "      <th>Diameter</th>\n",
              "      <th>Height</th>\n",
              "      <th>Whole weight</th>\n",
              "      <th>Shucked weight</th>\n",
              "      <th>Viscera weight</th>\n",
              "      <th>Shell weight</th>\n",
              "      <th>Shell volume</th>\n",
              "    </tr>\n",
              "  </thead>\n",
              "  <tbody>\n",
              "    <tr>\n",
              "      <th>2</th>\n",
              "      <td>1</td>\n",
              "      <td>0.530</td>\n",
              "      <td>0.420</td>\n",
              "      <td>0.135</td>\n",
              "      <td>0.6770</td>\n",
              "      <td>0.2565</td>\n",
              "      <td>0.1415</td>\n",
              "      <td>0.210</td>\n",
              "      <td>0.030051</td>\n",
              "    </tr>\n",
              "    <tr>\n",
              "      <th>3</th>\n",
              "      <td>0</td>\n",
              "      <td>0.440</td>\n",
              "      <td>0.365</td>\n",
              "      <td>0.125</td>\n",
              "      <td>0.5160</td>\n",
              "      <td>0.2155</td>\n",
              "      <td>0.1140</td>\n",
              "      <td>0.155</td>\n",
              "      <td>0.020075</td>\n",
              "    </tr>\n",
              "    <tr>\n",
              "      <th>5</th>\n",
              "      <td>2</td>\n",
              "      <td>0.425</td>\n",
              "      <td>0.300</td>\n",
              "      <td>0.095</td>\n",
              "      <td>0.3515</td>\n",
              "      <td>0.1410</td>\n",
              "      <td>0.0775</td>\n",
              "      <td>0.120</td>\n",
              "      <td>0.012113</td>\n",
              "    </tr>\n",
              "    <tr>\n",
              "      <th>8</th>\n",
              "      <td>0</td>\n",
              "      <td>0.475</td>\n",
              "      <td>0.370</td>\n",
              "      <td>0.125</td>\n",
              "      <td>0.5095</td>\n",
              "      <td>0.2165</td>\n",
              "      <td>0.1125</td>\n",
              "      <td>0.165</td>\n",
              "      <td>0.021969</td>\n",
              "    </tr>\n",
              "    <tr>\n",
              "      <th>11</th>\n",
              "      <td>0</td>\n",
              "      <td>0.430</td>\n",
              "      <td>0.350</td>\n",
              "      <td>0.110</td>\n",
              "      <td>0.4060</td>\n",
              "      <td>0.1675</td>\n",
              "      <td>0.0810</td>\n",
              "      <td>0.135</td>\n",
              "      <td>0.016555</td>\n",
              "    </tr>\n",
              "  </tbody>\n",
              "</table>\n",
              "</div>\n",
              "    <div class=\"colab-df-buttons\">\n",
              "\n",
              "  <div class=\"colab-df-container\">\n",
              "    <button class=\"colab-df-convert\" onclick=\"convertToInteractive('df-0f8ce2fd-6131-4c34-85ab-d1458cb786b3')\"\n",
              "            title=\"Convert this dataframe to an interactive table.\"\n",
              "            style=\"display:none;\">\n",
              "\n",
              "  <svg xmlns=\"http://www.w3.org/2000/svg\" height=\"24px\" viewBox=\"0 -960 960 960\">\n",
              "    <path d=\"M120-120v-720h720v720H120Zm60-500h600v-160H180v160Zm220 220h160v-160H400v160Zm0 220h160v-160H400v160ZM180-400h160v-160H180v160Zm440 0h160v-160H620v160ZM180-180h160v-160H180v160Zm440 0h160v-160H620v160Z\"/>\n",
              "  </svg>\n",
              "    </button>\n",
              "\n",
              "  <style>\n",
              "    .colab-df-container {\n",
              "      display:flex;\n",
              "      gap: 12px;\n",
              "    }\n",
              "\n",
              "    .colab-df-convert {\n",
              "      background-color: #E8F0FE;\n",
              "      border: none;\n",
              "      border-radius: 50%;\n",
              "      cursor: pointer;\n",
              "      display: none;\n",
              "      fill: #1967D2;\n",
              "      height: 32px;\n",
              "      padding: 0 0 0 0;\n",
              "      width: 32px;\n",
              "    }\n",
              "\n",
              "    .colab-df-convert:hover {\n",
              "      background-color: #E2EBFA;\n",
              "      box-shadow: 0px 1px 2px rgba(60, 64, 67, 0.3), 0px 1px 3px 1px rgba(60, 64, 67, 0.15);\n",
              "      fill: #174EA6;\n",
              "    }\n",
              "\n",
              "    .colab-df-buttons div {\n",
              "      margin-bottom: 4px;\n",
              "    }\n",
              "\n",
              "    [theme=dark] .colab-df-convert {\n",
              "      background-color: #3B4455;\n",
              "      fill: #D2E3FC;\n",
              "    }\n",
              "\n",
              "    [theme=dark] .colab-df-convert:hover {\n",
              "      background-color: #434B5C;\n",
              "      box-shadow: 0px 1px 3px 1px rgba(0, 0, 0, 0.15);\n",
              "      filter: drop-shadow(0px 1px 2px rgba(0, 0, 0, 0.3));\n",
              "      fill: #FFFFFF;\n",
              "    }\n",
              "  </style>\n",
              "\n",
              "    <script>\n",
              "      const buttonEl =\n",
              "        document.querySelector('#df-0f8ce2fd-6131-4c34-85ab-d1458cb786b3 button.colab-df-convert');\n",
              "      buttonEl.style.display =\n",
              "        google.colab.kernel.accessAllowed ? 'block' : 'none';\n",
              "\n",
              "      async function convertToInteractive(key) {\n",
              "        const element = document.querySelector('#df-0f8ce2fd-6131-4c34-85ab-d1458cb786b3');\n",
              "        const dataTable =\n",
              "          await google.colab.kernel.invokeFunction('convertToInteractive',\n",
              "                                                    [key], {});\n",
              "        if (!dataTable) return;\n",
              "\n",
              "        const docLinkHtml = 'Like what you see? Visit the ' +\n",
              "          '<a target=\"_blank\" href=https://colab.research.google.com/notebooks/data_table.ipynb>data table notebook</a>'\n",
              "          + ' to learn more about interactive tables.';\n",
              "        element.innerHTML = '';\n",
              "        dataTable['output_type'] = 'display_data';\n",
              "        await google.colab.output.renderOutput(dataTable, element);\n",
              "        const docLink = document.createElement('div');\n",
              "        docLink.innerHTML = docLinkHtml;\n",
              "        element.appendChild(docLink);\n",
              "      }\n",
              "    </script>\n",
              "  </div>\n",
              "\n",
              "\n",
              "<div id=\"df-6e5d1bd3-b449-4f72-a765-17891441fa40\">\n",
              "  <button class=\"colab-df-quickchart\" onclick=\"quickchart('df-6e5d1bd3-b449-4f72-a765-17891441fa40')\"\n",
              "            title=\"Suggest charts\"\n",
              "            style=\"display:none;\">\n",
              "\n",
              "<svg xmlns=\"http://www.w3.org/2000/svg\" height=\"24px\"viewBox=\"0 0 24 24\"\n",
              "     width=\"24px\">\n",
              "    <g>\n",
              "        <path d=\"M19 3H5c-1.1 0-2 .9-2 2v14c0 1.1.9 2 2 2h14c1.1 0 2-.9 2-2V5c0-1.1-.9-2-2-2zM9 17H7v-7h2v7zm4 0h-2V7h2v10zm4 0h-2v-4h2v4z\"/>\n",
              "    </g>\n",
              "</svg>\n",
              "  </button>\n",
              "\n",
              "<style>\n",
              "  .colab-df-quickchart {\n",
              "      --bg-color: #E8F0FE;\n",
              "      --fill-color: #1967D2;\n",
              "      --hover-bg-color: #E2EBFA;\n",
              "      --hover-fill-color: #174EA6;\n",
              "      --disabled-fill-color: #AAA;\n",
              "      --disabled-bg-color: #DDD;\n",
              "  }\n",
              "\n",
              "  [theme=dark] .colab-df-quickchart {\n",
              "      --bg-color: #3B4455;\n",
              "      --fill-color: #D2E3FC;\n",
              "      --hover-bg-color: #434B5C;\n",
              "      --hover-fill-color: #FFFFFF;\n",
              "      --disabled-bg-color: #3B4455;\n",
              "      --disabled-fill-color: #666;\n",
              "  }\n",
              "\n",
              "  .colab-df-quickchart {\n",
              "    background-color: var(--bg-color);\n",
              "    border: none;\n",
              "    border-radius: 50%;\n",
              "    cursor: pointer;\n",
              "    display: none;\n",
              "    fill: var(--fill-color);\n",
              "    height: 32px;\n",
              "    padding: 0;\n",
              "    width: 32px;\n",
              "  }\n",
              "\n",
              "  .colab-df-quickchart:hover {\n",
              "    background-color: var(--hover-bg-color);\n",
              "    box-shadow: 0 1px 2px rgba(60, 64, 67, 0.3), 0 1px 3px 1px rgba(60, 64, 67, 0.15);\n",
              "    fill: var(--button-hover-fill-color);\n",
              "  }\n",
              "\n",
              "  .colab-df-quickchart-complete:disabled,\n",
              "  .colab-df-quickchart-complete:disabled:hover {\n",
              "    background-color: var(--disabled-bg-color);\n",
              "    fill: var(--disabled-fill-color);\n",
              "    box-shadow: none;\n",
              "  }\n",
              "\n",
              "  .colab-df-spinner {\n",
              "    border: 2px solid var(--fill-color);\n",
              "    border-color: transparent;\n",
              "    border-bottom-color: var(--fill-color);\n",
              "    animation:\n",
              "      spin 1s steps(1) infinite;\n",
              "  }\n",
              "\n",
              "  @keyframes spin {\n",
              "    0% {\n",
              "      border-color: transparent;\n",
              "      border-bottom-color: var(--fill-color);\n",
              "      border-left-color: var(--fill-color);\n",
              "    }\n",
              "    20% {\n",
              "      border-color: transparent;\n",
              "      border-left-color: var(--fill-color);\n",
              "      border-top-color: var(--fill-color);\n",
              "    }\n",
              "    30% {\n",
              "      border-color: transparent;\n",
              "      border-left-color: var(--fill-color);\n",
              "      border-top-color: var(--fill-color);\n",
              "      border-right-color: var(--fill-color);\n",
              "    }\n",
              "    40% {\n",
              "      border-color: transparent;\n",
              "      border-right-color: var(--fill-color);\n",
              "      border-top-color: var(--fill-color);\n",
              "    }\n",
              "    60% {\n",
              "      border-color: transparent;\n",
              "      border-right-color: var(--fill-color);\n",
              "    }\n",
              "    80% {\n",
              "      border-color: transparent;\n",
              "      border-right-color: var(--fill-color);\n",
              "      border-bottom-color: var(--fill-color);\n",
              "    }\n",
              "    90% {\n",
              "      border-color: transparent;\n",
              "      border-bottom-color: var(--fill-color);\n",
              "    }\n",
              "  }\n",
              "</style>\n",
              "\n",
              "  <script>\n",
              "    async function quickchart(key) {\n",
              "      const quickchartButtonEl =\n",
              "        document.querySelector('#' + key + ' button');\n",
              "      quickchartButtonEl.disabled = true;  // To prevent multiple clicks.\n",
              "      quickchartButtonEl.classList.add('colab-df-spinner');\n",
              "      try {\n",
              "        const charts = await google.colab.kernel.invokeFunction(\n",
              "            'suggestCharts', [key], {});\n",
              "      } catch (error) {\n",
              "        console.error('Error during call to suggestCharts:', error);\n",
              "      }\n",
              "      quickchartButtonEl.classList.remove('colab-df-spinner');\n",
              "      quickchartButtonEl.classList.add('colab-df-quickchart-complete');\n",
              "    }\n",
              "    (() => {\n",
              "      let quickchartButtonEl =\n",
              "        document.querySelector('#df-6e5d1bd3-b449-4f72-a765-17891441fa40 button');\n",
              "      quickchartButtonEl.style.display =\n",
              "        google.colab.kernel.accessAllowed ? 'block' : 'none';\n",
              "    })();\n",
              "  </script>\n",
              "</div>\n",
              "\n",
              "    </div>\n",
              "  </div>\n"
            ],
            "application/vnd.google.colaboratory.intrinsic+json": {
              "type": "dataframe",
              "variable_name": "X",
              "summary": "{\n  \"name\": \"X\",\n  \"rows\": 2378,\n  \"fields\": [\n    {\n      \"column\": \"Sex\",\n      \"properties\": {\n        \"dtype\": \"number\",\n        \"std\": 0,\n        \"min\": 0,\n        \"max\": 2,\n        \"num_unique_values\": 3,\n        \"samples\": [\n          1,\n          0,\n          2\n        ],\n        \"semantic_type\": \"\",\n        \"description\": \"\"\n      }\n    },\n    {\n      \"column\": \"Length\",\n      \"properties\": {\n        \"dtype\": \"number\",\n        \"std\": 0.0908466873508007,\n        \"min\": 0.255,\n        \"max\": 0.78,\n        \"num_unique_values\": 98,\n        \"samples\": [\n          0.395,\n          0.605,\n          0.73\n        ],\n        \"semantic_type\": \"\",\n        \"description\": \"\"\n      }\n    },\n    {\n      \"column\": \"Diameter\",\n      \"properties\": {\n        \"dtype\": \"number\",\n        \"std\": 0.07469103161619785,\n        \"min\": 0.195,\n        \"max\": 0.63,\n        \"num_unique_values\": 84,\n        \"samples\": [\n          0.63,\n          0.42,\n          0.24\n        ],\n        \"semantic_type\": \"\",\n        \"description\": \"\"\n      }\n    },\n    {\n      \"column\": \"Height\",\n      \"properties\": {\n        \"dtype\": \"number\",\n        \"std\": 0.036688625918231875,\n        \"min\": 0.0,\n        \"max\": 1.13,\n        \"num_unique_values\": 39,\n        \"samples\": [\n          0.215,\n          1.13,\n          0.145\n        ],\n        \"semantic_type\": \"\",\n        \"description\": \"\"\n      }\n    },\n    {\n      \"column\": \"Whole weight\",\n      \"properties\": {\n        \"dtype\": \"number\",\n        \"std\": 0.4252923678584309,\n        \"min\": 0.08,\n        \"max\": 2.657,\n        \"num_unique_values\": 1670,\n        \"samples\": [\n          1.6195,\n          0.6985,\n          1.622\n        ],\n        \"semantic_type\": \"\",\n        \"description\": \"\"\n      }\n    },\n    {\n      \"column\": \"Shucked weight\",\n      \"properties\": {\n        \"dtype\": \"number\",\n        \"std\": 0.20487354498822696,\n        \"min\": 0.0315,\n        \"max\": 1.488,\n        \"num_unique_values\": 1192,\n        \"samples\": [\n          0.5235,\n          0.2405,\n          0.1925\n        ],\n        \"semantic_type\": \"\",\n        \"description\": \"\"\n      }\n    },\n    {\n      \"column\": \"Viscera weight\",\n      \"properties\": {\n        \"dtype\": \"number\",\n        \"std\": 0.09763290971842754,\n        \"min\": 0.0135,\n        \"max\": 0.5745,\n        \"num_unique_values\": 741,\n        \"samples\": [\n          0.074,\n          0.105,\n          0.1885\n        ],\n        \"semantic_type\": \"\",\n        \"description\": \"\"\n      }\n    },\n    {\n      \"column\": \"Shell weight\",\n      \"properties\": {\n        \"dtype\": \"number\",\n        \"std\": 0.11033021572526434,\n        \"min\": 0.027,\n        \"max\": 0.6785,\n        \"num_unique_values\": 692,\n        \"samples\": [\n          0.3105,\n          0.515,\n          0.595\n        ],\n        \"semantic_type\": \"\",\n        \"description\": \"\"\n      }\n    },\n    {\n      \"column\": \"Shell volume\",\n      \"properties\": {\n        \"dtype\": \"number\",\n        \"std\": 0.018456019660137418,\n        \"min\": 0.0,\n        \"max\": 0.20513737499999998,\n        \"num_unique_values\": 1931,\n        \"samples\": [\n          0.018259499999999998,\n          0.037352,\n          0.06829275\n        ],\n        \"semantic_type\": \"\",\n        \"description\": \"\"\n      }\n    }\n  ]\n}"
            }
          },
          "metadata": {},
          "execution_count": 56
        }
      ]
    },
    {
      "cell_type": "markdown",
      "source": [
        ">#### Standardize the data"
      ],
      "metadata": {
        "id": "TK3nFeH2mE3k"
      }
    },
    {
      "cell_type": "code",
      "source": [
        "sc = StandardScaler()\n",
        "X_train_standard = sc.fit_transform(X_train)\n",
        "X_test_standard = sc.fit_transform(X_test)\n"
      ],
      "metadata": {
        "id": "AEZCw2IZmFPg"
      },
      "execution_count": 57,
      "outputs": []
    },
    {
      "cell_type": "markdown",
      "source": [
        ">#### Logistic Regresstion Model"
      ],
      "metadata": {
        "id": "8ejO5HPZ0cd3"
      }
    },
    {
      "cell_type": "code",
      "source": [
        "clf = LogisticRegression(random_state=0,solver='lbfgs', max_iter=30000)\n",
        "clf.fit(X_train, y_train)"
      ],
      "metadata": {
        "colab": {
          "base_uri": "https://localhost:8080/",
          "height": 74
        },
        "id": "B5pnP7jC0c1z",
        "outputId": "cff6e782-3376-4f66-dee9-f112bcced46b"
      },
      "execution_count": 58,
      "outputs": [
        {
          "output_type": "execute_result",
          "data": {
            "text/plain": [
              "LogisticRegression(max_iter=30000, random_state=0)"
            ],
            "text/html": [
              "<style>#sk-container-id-1 {color: black;background-color: white;}#sk-container-id-1 pre{padding: 0;}#sk-container-id-1 div.sk-toggleable {background-color: white;}#sk-container-id-1 label.sk-toggleable__label {cursor: pointer;display: block;width: 100%;margin-bottom: 0;padding: 0.3em;box-sizing: border-box;text-align: center;}#sk-container-id-1 label.sk-toggleable__label-arrow:before {content: \"▸\";float: left;margin-right: 0.25em;color: #696969;}#sk-container-id-1 label.sk-toggleable__label-arrow:hover:before {color: black;}#sk-container-id-1 div.sk-estimator:hover label.sk-toggleable__label-arrow:before {color: black;}#sk-container-id-1 div.sk-toggleable__content {max-height: 0;max-width: 0;overflow: hidden;text-align: left;background-color: #f0f8ff;}#sk-container-id-1 div.sk-toggleable__content pre {margin: 0.2em;color: black;border-radius: 0.25em;background-color: #f0f8ff;}#sk-container-id-1 input.sk-toggleable__control:checked~div.sk-toggleable__content {max-height: 200px;max-width: 100%;overflow: auto;}#sk-container-id-1 input.sk-toggleable__control:checked~label.sk-toggleable__label-arrow:before {content: \"▾\";}#sk-container-id-1 div.sk-estimator input.sk-toggleable__control:checked~label.sk-toggleable__label {background-color: #d4ebff;}#sk-container-id-1 div.sk-label input.sk-toggleable__control:checked~label.sk-toggleable__label {background-color: #d4ebff;}#sk-container-id-1 input.sk-hidden--visually {border: 0;clip: rect(1px 1px 1px 1px);clip: rect(1px, 1px, 1px, 1px);height: 1px;margin: -1px;overflow: hidden;padding: 0;position: absolute;width: 1px;}#sk-container-id-1 div.sk-estimator {font-family: monospace;background-color: #f0f8ff;border: 1px dotted black;border-radius: 0.25em;box-sizing: border-box;margin-bottom: 0.5em;}#sk-container-id-1 div.sk-estimator:hover {background-color: #d4ebff;}#sk-container-id-1 div.sk-parallel-item::after {content: \"\";width: 100%;border-bottom: 1px solid gray;flex-grow: 1;}#sk-container-id-1 div.sk-label:hover label.sk-toggleable__label {background-color: #d4ebff;}#sk-container-id-1 div.sk-serial::before {content: \"\";position: absolute;border-left: 1px solid gray;box-sizing: border-box;top: 0;bottom: 0;left: 50%;z-index: 0;}#sk-container-id-1 div.sk-serial {display: flex;flex-direction: column;align-items: center;background-color: white;padding-right: 0.2em;padding-left: 0.2em;position: relative;}#sk-container-id-1 div.sk-item {position: relative;z-index: 1;}#sk-container-id-1 div.sk-parallel {display: flex;align-items: stretch;justify-content: center;background-color: white;position: relative;}#sk-container-id-1 div.sk-item::before, #sk-container-id-1 div.sk-parallel-item::before {content: \"\";position: absolute;border-left: 1px solid gray;box-sizing: border-box;top: 0;bottom: 0;left: 50%;z-index: -1;}#sk-container-id-1 div.sk-parallel-item {display: flex;flex-direction: column;z-index: 1;position: relative;background-color: white;}#sk-container-id-1 div.sk-parallel-item:first-child::after {align-self: flex-end;width: 50%;}#sk-container-id-1 div.sk-parallel-item:last-child::after {align-self: flex-start;width: 50%;}#sk-container-id-1 div.sk-parallel-item:only-child::after {width: 0;}#sk-container-id-1 div.sk-dashed-wrapped {border: 1px dashed gray;margin: 0 0.4em 0.5em 0.4em;box-sizing: border-box;padding-bottom: 0.4em;background-color: white;}#sk-container-id-1 div.sk-label label {font-family: monospace;font-weight: bold;display: inline-block;line-height: 1.2em;}#sk-container-id-1 div.sk-label-container {text-align: center;}#sk-container-id-1 div.sk-container {/* jupyter's `normalize.less` sets `[hidden] { display: none; }` but bootstrap.min.css set `[hidden] { display: none !important; }` so we also need the `!important` here to be able to override the default hidden behavior on the sphinx rendered scikit-learn.org. See: https://github.com/scikit-learn/scikit-learn/issues/21755 */display: inline-block !important;position: relative;}#sk-container-id-1 div.sk-text-repr-fallback {display: none;}</style><div id=\"sk-container-id-1\" class=\"sk-top-container\"><div class=\"sk-text-repr-fallback\"><pre>LogisticRegression(max_iter=30000, random_state=0)</pre><b>In a Jupyter environment, please rerun this cell to show the HTML representation or trust the notebook. <br />On GitHub, the HTML representation is unable to render, please try loading this page with nbviewer.org.</b></div><div class=\"sk-container\" hidden><div class=\"sk-item\"><div class=\"sk-estimator sk-toggleable\"><input class=\"sk-toggleable__control sk-hidden--visually\" id=\"sk-estimator-id-1\" type=\"checkbox\" checked><label for=\"sk-estimator-id-1\" class=\"sk-toggleable__label sk-toggleable__label-arrow\">LogisticRegression</label><div class=\"sk-toggleable__content\"><pre>LogisticRegression(max_iter=30000, random_state=0)</pre></div></div></div></div></div>"
            ]
          },
          "metadata": {},
          "execution_count": 58
        }
      ]
    },
    {
      "cell_type": "code",
      "source": [
        "clf.score(X_train,y_train)"
      ],
      "metadata": {
        "colab": {
          "base_uri": "https://localhost:8080/"
        },
        "id": "hFqSdhpz2TmD",
        "outputId": "960ef90d-edd8-4e44-f707-4fcd7c4cc3c9"
      },
      "execution_count": 60,
      "outputs": [
        {
          "output_type": "execute_result",
          "data": {
            "text/plain": [
              "0.3955119214586255"
            ]
          },
          "metadata": {},
          "execution_count": 60
        }
      ]
    },
    {
      "cell_type": "code",
      "source": [
        "clf.score(X_test,y_test) # Was able to get it from 24% to 30.7%% after selecting target class with higher instances per class"
      ],
      "metadata": {
        "colab": {
          "base_uri": "https://localhost:8080/"
        },
        "id": "utPCqaIWo4jU",
        "outputId": "74f40515-3166-4e93-e18c-ea933f072518"
      },
      "execution_count": 63,
      "outputs": [
        {
          "output_type": "execute_result",
          "data": {
            "text/plain": [
              "0.3067226890756303"
            ]
          },
          "metadata": {},
          "execution_count": 63
        }
      ]
    },
    {
      "cell_type": "markdown",
      "source": [
        ">#### Decision Tree Classifier Model"
      ],
      "metadata": {
        "id": "6l2dMg5Qi5WX"
      }
    },
    {
      "cell_type": "code",
      "source": [
        "clf = DecisionTreeClassifier(random_state=42)\n",
        "clf.fit(X_train,y_train)"
      ],
      "metadata": {
        "colab": {
          "base_uri": "https://localhost:8080/",
          "height": 74
        },
        "id": "VRcUx6WFi5o4",
        "outputId": "a7944b0d-dd72-4067-e31c-9b40438612f5"
      },
      "execution_count": 65,
      "outputs": [
        {
          "output_type": "execute_result",
          "data": {
            "text/plain": [
              "DecisionTreeClassifier(random_state=42)"
            ],
            "text/html": [
              "<style>#sk-container-id-4 {color: black;background-color: white;}#sk-container-id-4 pre{padding: 0;}#sk-container-id-4 div.sk-toggleable {background-color: white;}#sk-container-id-4 label.sk-toggleable__label {cursor: pointer;display: block;width: 100%;margin-bottom: 0;padding: 0.3em;box-sizing: border-box;text-align: center;}#sk-container-id-4 label.sk-toggleable__label-arrow:before {content: \"▸\";float: left;margin-right: 0.25em;color: #696969;}#sk-container-id-4 label.sk-toggleable__label-arrow:hover:before {color: black;}#sk-container-id-4 div.sk-estimator:hover label.sk-toggleable__label-arrow:before {color: black;}#sk-container-id-4 div.sk-toggleable__content {max-height: 0;max-width: 0;overflow: hidden;text-align: left;background-color: #f0f8ff;}#sk-container-id-4 div.sk-toggleable__content pre {margin: 0.2em;color: black;border-radius: 0.25em;background-color: #f0f8ff;}#sk-container-id-4 input.sk-toggleable__control:checked~div.sk-toggleable__content {max-height: 200px;max-width: 100%;overflow: auto;}#sk-container-id-4 input.sk-toggleable__control:checked~label.sk-toggleable__label-arrow:before {content: \"▾\";}#sk-container-id-4 div.sk-estimator input.sk-toggleable__control:checked~label.sk-toggleable__label {background-color: #d4ebff;}#sk-container-id-4 div.sk-label input.sk-toggleable__control:checked~label.sk-toggleable__label {background-color: #d4ebff;}#sk-container-id-4 input.sk-hidden--visually {border: 0;clip: rect(1px 1px 1px 1px);clip: rect(1px, 1px, 1px, 1px);height: 1px;margin: -1px;overflow: hidden;padding: 0;position: absolute;width: 1px;}#sk-container-id-4 div.sk-estimator {font-family: monospace;background-color: #f0f8ff;border: 1px dotted black;border-radius: 0.25em;box-sizing: border-box;margin-bottom: 0.5em;}#sk-container-id-4 div.sk-estimator:hover {background-color: #d4ebff;}#sk-container-id-4 div.sk-parallel-item::after {content: \"\";width: 100%;border-bottom: 1px solid gray;flex-grow: 1;}#sk-container-id-4 div.sk-label:hover label.sk-toggleable__label {background-color: #d4ebff;}#sk-container-id-4 div.sk-serial::before {content: \"\";position: absolute;border-left: 1px solid gray;box-sizing: border-box;top: 0;bottom: 0;left: 50%;z-index: 0;}#sk-container-id-4 div.sk-serial {display: flex;flex-direction: column;align-items: center;background-color: white;padding-right: 0.2em;padding-left: 0.2em;position: relative;}#sk-container-id-4 div.sk-item {position: relative;z-index: 1;}#sk-container-id-4 div.sk-parallel {display: flex;align-items: stretch;justify-content: center;background-color: white;position: relative;}#sk-container-id-4 div.sk-item::before, #sk-container-id-4 div.sk-parallel-item::before {content: \"\";position: absolute;border-left: 1px solid gray;box-sizing: border-box;top: 0;bottom: 0;left: 50%;z-index: -1;}#sk-container-id-4 div.sk-parallel-item {display: flex;flex-direction: column;z-index: 1;position: relative;background-color: white;}#sk-container-id-4 div.sk-parallel-item:first-child::after {align-self: flex-end;width: 50%;}#sk-container-id-4 div.sk-parallel-item:last-child::after {align-self: flex-start;width: 50%;}#sk-container-id-4 div.sk-parallel-item:only-child::after {width: 0;}#sk-container-id-4 div.sk-dashed-wrapped {border: 1px dashed gray;margin: 0 0.4em 0.5em 0.4em;box-sizing: border-box;padding-bottom: 0.4em;background-color: white;}#sk-container-id-4 div.sk-label label {font-family: monospace;font-weight: bold;display: inline-block;line-height: 1.2em;}#sk-container-id-4 div.sk-label-container {text-align: center;}#sk-container-id-4 div.sk-container {/* jupyter's `normalize.less` sets `[hidden] { display: none; }` but bootstrap.min.css set `[hidden] { display: none !important; }` so we also need the `!important` here to be able to override the default hidden behavior on the sphinx rendered scikit-learn.org. See: https://github.com/scikit-learn/scikit-learn/issues/21755 */display: inline-block !important;position: relative;}#sk-container-id-4 div.sk-text-repr-fallback {display: none;}</style><div id=\"sk-container-id-4\" class=\"sk-top-container\"><div class=\"sk-text-repr-fallback\"><pre>DecisionTreeClassifier(random_state=42)</pre><b>In a Jupyter environment, please rerun this cell to show the HTML representation or trust the notebook. <br />On GitHub, the HTML representation is unable to render, please try loading this page with nbviewer.org.</b></div><div class=\"sk-container\" hidden><div class=\"sk-item\"><div class=\"sk-estimator sk-toggleable\"><input class=\"sk-toggleable__control sk-hidden--visually\" id=\"sk-estimator-id-4\" type=\"checkbox\" checked><label for=\"sk-estimator-id-4\" class=\"sk-toggleable__label sk-toggleable__label-arrow\">DecisionTreeClassifier</label><div class=\"sk-toggleable__content\"><pre>DecisionTreeClassifier(random_state=42)</pre></div></div></div></div></div>"
            ]
          },
          "metadata": {},
          "execution_count": 65
        }
      ]
    },
    {
      "cell_type": "code",
      "source": [
        "from sklearn.metrics import mean_squared_error, r2_score\n",
        "clf.score(X_train,y_train)"
      ],
      "metadata": {
        "colab": {
          "base_uri": "https://localhost:8080/"
        },
        "id": "vsI5ucTZlbOs",
        "outputId": "a6c94b68-7666-4e6b-95d7-8f2d13733d87"
      },
      "execution_count": 66,
      "outputs": [
        {
          "output_type": "execute_result",
          "data": {
            "text/plain": [
              "1.0"
            ]
          },
          "metadata": {},
          "execution_count": 66
        }
      ]
    },
    {
      "cell_type": "code",
      "source": [
        "\n",
        "clf.score(X_test,y_test) # Was able to get it from 21% to 30% after selecting target class with higher instances per class"
      ],
      "metadata": {
        "colab": {
          "base_uri": "https://localhost:8080/"
        },
        "id": "vxnmoWrYnQD1",
        "outputId": "afa9866a-19f7-4803-b527-d69c56871143"
      },
      "execution_count": 67,
      "outputs": [
        {
          "output_type": "execute_result",
          "data": {
            "text/plain": [
              "0.3067226890756303"
            ]
          },
          "metadata": {},
          "execution_count": 67
        }
      ]
    },
    {
      "cell_type": "markdown",
      "source": [
        ">#### Random Forest Model"
      ],
      "metadata": {
        "id": "HUwqLFbXmEed"
      }
    },
    {
      "cell_type": "code",
      "source": [
        "clf = RandomForestClassifier(random_state=42)\n",
        "clf.fit(X_train,y_train)"
      ],
      "metadata": {
        "colab": {
          "base_uri": "https://localhost:8080/",
          "height": 74
        },
        "id": "dpNCzulb7uTm",
        "outputId": "62599933-d79e-4813-bc41-506cd82d5820"
      },
      "execution_count": 68,
      "outputs": [
        {
          "output_type": "execute_result",
          "data": {
            "text/plain": [
              "RandomForestClassifier(random_state=42)"
            ],
            "text/html": [
              "<style>#sk-container-id-5 {color: black;background-color: white;}#sk-container-id-5 pre{padding: 0;}#sk-container-id-5 div.sk-toggleable {background-color: white;}#sk-container-id-5 label.sk-toggleable__label {cursor: pointer;display: block;width: 100%;margin-bottom: 0;padding: 0.3em;box-sizing: border-box;text-align: center;}#sk-container-id-5 label.sk-toggleable__label-arrow:before {content: \"▸\";float: left;margin-right: 0.25em;color: #696969;}#sk-container-id-5 label.sk-toggleable__label-arrow:hover:before {color: black;}#sk-container-id-5 div.sk-estimator:hover label.sk-toggleable__label-arrow:before {color: black;}#sk-container-id-5 div.sk-toggleable__content {max-height: 0;max-width: 0;overflow: hidden;text-align: left;background-color: #f0f8ff;}#sk-container-id-5 div.sk-toggleable__content pre {margin: 0.2em;color: black;border-radius: 0.25em;background-color: #f0f8ff;}#sk-container-id-5 input.sk-toggleable__control:checked~div.sk-toggleable__content {max-height: 200px;max-width: 100%;overflow: auto;}#sk-container-id-5 input.sk-toggleable__control:checked~label.sk-toggleable__label-arrow:before {content: \"▾\";}#sk-container-id-5 div.sk-estimator input.sk-toggleable__control:checked~label.sk-toggleable__label {background-color: #d4ebff;}#sk-container-id-5 div.sk-label input.sk-toggleable__control:checked~label.sk-toggleable__label {background-color: #d4ebff;}#sk-container-id-5 input.sk-hidden--visually {border: 0;clip: rect(1px 1px 1px 1px);clip: rect(1px, 1px, 1px, 1px);height: 1px;margin: -1px;overflow: hidden;padding: 0;position: absolute;width: 1px;}#sk-container-id-5 div.sk-estimator {font-family: monospace;background-color: #f0f8ff;border: 1px dotted black;border-radius: 0.25em;box-sizing: border-box;margin-bottom: 0.5em;}#sk-container-id-5 div.sk-estimator:hover {background-color: #d4ebff;}#sk-container-id-5 div.sk-parallel-item::after {content: \"\";width: 100%;border-bottom: 1px solid gray;flex-grow: 1;}#sk-container-id-5 div.sk-label:hover label.sk-toggleable__label {background-color: #d4ebff;}#sk-container-id-5 div.sk-serial::before {content: \"\";position: absolute;border-left: 1px solid gray;box-sizing: border-box;top: 0;bottom: 0;left: 50%;z-index: 0;}#sk-container-id-5 div.sk-serial {display: flex;flex-direction: column;align-items: center;background-color: white;padding-right: 0.2em;padding-left: 0.2em;position: relative;}#sk-container-id-5 div.sk-item {position: relative;z-index: 1;}#sk-container-id-5 div.sk-parallel {display: flex;align-items: stretch;justify-content: center;background-color: white;position: relative;}#sk-container-id-5 div.sk-item::before, #sk-container-id-5 div.sk-parallel-item::before {content: \"\";position: absolute;border-left: 1px solid gray;box-sizing: border-box;top: 0;bottom: 0;left: 50%;z-index: -1;}#sk-container-id-5 div.sk-parallel-item {display: flex;flex-direction: column;z-index: 1;position: relative;background-color: white;}#sk-container-id-5 div.sk-parallel-item:first-child::after {align-self: flex-end;width: 50%;}#sk-container-id-5 div.sk-parallel-item:last-child::after {align-self: flex-start;width: 50%;}#sk-container-id-5 div.sk-parallel-item:only-child::after {width: 0;}#sk-container-id-5 div.sk-dashed-wrapped {border: 1px dashed gray;margin: 0 0.4em 0.5em 0.4em;box-sizing: border-box;padding-bottom: 0.4em;background-color: white;}#sk-container-id-5 div.sk-label label {font-family: monospace;font-weight: bold;display: inline-block;line-height: 1.2em;}#sk-container-id-5 div.sk-label-container {text-align: center;}#sk-container-id-5 div.sk-container {/* jupyter's `normalize.less` sets `[hidden] { display: none; }` but bootstrap.min.css set `[hidden] { display: none !important; }` so we also need the `!important` here to be able to override the default hidden behavior on the sphinx rendered scikit-learn.org. See: https://github.com/scikit-learn/scikit-learn/issues/21755 */display: inline-block !important;position: relative;}#sk-container-id-5 div.sk-text-repr-fallback {display: none;}</style><div id=\"sk-container-id-5\" class=\"sk-top-container\"><div class=\"sk-text-repr-fallback\"><pre>RandomForestClassifier(random_state=42)</pre><b>In a Jupyter environment, please rerun this cell to show the HTML representation or trust the notebook. <br />On GitHub, the HTML representation is unable to render, please try loading this page with nbviewer.org.</b></div><div class=\"sk-container\" hidden><div class=\"sk-item\"><div class=\"sk-estimator sk-toggleable\"><input class=\"sk-toggleable__control sk-hidden--visually\" id=\"sk-estimator-id-5\" type=\"checkbox\" checked><label for=\"sk-estimator-id-5\" class=\"sk-toggleable__label sk-toggleable__label-arrow\">RandomForestClassifier</label><div class=\"sk-toggleable__content\"><pre>RandomForestClassifier(random_state=42)</pre></div></div></div></div></div>"
            ]
          },
          "metadata": {},
          "execution_count": 68
        }
      ]
    },
    {
      "cell_type": "code",
      "source": [
        "clf.score(X_train,y_train)"
      ],
      "metadata": {
        "colab": {
          "base_uri": "https://localhost:8080/"
        },
        "id": "BszQI_tm-sKf",
        "outputId": "0f0949f4-e111-494b-86dc-727c8f8aa7f8"
      },
      "execution_count": 84,
      "outputs": [
        {
          "output_type": "execute_result",
          "data": {
            "text/plain": [
              "1.0"
            ]
          },
          "metadata": {},
          "execution_count": 84
        }
      ]
    },
    {
      "cell_type": "code",
      "source": [
        "clf.score(X_test,y_test) # Was able to get it from 27% to 38.9% after selecting target class with higher instances per class"
      ],
      "metadata": {
        "colab": {
          "base_uri": "https://localhost:8080/"
        },
        "id": "ubYkwP5S-zAo",
        "outputId": "fa7bf718-5cb9-4009-cf19-ef3b4f9c75da"
      },
      "execution_count": 71,
      "outputs": [
        {
          "output_type": "execute_result",
          "data": {
            "text/plain": [
              "0.3897058823529412"
            ]
          },
          "metadata": {},
          "execution_count": 71
        }
      ]
    },
    {
      "cell_type": "code",
      "source": [
        "pipelines = {\n",
        "   \"StandardScaler_LogisticRegression\": Pipeline([\n",
        "       (\"scaler\", StandardScaler()),\n",
        "       (\"classifier\", LogisticRegression(random_state=42,solver='lbfgs', max_iter=30000))\n",
        "   ]),\n",
        "   \"RobustScaler_LogisticRegression\": Pipeline([\n",
        "       (\"scaler\", RobustScaler()),\n",
        "       (\"classifier\", LogisticRegression(random_state=42,solver='lbfgs', max_iter=30000))\n",
        "   ]),\n",
        "   \"StandardScaler_RandomForestClassifier\": Pipeline([\n",
        "       (\"scaler\", StandardScaler()),\n",
        "       (\"classifier\", RandomForestClassifier())\n",
        "   ]),\n",
        "   \"RobustScaler_RandomForestClassifier\": Pipeline([\n",
        "       (\"scaler\", RobustScaler()),\n",
        "       (\"classifier\", RandomForestClassifier())\n",
        "   ]),\n",
        "   \"StandardScaler_DecisionTreeClassifier\": Pipeline([\n",
        "       (\"scaler\", StandardScaler()),\n",
        "       (\"classifier\", DecisionTreeClassifier(random_state=42))\n",
        "   ]),\n",
        "   \"RobustScaler_DecisionTreeClassifier\": Pipeline([\n",
        "       (\"scaler\", RobustScaler()),\n",
        "       (\"classifier\", DecisionTreeClassifier(random_state=42))\n",
        "\n",
        "   ])\n",
        "}"
      ],
      "metadata": {
        "id": "7QFlkpqfUezv"
      },
      "execution_count": 73,
      "outputs": []
    },
    {
      "cell_type": "code",
      "source": [
        "pipelines.get(\"RobustScaler_RandomForestClassifier\").fit(X_train,y_train).score(X_test,y_test) # Increases from 38.9% to 39.4%"
      ],
      "metadata": {
        "colab": {
          "base_uri": "https://localhost:8080/"
        },
        "id": "nlrHCB1oVQfa",
        "outputId": "1160695f-454f-43f5-cf7f-72588f7ccbff"
      },
      "execution_count": 75,
      "outputs": [
        {
          "output_type": "execute_result",
          "data": {
            "text/plain": [
              "0.3939075630252101"
            ]
          },
          "metadata": {},
          "execution_count": 75
        }
      ]
    },
    {
      "cell_type": "code",
      "source": [
        "pipelines.get(\"StandardScaler_LogisticRegression\").fit(X_train,y_train).score(X_test,y_test) # Increases from 39.5% to 41.5%"
      ],
      "metadata": {
        "colab": {
          "base_uri": "https://localhost:8080/"
        },
        "id": "f092efroVT6h",
        "outputId": "2543d1e6-2edb-4e35-ce3b-ef563303ec89"
      },
      "execution_count": 76,
      "outputs": [
        {
          "output_type": "execute_result",
          "data": {
            "text/plain": [
              "0.41491596638655465"
            ]
          },
          "metadata": {},
          "execution_count": 76
        }
      ]
    },
    {
      "cell_type": "code",
      "source": [
        "pipelines.get(\"RobustScaler_LogisticRegression\").fit(X_train,y_train).score(X_test,y_test) # Increases from  21.1 to 41.4%"
      ],
      "metadata": {
        "colab": {
          "base_uri": "https://localhost:8080/"
        },
        "id": "pqkCbvjsVlbq",
        "outputId": "56f64d61-45a3-4eee-f9b1-6eac685a4747"
      },
      "execution_count": 77,
      "outputs": [
        {
          "output_type": "execute_result",
          "data": {
            "text/plain": [
              "0.41386554621848737"
            ]
          },
          "metadata": {},
          "execution_count": 77
        }
      ]
    },
    {
      "cell_type": "code",
      "source": [
        "pipelines.get(\"StandardScaler_DecisionTreeClassifier\").fit(X_train,y_train).score(X_test,y_test) # No change"
      ],
      "metadata": {
        "id": "ZxIbPqWYbQCQ",
        "outputId": "e96715b3-ab20-4820-c139-852319aa9ad1",
        "colab": {
          "base_uri": "https://localhost:8080/"
        }
      },
      "execution_count": 79,
      "outputs": [
        {
          "output_type": "execute_result",
          "data": {
            "text/plain": [
              "0.30357142857142855"
            ]
          },
          "metadata": {},
          "execution_count": 79
        }
      ]
    },
    {
      "cell_type": "code",
      "source": [
        "pipelines.get(\"RobustScaler_DecisionTreeClassifier\").fit(X_train,y_train).score(X_test,y_test) # No change"
      ],
      "metadata": {
        "id": "LikEVjowcUAx",
        "outputId": "cec5d829-dfc3-45c1-8c66-e78d40245379",
        "colab": {
          "base_uri": "https://localhost:8080/"
        }
      },
      "execution_count": 80,
      "outputs": [
        {
          "output_type": "execute_result",
          "data": {
            "text/plain": [
              "0.30357142857142855"
            ]
          },
          "metadata": {},
          "execution_count": 80
        }
      ]
    },
    {
      "cell_type": "code",
      "source": [],
      "metadata": {
        "colab": {
          "base_uri": "https://localhost:8080/",
          "height": 146
        },
        "id": "8VX_sAPiTtyd",
        "outputId": "e9c6179a-2a7a-474e-96c6-689686d67f87"
      },
      "execution_count": 83,
      "outputs": [
        {
          "output_type": "error",
          "ename": "AttributeError",
          "evalue": "'Pipeline' object has no attribute 'f2_score'",
          "traceback": [
            "\u001b[0;31m---------------------------------------------------------------------------\u001b[0m",
            "\u001b[0;31mAttributeError\u001b[0m                            Traceback (most recent call last)",
            "\u001b[0;32m<ipython-input-83-53f51eb80d3f>\u001b[0m in \u001b[0;36m<cell line: 1>\u001b[0;34m()\u001b[0m\n\u001b[0;32m----> 1\u001b[0;31m \u001b[0mpipelines\u001b[0m\u001b[0;34m.\u001b[0m\u001b[0mget\u001b[0m\u001b[0;34m(\u001b[0m\u001b[0;34m\"RobustScaler_DecisionTreeClassifier\"\u001b[0m\u001b[0;34m)\u001b[0m\u001b[0;34m.\u001b[0m\u001b[0mf2_score\u001b[0m\u001b[0;34m(\u001b[0m\u001b[0mX_test\u001b[0m\u001b[0;34m,\u001b[0m\u001b[0my_test\u001b[0m\u001b[0;34m)\u001b[0m\u001b[0;34m\u001b[0m\u001b[0;34m\u001b[0m\u001b[0m\n\u001b[0m",
            "\u001b[0;31mAttributeError\u001b[0m: 'Pipeline' object has no attribute 'f2_score'"
          ]
        }
      ]
    }
  ]
}